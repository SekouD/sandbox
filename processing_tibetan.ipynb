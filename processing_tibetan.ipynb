{
 "metadata": {
  "name": "",
  "signature": "sha256:de2851a0c0ecc0cd5f5796a41972c55d91d397af6e55fd3b0dcbdf371196fab5"
 },
 "nbformat": 3,
 "nbformat_minor": 0,
 "worksheets": [
  {
   "cells": [
    {
     "cell_type": "code",
     "collapsed": false,
     "input": [
      "import re"
     ],
     "language": "python",
     "metadata": {},
     "outputs": [],
     "prompt_number": 4
    },
    {
     "cell_type": "code",
     "collapsed": false,
     "input": [
      "def add_tsheg(line_list):\n",
      "    '''\n",
      "    takes as input a list of text splitted at the tshek.\n",
      "    It deals with the final \u0f0d and the extra tshek added to \u0f44\u0f0b\n",
      "    '''\n",
      "    to_del = 0\n",
      "    for s in range(len(line_list)):\n",
      "        if line_list[s].endswith(\"\u0f0d\") or line_list[s].endswith(\"\u0f0d \") or line_list[s].endswith(\"_\")or line_list[s].endswith(\" \") or line_list[s] == \"\":\n",
      "            s = s\n",
      "        elif line_list[s].endswith(\"\u0f44\") and line_list[s+1].startswith(\"\u0f0d\"):\n",
      "            line_list[s] = line_list[s]+\"\u0f0b\"+line_list[s+1]\n",
      "            to_del = s+1\n",
      "        else:\n",
      "            line_list[s] += \"\u0f0b\"\n",
      "    if to_del != 0:\n",
      "        del line_list[to_del]\n",
      "    return line_list\n",
      "\n",
      "print(add_tsheg(\"\u0f0d\u0f56\u0f45\u0f7c\u0f58\u0f0b\u0f63\u0fa1\u0f53\u0f0b\u0f60\u0f51\u0f66\u0f0b\u0f51\u0f7a\u0f60\u0f72\u0f0b\u0f5a\u0f7a\u0f0b\u0f53\u0f0b\u0f5a\u0f7a\u0f0b\u0f51\u0f44\u0f0b\u0f63\u0fa1\u0f53\u0f0b\u0f54\u0f0b\u0f40\u0f74\u0f53\u0f0b\u0f51\u0f42\u0f44\u0f0b\u0f0d\u0f40\u0f74\u0f53 \u0f0b\u0f40\u0f74\u0f53\u0f0b\".split(\"\u0f0b\")))"
     ],
     "language": "python",
     "metadata": {},
     "outputs": [
      {
       "output_type": "stream",
       "stream": "stdout",
       "text": [
        "['\u0f0d\u0f56\u0f45\u0f7c\u0f58\u0f0b', '\u0f63\u0fa1\u0f53\u0f0b', '\u0f60\u0f51\u0f66\u0f0b', '\u0f51\u0f7a\u0f60\u0f72\u0f0b', '\u0f5a\u0f7a\u0f0b', '\u0f53\u0f0b', '\u0f5a\u0f7a\u0f0b', '\u0f51\u0f44\u0f0b', '\u0f63\u0fa1\u0f53\u0f0b', '\u0f54\u0f0b', '\u0f40\u0f74\u0f53\u0f0b', '\u0f51\u0f42\u0f44\u0f0b\u0f0d\u0f40\u0f74\u0f53 ', '\u0f40\u0f74\u0f53\u0f0b', '']\n"
       ]
      }
     ],
     "prompt_number": 2
    },
    {
     "cell_type": "code",
     "collapsed": false,
     "input": [
      "def joinedword_list(word, line):\n",
      "    '''\n",
      "    splits by tsheks a tibetan string(line)\n",
      "    splits by tsheks a given multi-syllabled tibetan word \n",
      "    puts together the syllables of the word in the splitted string\n",
      "    '''\n",
      "    word_syllables = []\n",
      "    if \"\u0f0b\" in word:\n",
      "        if word.endswith(\"\u0f0b\"):\n",
      "            word_syllables = word.split(\"\u0f0b\")\n",
      "            del(word_syllables[len(word_syllables)-1])    \n",
      "        else:\n",
      "            word_syllables = word.split(\"\u0f0b\")\n",
      "    word_syllables = add_tsheg(word_syllables)\n",
      "    \n",
      "    syllabled = line.split(\"\u0f0b\")\n",
      "    syllabled = add_tsheg(syllabled)\n",
      "    occurences = []\n",
      "    for s in range(len(syllabled)-len(word_syllables)):\n",
      "        temp = []\n",
      "        for m in range(len(word_syllables)):\n",
      "            if word_syllables[m] == syllabled[s+m].strip(\"\u0f0d\"):#\n",
      "                temp.append(s+m)\n",
      "        if len(temp) == len(word_syllables):\n",
      "            up = temp[0]\n",
      "            down = temp[len(temp)-1]\n",
      "            occurences.append((up,\"\".join(syllabled[up:down+1])))\n",
      "    # replace first syllable with joined word\n",
      "    for o in range(len(occurences)):\n",
      "        syllabled[occurences[o][0]] = occurences[o][1]\n",
      "    \n",
      "    number = len(word_syllables)-1\n",
      "    no = 0\n",
      "    for o in range(len(occurences)):\n",
      "        for i in range(number):\n",
      "            del syllabled[occurences[o][0]+1-o-no]\n",
      "        no = no+1\n",
      "    return syllabled\n",
      "\n",
      "line = \"\u0f0d\u0f56\u0f45\u0f7c\u0f58\u0f0b\u0f63\u0fa1\u0f53\u0f0b\u0f60\u0f51\u0f66\u0f0b\u0f51\u0f7a\u0f60\u0f72\u0f0b\u0f5a\u0f7a\u0f0b\u0f53\u0f0b\u0f5a\u0f7a\u0f0b\u0f51\u0f44\u0f0b\u0f63\u0fa1\u0f53\u0f0b\u0f54\u0f0b\u0f40\u0f74\u0f53\u0f0b\u0f51\u0f42\u0f60\u0f0b\u0f56\u0f7c\u0f0b\u0f56\u0f45\u0f7c\u0f58\u0f0b\u0f63\u0fa1\u0f53\u0f0b\u0f60\u0f51\u0f66\u0f0b\u0f40\u0fb1\u0f72\u0f0b\u0f66\u0fa3\u0f58\u0f0b\u0f63\u0f7c\u0f42\u0f66\u0f0b\u0f53\u0f0b\u0f56\u0f66\u0f72\u0f63\u0f0b\u0f61\u0f56\u0f0b\u0f50\u0f7c\u0f42\u0f66\u0f0b\u0f4f\u0f7a\u0f0b\u0f56\u0f45\u0f7c\u0f58\u0f0b\u0f63\u0fa1\u0f53\u0f0b\u0f60\u0f51\u0f66\u0f0b\u0f63\u0f0b\u0f56\u0f66\u0f72\u0f63\u0f0b\u0f61\u0f56\u0f0b\u0f40\u0fb1\u0f72\u0f66\u0f0b\u0f42\u0f61\u0f7c\u0f56\u0f0b\u0f45\u0f72\u0f44\u0f0b\u0f60\u0f51\u0f74\u0f42\u0f0b\u0f56\u0f45\u0f7c\u0f58\u0f0b\u0f63\u0fa1\u0f53\u0f0b\u0f60\u0f51\u0f66\u0f0b\"\n",
      "word = \"\u0f56\u0f45\u0f7c\u0f58\u0f0b\u0f63\u0fa1\u0f53\u0f0b\u0f60\u0f51\u0f66\u0f0b\"\n",
      "print(joinedword_list(word, line))"
     ],
     "language": "python",
     "metadata": {},
     "outputs": [
      {
       "output_type": "stream",
       "stream": "stdout",
       "text": [
        "['\u0f0d\u0f56\u0f45\u0f7c\u0f58\u0f0b\u0f63\u0fa1\u0f53\u0f0b\u0f60\u0f51\u0f66\u0f0b', '\u0f51\u0f7a\u0f60\u0f72\u0f0b', '\u0f5a\u0f7a\u0f0b', '\u0f53\u0f0b', '\u0f5a\u0f7a\u0f0b', '\u0f51\u0f44\u0f0b', '\u0f63\u0fa1\u0f53\u0f0b', '\u0f54\u0f0b', '\u0f40\u0f74\u0f53\u0f0b', '\u0f51\u0f42\u0f60\u0f0b', '\u0f56\u0f7c\u0f0b', '\u0f56\u0f45\u0f7c\u0f58\u0f0b\u0f63\u0fa1\u0f53\u0f0b\u0f60\u0f51\u0f66\u0f0b', '\u0f40\u0fb1\u0f72\u0f0b', '\u0f66\u0fa3\u0f58\u0f0b', '\u0f63\u0f7c\u0f42\u0f66\u0f0b', '\u0f53\u0f0b', '\u0f56\u0f66\u0f72\u0f63\u0f0b', '\u0f61\u0f56\u0f0b', '\u0f50\u0f7c\u0f42\u0f66\u0f0b', '\u0f4f\u0f7a\u0f0b', '\u0f56\u0f45\u0f7c\u0f58\u0f0b\u0f63\u0fa1\u0f53\u0f0b\u0f60\u0f51\u0f66\u0f0b', '\u0f63\u0f0b', '\u0f56\u0f66\u0f72\u0f63\u0f0b', '\u0f61\u0f56\u0f0b', '\u0f40\u0fb1\u0f72\u0f66\u0f0b', '\u0f42\u0f61\u0f7c\u0f56\u0f0b', '\u0f45\u0f72\u0f44\u0f0b', '\u0f60\u0f51\u0f74\u0f42\u0f0b', '\u0f56\u0f45\u0f7c\u0f58\u0f0b\u0f63\u0fa1\u0f53\u0f0b\u0f60\u0f51\u0f66\u0f0b', '']\n"
       ]
      }
     ],
     "prompt_number": 23
    },
    {
     "cell_type": "code",
     "collapsed": false,
     "input": [
      "# punct + numbers\n",
      "punct = [\"(\", \")\", \"\u201c\", \"\u201d\", \"?\", \"\u0f04\", \"\u0f05\", \"\u0f0d\", \"\u0f11\", \"\u0f3c\", \"\u0f3d\", \"\u0f21\", \"\u0f22\", \"\u0f23\", \"\u0f24\", \"\u0f25\", \"\u0f26\", \"\u0f27\", \"\u0f28\", \"\u0f29\", \"\u0f20\"]"
     ],
     "language": "python",
     "metadata": {},
     "outputs": [],
     "prompt_number": 24
    },
    {
     "cell_type": "code",
     "collapsed": false,
     "input": [
      "# takes strings in a line, eliminates all the punctuation, \n",
      "# splits it by tshek and returns the list of the line\n",
      "line = \"\u0f0d\u0f56\u0f45\u0f7c\u0f58\u0f0b\u0f63\u0fa1\u0f53\u0f0b\u0f60\u0f51\u0f66\u0f0b\u0f51\u0f7a\u0f60\u0f72\u0f0b\u0f5a\u0f7a\u0f0b\u0f53\u0f0b\u0f5a\u0f7a\u0f0b\u0f51\u0f44\u0f0b\u0f63\u0fa1\u0f53\u0f0b\u0f54\u0f0b\u0f40\u0f74\u0f53\u0f0b\u0f51\u0f42\u0f60\u0f0b\u0f56\u0f7c\u0f0b\u0f56\u0f45\u0f7c\u0f58\u0f0b\u0f63\u0fa1\u0f53\u0f0b\u0f60\u0f51\u0f66\u0f0b\u0f40\u0fb1\u0f72\u0f0b\u0f66\u0fa3\u0f58\u0f0b\u0f63\u0f7c\u0f42\u0f66\u0f0b\u0f53\u0f0b\u0f56\u0f66\u0f72\u0f63\u0f0b\u0f61\u0f56\u0f0b\u0f50\u0f7c\u0f42\u0f66\u0f0b\u0f4f\u0f7a\u0f0b\u0f56\u0f45\u0f7c\u0f58\u0f0b\u0f63\u0fa1\u0f53\u0f0b\u0f60\u0f51\u0f66\u0f0b\u0f63\u0f0b\u0f56\u0f66\u0f72\u0f63\u0f0b\u0f61\u0f56\u0f0b\u0f40\u0fb1\u0f72\u0f66\u0f0b\u0f42\u0f61\u0f7c\u0f56\u0f0b\u0f45\u0f72\u0f44\u0f0b\u0f60\u0f51\u0f74\u0f42\u0f0b\u0f56\u0f45\u0f7c\u0f58\u0f0b\u0f63\u0fa1\u0f53\u0f0b\u0f60\u0f51\u0f66\u0f0b\"\n",
      "text = [line, line] # test data\n",
      "for line in text:\n",
      "    line_clean = re.sub(r'[()\u201c\u201d?\u0f04\u0f05\u0f0d\u0f11\u0f3c\u0f3d\u0f21\u0f22\u0f23\u0f24\u0f25\u0f26\u0f27\u0f28\u0f29\u0f20]', '', line)\n",
      "    clauses = line_clean.strip().split()\n",
      "    for clause in clauses:\n",
      "        syls = clause.strip().split('\u0f0b')\n",
      "        print(syls)"
     ],
     "language": "python",
     "metadata": {},
     "outputs": [
      {
       "output_type": "stream",
       "stream": "stdout",
       "text": [
        "['\u0f56\u0f45\u0f7c\u0f58', '\u0f63\u0fa1\u0f53', '\u0f60\u0f51\u0f66', '\u0f51\u0f7a\u0f60\u0f72', '\u0f5a\u0f7a', '\u0f53', '\u0f5a\u0f7a', '\u0f51\u0f44', '\u0f63\u0fa1\u0f53', '\u0f54', '\u0f40\u0f74\u0f53', '\u0f51\u0f42\u0f60', '\u0f56\u0f7c', '\u0f56\u0f45\u0f7c\u0f58', '\u0f63\u0fa1\u0f53', '\u0f60\u0f51\u0f66', '\u0f40\u0fb1\u0f72', '\u0f66\u0fa3\u0f58', '\u0f63\u0f7c\u0f42\u0f66', '\u0f53', '\u0f56\u0f66\u0f72\u0f63', '\u0f61\u0f56', '\u0f50\u0f7c\u0f42\u0f66', '\u0f4f\u0f7a', '\u0f56\u0f45\u0f7c\u0f58', '\u0f63\u0fa1\u0f53', '\u0f60\u0f51\u0f66', '\u0f63', '\u0f56\u0f66\u0f72\u0f63', '\u0f61\u0f56', '\u0f40\u0fb1\u0f72\u0f66', '\u0f42\u0f61\u0f7c\u0f56', '\u0f45\u0f72\u0f44', '\u0f60\u0f51\u0f74\u0f42', '\u0f56\u0f45\u0f7c\u0f58', '\u0f63\u0fa1\u0f53', '\u0f60\u0f51\u0f66', '']\n",
        "['\u0f56\u0f45\u0f7c\u0f58', '\u0f63\u0fa1\u0f53', '\u0f60\u0f51\u0f66', '\u0f51\u0f7a\u0f60\u0f72', '\u0f5a\u0f7a', '\u0f53', '\u0f5a\u0f7a', '\u0f51\u0f44', '\u0f63\u0fa1\u0f53', '\u0f54', '\u0f40\u0f74\u0f53', '\u0f51\u0f42\u0f60', '\u0f56\u0f7c', '\u0f56\u0f45\u0f7c\u0f58', '\u0f63\u0fa1\u0f53', '\u0f60\u0f51\u0f66', '\u0f40\u0fb1\u0f72', '\u0f66\u0fa3\u0f58', '\u0f63\u0f7c\u0f42\u0f66', '\u0f53', '\u0f56\u0f66\u0f72\u0f63', '\u0f61\u0f56', '\u0f50\u0f7c\u0f42\u0f66', '\u0f4f\u0f7a', '\u0f56\u0f45\u0f7c\u0f58', '\u0f63\u0fa1\u0f53', '\u0f60\u0f51\u0f66', '\u0f63', '\u0f56\u0f66\u0f72\u0f63', '\u0f61\u0f56', '\u0f40\u0fb1\u0f72\u0f66', '\u0f42\u0f61\u0f7c\u0f56', '\u0f45\u0f72\u0f44', '\u0f60\u0f51\u0f74\u0f42', '\u0f56\u0f45\u0f7c\u0f58', '\u0f63\u0fa1\u0f53', '\u0f60\u0f51\u0f66', '']\n"
       ]
      }
     ],
     "prompt_number": 6
    },
    {
     "cell_type": "code",
     "collapsed": false,
     "input": [
      "def strip_returns(text):\n",
      "    '''\n",
      "    requires re\n",
      "    strips off return characters\n",
      "    '''\n",
      "    text = re.sub(r'\\r\\n', '', text)\n",
      "    return text"
     ],
     "language": "python",
     "metadata": {},
     "outputs": [],
     "prompt_number": 26
    },
    {
     "cell_type": "code",
     "collapsed": false,
     "input": [
      "def strip_punct(string):\n",
      "    ''' \n",
      "    requires re\n",
      "    strips the puntuation and spaces from Tibetan text\n",
      "    '''\n",
      "    string = re.sub('\u0f0d', '\u0f0b', string)\n",
      "    string = re.sub('\u0f0b+', '\u0f0b', string)\n",
      "    string = re.sub(' ', '', string)\n",
      "    return string"
     ],
     "language": "python",
     "metadata": {},
     "outputs": [],
     "prompt_number": 27
    },
    {
     "cell_type": "code",
     "collapsed": false,
     "input": [
      "def rejoin_string(splitted_string):\n",
      "    '''\n",
      "    requires re\n",
      "    from a tuple containing syllables to a string of normal Tibetan\n",
      "    '''\n",
      "    line = '\u0f0b'.join(splitted_string)+'\u0f0b' # join with thsek and add one at the end\n",
      "    line = re.sub('\u0f0b+', '\u0f0b', line)       # get rid of double thseks\n",
      "    line = re.sub('^\u0f0b', '', line)       # get rid of initial thseks\n",
      "    return line"
     ],
     "language": "python",
     "metadata": {},
     "outputs": [],
     "prompt_number": 28
    },
    {
     "cell_type": "code",
     "collapsed": false,
     "input": [],
     "language": "python",
     "metadata": {},
     "outputs": []
    }
   ],
   "metadata": {}
  }
 ]
}