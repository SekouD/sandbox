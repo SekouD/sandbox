{
 "cells": [
  {
   "cell_type": "code",
   "execution_count": 8,
   "metadata": {
    "collapsed": false
   },
   "outputs": [],
   "source": [
    "class prepareTib:\n",
    "    ''' Dealing with the punctuation of Tibetan '''\n",
    "\n",
    "    def __init__(self, tibstring):\n",
    "        self.raw = tibstring\n",
    "        self.punct = [\" \", \"༄\", \"༅\", \"࿓\", \"࿔\", \"༇\", \"༆\", \"༈\", \"།\", \"༎\", \"༏\", \"༐\", \"༑\", \"༔\",\"་\", \"༌\", \"༼\", \"༽\", \"༒\", \"༓\", \"ཿ\"]\n",
    "    \n",
    "    def gen_tuples(self):\n",
    "        syllables = []\n",
    "        puncts = []\n",
    "        syl = ''\n",
    "        for index, char in enumerate(self.raw):\n",
    "            if index == 0:\n",
    "                if char in self.punct:\n",
    "                    puncts.append(char)\n",
    "                else:\n",
    "                    syl += char\n",
    "            else:\n",
    "                if char not in self.punct and self.raw[index-1] in self.punct:\n",
    "                    syllables.append((syl, puncts))\n",
    "                    puncts = []\n",
    "                    syl = char\n",
    "                elif char not in self.punct:\n",
    "                    syl += char\n",
    "                elif char in self.punct:\n",
    "                    puncts.append(char)\n",
    "        # add last syllable + its punctuation\n",
    "        if syl != '':\n",
    "            syllables.append((syl, puncts))  \n",
    "        return syllables\n",
    "    \n",
    "    def syl_tuples(self):\n",
    "        tuples = prepareTib.gen_tuples(self)\n",
    "        return [(t[0], ''.join(t[1])) for t in tuples]\n",
    "    \n",
    "    def all_punct(self):\n",
    "        tuples = prepareTib.syl_tuples(self)\n",
    "        return [t[0]+t[1] for t in tuples]\n",
    "    \n",
    "    def syls_only(self):\n",
    "        tuples = prepareTib.gen_tuples(self)\n",
    "        return [t[0] for t in tuples]\n",
    "    \n",
    "    def tsheks_only(self):\n",
    "        tuples = prepareTib.syl_tuples(self)\n",
    "        return [t[0]+'་' for t in tuples]\n",
    "    \n",
    "    def no_tshek(self):\n",
    "        tuples = prepareTib.syl_tuples(self)\n",
    "        no_tshek = []\n",
    "        for t in tuples:\n",
    "            if '་' in t[1]:\n",
    "                no_tshek.append(t[0]+t[1].replace('་', ''))\n",
    "            else :\n",
    "                no_tshek.append(t[0]+t[1])\n",
    "        return no_tshek"
   ]
  },
  {
   "cell_type": "code",
   "execution_count": null,
   "metadata": {
    "collapsed": true
   },
   "outputs": [],
   "source": []
  }
 ],
 "metadata": {
  "kernelspec": {
   "display_name": "Python 3",
   "language": "python",
   "name": "python3"
  },
  "language_info": {
   "codemirror_mode": {
    "name": "ipython",
    "version": 3
   },
   "file_extension": ".py",
   "mimetype": "text/x-python",
   "name": "python",
   "nbconvert_exporter": "python",
   "pygments_lexer": "ipython3",
   "version": "3.5.1"
  }
 },
 "nbformat": 4,
 "nbformat_minor": 0
}
