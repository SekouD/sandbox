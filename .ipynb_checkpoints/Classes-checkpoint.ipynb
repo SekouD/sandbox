{
 "cells": [
  {
   "cell_type": "code",
   "execution_count": 7,
   "metadata": {
    "collapsed": false
   },
   "outputs": [
    {
     "name": "stdout",
     "output_type": "stream",
     "text": [
      "('ར', ['འ', ''])\n"
     ]
    }
   ],
   "source": [
    "punctuation = [\" \", \"༄\", \"༅\", \"࿓\", \"࿔\", \"༇\", \"༆\", \"༈\", \"།\", \"༎\", \"༏\", \"༐\", \"༑\", \"༔\",\"་\", \"༌\", \"༼\", \"༽\", \"༒\", \"༓\", \"ཿ\"]\n",
    "\n",
    "merging_particles = [\n",
    "(\"འི\", [\"འ\", \"\"]),\n",
    "(\"འིས\", [\"འ\", \"\"]),\n",
    "(\"ས\", [\"འ\", \"\"]),\n",
    "(\"ར\", [\"འ\", \"\"]),\n",
    "(\"འང\", [\"འ\", \"\"]),\n",
    "(\"འམ\", [\"འ\", \"\"]),\n",
    "(\"འོ\", [\"འ\", \"\"])]\n",
    "print(merging_particles[3])"
   ]
  },
  {
   "cell_type": "code",
   "execution_count": 4,
   "metadata": {
    "collapsed": false
   },
   "outputs": [],
   "source": [
    "class prepareTib:\n",
    "    ''' Dealing with the punctuation of Tibetan '''\n",
    "\n",
    "    def __init__(self, tibstring):\n",
    "        self.raw = tibstring\n",
    "        self.punct = punctuation\n",
    "    \n",
    "    def gen_tuples(self):\n",
    "        syllables = []\n",
    "        puncts = []\n",
    "        syl = ''\n",
    "        for index, char in enumerate(self.raw):\n",
    "            if index == 0:\n",
    "                if char in self.punct:\n",
    "                    puncts.append(char)\n",
    "                else:\n",
    "                    syl += char\n",
    "            else:\n",
    "                if char not in self.punct and self.raw[index-1] in self.punct:\n",
    "                    syllables.append((syl, puncts))\n",
    "                    puncts = []\n",
    "                    syl = char\n",
    "                elif char not in self.punct:\n",
    "                    syl += char\n",
    "                elif char in self.punct:\n",
    "                    puncts.append(char)\n",
    "        # add last syllable + its punctuation\n",
    "        if syl != '':\n",
    "            syllables.append((syl, puncts))  \n",
    "        return syllables\n",
    "    \n",
    "    def syl_tuples(self):\n",
    "        tuples = prepareTib.gen_tuples(self)\n",
    "        return [(t[0], ''.join(t[1])) for t in tuples]\n",
    "    \n",
    "    def all_punct(self):\n",
    "        tuples = prepareTib.syl_tuples(self)\n",
    "        return [t[0]+t[1] for t in tuples]\n",
    "    \n",
    "    def syls_only(self):\n",
    "        tuples = prepareTib.gen_tuples(self)\n",
    "        return [t[0] for t in tuples]\n",
    "    \n",
    "    def tsheks_only(self):\n",
    "        tuples = prepareTib.syl_tuples(self)\n",
    "        return [t[0]+'་' for t in tuples]\n",
    "    \n",
    "    def no_tshek(self):\n",
    "        tuples = prepareTib.syl_tuples(self)\n",
    "        no_tshek = []\n",
    "        for t in tuples:\n",
    "            if '་' in t[1]:\n",
    "                no_tshek.append(t[0]+t[1].replace('་', ''))\n",
    "            else :\n",
    "                no_tshek.append(t[0]+t[1])\n",
    "        return no_tshek"
   ]
  },
  {
   "cell_type": "code",
   "execution_count": 5,
   "metadata": {
    "collapsed": false
   },
   "outputs": [
    {
     "name": "stdout",
     "output_type": "stream",
     "text": [
      "[('', '༄༅།། །།'), ('བཅོམ', '་'), ('ལྡན', '་'), ('འདས', '་'), ('དེའི', '་'), ('ཚེ', '་'), ('ན', '་'), ('ཚེ', '་'), ('དང', '་'), ('ལྡན', '་'), ('པ', '་'), ('ཀུན', '་'), ('དགང', '་།'), ('ཀུན', ' ་'), ('ཀུན', '་')]\n"
     ]
    }
   ],
   "source": [
    "string = \"༄༅།། །།བཅོམ་ལྡན་འདས་དེའི་ཚེ་ན་ཚེ་དང་ལྡན་པ་ཀུན་དགང་།ཀུན ་ཀུན་\"\n",
    "print(prepareTib(string).syl_tuples())"
   ]
  },
  {
   "cell_type": "code",
   "execution_count": null,
   "metadata": {
    "collapsed": true
   },
   "outputs": [],
   "source": [
    "class segment:\n",
    "    '''segment a given string of Tibetan'''\n",
    "    def __init__(self, tibstring):\n",
    "        self.raw = tibstring\n",
    "        self.punct = punctuation\n",
    "        \n",
    "    def find_particles(self):\n",
    "        \n",
    "        \n",
    "print(segment(string).)"
   ]
  },
  {
   "cell_type": "code",
   "execution_count": null,
   "metadata": {
    "collapsed": true
   },
   "outputs": [],
   "source": [
    "# The empty strings show the  syllables where there is no suffix\n",
    "\n",
    "# \"merging-particles\" : [list-of-preceeding-suffix]\n",
    "{\n",
    "\"འི\" : [\"འ\", \"\"],\n",
    "\"འིས\" : [\"འ\", \"\"],\n",
    "\"ས\" : [\"འ\", \"\"],\n",
    "\"ར\" : [\"འ\", \"\"],\n",
    "\"འང\" : [\"འ\", \"\"],\n",
    "\"འམ\" : [\"འ\", \"\"],\n",
    "\"འོ\" : [\"འ\", \"\"]\n",
    "}\n",
    "\n",
    "# \"separate-particles\" : [list-of-preceeding-suffix]\n",
    "{\n",
    "\"གི\" : [\"ག\", \"ང\"],\n",
    "\"ཀྱི\" : [\"ད\", \"བ\", \"ས\"],\n",
    "\"གྱི\" : [\"ན\", \"མ\", \"ར\", \"ལ\"],\n",
    "\"ཡི\" : [\"འ\", \"\"],\n",
    "\"གིས\" : [\"ག\", \"ང\"],\n",
    "\"ཀྱིས\" : [\"ད\", \"བ\", \"ས\"],\n",
    "\"གྱིས\" : [\"ན\", \"མ\", \"ར\", \"ལ\"],\n",
    "\"ཡིས\" : [\"འ\", \"\"],\n",
    "\"སུ\" : [\"ས\"],\n",
    "\"ཏུ\" : [\"ག\", \"བ\", \"ད་དྲག\"],\n",
    "\"དུ\" : [\"ང\", \"ད\", \"ན\", \"མ\", \"ར\", \"ལ\"],\n",
    "\"རུ\" : [\"འ\", \"\"],\n",
    "\"སྟེ\" : [\"ག\", \"ང\", \"བ\", \"མ\", \"འ\", \"\"],\n",
    "\"ཏེ\" : [\"ན\", \"ར\", \"ལ\", \"ས\"],\n",
    "\"དེ\" : [\"ད\"],\n",
    "\"ཀྱང\" : [\"ག\", \"ད\", \"བ\", \"ས\"],\n",
    "\"ཡང\" : [\"ང\", \"ན\", \"མ\", \"འ\", \"ར\", \"ལ\", \"\"],\n",
    "\"འང\" : [\"འ\", \"\"],\n",
    "\"གམ\" : [\"ག\"],\n",
    "\"ངམ\" : [\"ང\"],\n",
    "\"དམ\" : [\"ད\"],\n",
    "\"ནམ\" : [\"ན\"],\n",
    "\"བམ\" : [\"བ\"],\n",
    "\"མམ\" : [\"མ\"],\n",
    "\"འམ\" : [\"འ\"],\n",
    "\"རམ\" : [\"ར\"],\n",
    "\"ལམ\" : [\"ལ\"],\n",
    "\"སམ\" : [\"ས\"],\n",
    "\"ཏམ\" : [\"ད་དྲག\"],\n",
    "\"པ\" : [\"ག\", \"ད\", \"བ\", \"ས\", \"ན\", \"མ\"],\n",
    "\"པོ\" : [\"ག\", \"ད\", \"བ\", \"ས\", \"ན\", \"མ\"],\n",
    "\"བ\" : [\"ང\", \"འ\", \"ར\", \"ལ\", \"\"],\n",
    "\"བོ\" : [\"ང\", \"འ\", \"ར\", \"ལ\", \"\"],\n",
    "\"གོ\" : [\"ག\"],\n",
    "\"ངོ\" : [\"ང\"],\n",
    "\"དོ\" : [\"ད\"],\n",
    "\"ནོ\" : [\"ན\"],\n",
    "\"བོ\" : [\"བ\"],\n",
    "\"མོ\" : [\"མ\"],\n",
    "\"འོ\" : [\"འ\"],\n",
    "\"རོ\" : [\"ར\"],\n",
    "\"ལོ\" : [\"ལ\"],\n",
    "\"སོ\" : [\"ས\"],\n",
    "\"ཏོ\" : [\"ད་དྲག\"],\n",
    "\"ཅིང\" : [\"ག\", \"ད\", \"བ\", \"ད་དྲག\"],\n",
    "\"ཅེས\" : [\"ག\", \"ད\", \"བ\", \"ད་དྲག\"],\n",
    "\"ཅེའོ\" : [\"ག\", \"ད\", \"བ\", \"ད་དྲག\"],\n",
    "\"ཅེ་ན\" : [\"ག\", \"ད\", \"བ\", \"ད་དྲག\"],\n",
    "\"ཅིག\" : [\"ག\", \"ད\", \"བ\", \"ད་དྲག\"],\n",
    "\"ཞིང\" : [\"ང\", \"ན\", \"མ\", \"འ\", \"ར\", \"ལ\", \"\"],\n",
    "\"ཞེས\" : [\"ང\", \"ན\", \"མ\", \"འ\", \"ར\", \"ལ\", \"ས\", \"\"],\n",
    "\"ཞེའོ\" : [\"ང\", \"ན\", \"མ\", \"འ\", \"ར\", \"ལ\", \"\"],\n",
    "\"ཞེ་ན\" : [\"ང\", \"ན\", \"མ\", \"འ\", \"ར\", \"ལ\", \"\"],\n",
    "\"ཞིག\" : [\"ང\", \"ན\", \"མ\", \"འ\", \"ར\", \"ལ\", \"\"],\n",
    "\"ཤིང\" : [\"ས\"],\n",
    "\"ཤེའོ\" : [\"ས\"],\n",
    "\"ཤེ་ན\" : [\"ས\"],\n",
    "\"ཤིག\" : [\"ས\"]\n",
    "}\n",
    "\n",
    "//\"གི\" \"ཀྱི\" \"གྱི\" \"ཡི\" \"གིས\" \"ཀྱིས\" \"གྱིས\" \"ཡིས\" \"སུ\" \"ཏུ\" \"དུ\" \"རུ\" \"སྟེ\" \"ཏེ\" \"དེ\" \"གམ\" \"ངམ\" \"དམ\" \"ནམ\" \"བམ\" \"མམ\" \"རམ\" \"ལམ\" \"སམ\" \"ཏམ\" \"པ\" \"པོ\" \"བ\" \"བོ\" \"གོ\" \"ངོ\" \"དོ\" \"ནོ\" \"བོ\" \"མོ\" \"འོ\" \"རོ\" \"ལོ\" \"སོ\" \"ཏོ\" \n",
    "{\"གི\" : true, \"ཀྱི\" : true, \"གྱི\" : true, \"ཡི\" : true, \"གིས\" : true, \"ཀྱིས\" : true, \"གྱིས\" : true, \"ཡིས\" : true, \"སུ\" : true, \"ཏུ\" : true, \"དུ\" : true, \"རུ\" : true, \"སྟེ\" : true, \"ཏེ\" : true, \"དེ\" : true, \"གམ\" : true, \"ངམ\" : true, \"དམ\" : true, \"ནམ\" : true, \"བམ\" : true, \"མམ\" : true, \"རམ\" : true, \"ལམ\" : true, \"སམ\" : true, \"ཏམ\" : true, \"པ\" : true, \"པོ\" : true, \"བ\" : true, \"བོ\" : true, \"གོ\" : true, \"ངོ\" : true, \"དོ\" : true, \"ནོ\" : true, \"བོ\" : true, \"མོ\" : true, \"འོ\" : true, \"རོ\" : true, \"ལོ\" : true, \"སོ\" : true, \"ཏོ\" : true}\n",
    "\n",
    "//\"ཅི\" \"ཇི\" \"ཡིན\" \"མིན\" \"ཡོད\" \"མེད\" \"དང\" \"ལ\" \"ལས\" \"ན\" \"ནི\" \n",
    "//\"ཀྱང\" \"ཡང\" \"ཅིང\" \"ཅེས\" \"ཅེའོ\" \"ཅིག\" \"ཞིང\" \"ཞེས\" \"ཞེའོ\" \"ཞིག\" \"ཤིང\" \"ཤེའོ\" \"ཤིག\" \"གིན\" \"གྱིན\"\n",
    "{\"ཅི\" : true, \"ཇི\" : true, \"ཡིན\" : true, \"མིན\" : true, \"ཡོད\" : true, \"མེད\" : true, \"དང\" : true, \"ལ\" : true, \"ལས\" : true, \"ན\" : true, \"ནི\" : true, \"ཀྱང\" : true, \"ཡང\" : true, \"ཅིང\" : true, \"ཅེས\" : true, \"ཅེའོ\" : true, \"ཅིག\" : true, \"ཞིང\" : true, \"ཞེས\" : true, \"ཞེའོ\" : true, \"ཞིག\" : true, \"ཤིང\" : true, \"ཤེའོ\" : true, \"ཤིག\" : true, \"གིན\" : true, \"གྱིན\" : true, \n",
    "\n",
    "//\"ཤེ་ན\" \"ཞེ་ན\" \"ཅེ་ན\" \n",
    "{\"ཤེ་ན\" : true, \"ཞེ་ན\" : true, \"ཅེ་ན\" : true, \n",
    "\n",
    "ལྡན་"
   ]
  }
 ],
 "metadata": {
  "kernelspec": {
   "display_name": "Python 3",
   "language": "python",
   "name": "python3"
  },
  "language_info": {
   "codemirror_mode": {
    "name": "ipython",
    "version": 3
   },
   "file_extension": ".py",
   "mimetype": "text/x-python",
   "name": "python",
   "nbconvert_exporter": "python",
   "pygments_lexer": "ipython3",
   "version": "3.5.1"
  }
 },
 "nbformat": 4,
 "nbformat_minor": 0
}
