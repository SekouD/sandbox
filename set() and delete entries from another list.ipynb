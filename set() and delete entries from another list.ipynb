{
 "cells": [
  {
   "cell_type": "code",
   "execution_count": 1,
   "metadata": {
    "collapsed": true
   },
   "outputs": [],
   "source": [
    "import codecs"
   ]
  },
  {
   "cell_type": "code",
   "execution_count": 40,
   "metadata": {
    "collapsed": true
   },
   "outputs": [],
   "source": [
    "with codecs.open('/home/drupchen/Documents/cutWords/src/TDC.txt', 'r', 'utf8') as f:\n",
    "    list1 = f.read().split()"
   ]
  },
  {
   "cell_type": "code",
   "execution_count": 41,
   "metadata": {
    "collapsed": false
   },
   "outputs": [],
   "source": [
    "with codecs.open('/home/drupchen/Documents/cutWords/src/particles.txt', 'r', 'utf8') as f:\n",
    "    list2 = f.read().split()"
   ]
  },
  {
   "cell_type": "code",
   "execution_count": 62,
   "metadata": {
    "collapsed": false,
    "scrolled": true
   },
   "outputs": [
    {
     "name": "stdout",
     "output_type": "stream",
     "text": [
      "ཀྱང་\n",
      "ཀྱི་\n",
      "ཀྱིན་\n",
      "གང་\n",
      "གི་\n",
      "གིན་\n",
      "གིས་\n",
      "གོ་\n",
      "གྱི་\n",
      "གྱིན་\n",
      "གྱིས་\n",
      "ངམ་\n",
      "ངོ་\n",
      "དང་\n",
      "ཅི་\n",
      "ཅིག་\n",
      "ཅིང་\n",
      "ཅེ་ན་\n",
      "ཅེའོ་\n",
      "ཇི་\n",
      "ཏམ་\n",
      "ཏུ་\n",
      "ཏེ་\n",
      "སྟེ་\n",
      "དང་\n",
      "དམ་\n",
      "དུ་\n",
      "དང་\n",
      "དེ་\n",
      "ནམ་\n",
      "ནས་\n",
      "ནོ་\n",
      "བམ་\n",
      "བོ་\n",
      "བ་\n",
      "མམ་\n",
      "མོ་\n",
      "མོ་\n",
      "ཞིང་\n",
      "ཞེ་ན་\n",
      "ཞེའོ་\n",
      "ཞེས་\n",
      "འོ་\n",
      "ཡང་\n",
      "ཡི་\n",
      "ཡིན་\n",
      "ཡིས་\n",
      "རམ་\n",
      "རུ་\n",
      "རོ་\n",
      "ལ་\n",
      "ལམ་\n",
      "ལམ་\n",
      "ལས་\n",
      "ལོ་\n",
      "ཤིག་\n",
      "ཤིང་\n",
      "ཤེ་ན་\n",
      "ཤེའོ་\n",
      "སམ་\n",
      "སུ་\n"
     ]
    }
   ],
   "source": [
    "new_list = []\n",
    "for word in list1:\n",
    "    if word[:-1] in list2:\n",
    "        print(word)\n",
    "    else:\n",
    "        new_list.append(word)\n",
    "    \n",
    "new_list = set(new_list)"
   ]
  },
  {
   "cell_type": "code",
   "execution_count": 67,
   "metadata": {
    "collapsed": false
   },
   "outputs": [],
   "source": [
    "with codecs.open('/home/drupchen/Documents/cutWords/src/TDC.txt', 'w', 'utf8') as f:\n",
    "    for word in sorted(new_list):\n",
    "        f.write(word+'\\n')"
   ]
  },
  {
   "cell_type": "code",
   "execution_count": 63,
   "metadata": {
    "collapsed": false
   },
   "outputs": [
    {
     "name": "stdout",
     "output_type": "stream",
     "text": [
      "33041 32887 32887\n",
      "154 70\n"
     ]
    }
   ],
   "source": [
    "print(len(list1), len(new_list), len(set(new_list)))\n",
    "print(len(list1)-len(new_list), len(list2))"
   ]
  },
  {
   "cell_type": "code",
   "execution_count": 64,
   "metadata": {
    "collapsed": false
   },
   "outputs": [
    {
     "data": {
      "text/plain": [
       "32944"
      ]
     },
     "execution_count": 64,
     "metadata": {},
     "output_type": "execute_result"
    }
   ],
   "source": [
    "len(set(list1))"
   ]
  },
  {
   "cell_type": "code",
   "execution_count": null,
   "metadata": {
    "collapsed": true
   },
   "outputs": [],
   "source": []
  }
 ],
 "metadata": {
  "kernelspec": {
   "display_name": "Python 3",
   "language": "python",
   "name": "python3"
  },
  "language_info": {
   "codemirror_mode": {
    "name": "ipython",
    "version": 3
   },
   "file_extension": ".py",
   "mimetype": "text/x-python",
   "name": "python",
   "nbconvert_exporter": "python",
   "pygments_lexer": "ipython3",
   "version": "3.5.1"
  }
 },
 "nbformat": 4,
 "nbformat_minor": 0
}
