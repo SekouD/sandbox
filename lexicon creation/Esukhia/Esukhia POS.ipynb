{
 "cells": [
  {
   "cell_type": "code",
   "execution_count": 16,
   "metadata": {
    "collapsed": true
   },
   "outputs": [],
   "source": [
    "with open('../../spellcheck/monlam1_pos.txt', 'r', -1, 'utf-8-sig') as f:\n",
    "    monlam = [line.strip() for line in f.readlines()]"
   ]
  },
  {
   "cell_type": "code",
   "execution_count": 3,
   "metadata": {
    "collapsed": true
   },
   "outputs": [],
   "source": [
    "with open('../../lexicon creation/2016-04-06-lexicon.txt', 'r', -1, 'utf-8-sig') as f:\n",
    "    hill = [line.strip() for line in f.readlines()]"
   ]
  },
  {
   "cell_type": "code",
   "execution_count": 3,
   "metadata": {
    "collapsed": true
   },
   "outputs": [],
   "source": [
    "with open('../../spellcheck/tsikchen.txt', 'r', -1, 'utf-8-sig') as f:\n",
    "    tsikchen = [line.strip() for line in f.readlines()]"
   ]
  },
  {
   "cell_type": "code",
   "execution_count": 17,
   "metadata": {
    "collapsed": false
   },
   "outputs": [],
   "source": [
    "monlam_dict = {}\n",
    "for line in monlam:\n",
    "    parts = line.split('—')\n",
    "    lemma = parts[0]\n",
    "    syls = lemma.split('་')\n",
    "    if len(syls) <= 4:\n",
    "        pos = []\n",
    "        for meaning in parts[1].split('/'):\n",
    "            pos.append(meaning.split(':')[0])\n",
    "        monlam_dict[lemma] = list(set(pos))"
   ]
  },
  {
   "cell_type": "code",
   "execution_count": 4,
   "metadata": {
    "collapsed": false
   },
   "outputs": [],
   "source": [
    "hill_dict = {}\n",
    "for line in hill:\n",
    "    parts = line.split('\\t')\n",
    "    lemma = parts[0]\n",
    "    if '་' in lemma:\n",
    "        lemma = lemma[:-1]\n",
    "    pos = [tag[:-2] for tag in parts[1:]]\n",
    "    syls = lemma.split('་')\n",
    "    if len(syls) <= 4:\n",
    "        hill_dict[lemma] = list(set(pos))"
   ]
  },
  {
   "cell_type": "code",
   "execution_count": 5,
   "metadata": {
    "collapsed": false
   },
   "outputs": [
    {
     "name": "stdout",
     "output_type": "stream",
     "text": [
      "['adj', 'adv.dir', 'adv.intense', 'adv.mim', 'adv.proclausal', 'adv.temp', 'case.abl', 'case.agn', 'case.all', 'case.ass', 'case.comp', 'case.ela', 'case.gen', 'case.loc', 'case.nare', 'case.term', 'cl.focus', 'cl.quot', 'cl.quote', 'cv.abl', 'cv.agn', 'cv.all', 'cv.are', 'cv.ass', 'cv.cont', 'cv.ela', 'cv.fin', 'cv.gen', 'cv.imp', 'cv.impf', 'cv.loc', 'cv.odd', 'cv.ques', 'cv.rung', 'cv.sem', 'cv.term', 'd.dem', 'd.det', 'd.emph', 'd.indef', 'd.plural', 'd.tsam', 'dunno', 'interj', 'n.count', 'n.mass', 'n.prop', 'n.rel', 'n.v.aux', 'n.v.cop', 'n.v.fut', 'n.v.fut.n.v.past', 'n.v.fut.n.v.pres', 'n.v.imp', 'n.v.invar', 'n.v.neg', 'n.v.past', 'n.v.past.n.v.pres', 'n.v.pres', 'neg', 'num.card', 'num.ord', 'numeral', 'p.indef', 'p.interrog', 'p.pers', 'p.refl', 'punc', 'skt', 'v.aux', 'v.cop', 'v.cop.neg', 'v.fut', 'v.fut.v.past', 'v.fut.v.pres', 'v.imp', 'v.invar', 'v.neg', 'v.past', 'v.past.v.pres', 'v.pres']\n"
     ]
    },
    {
     "ename": "NameError",
     "evalue": "name 'monlam_dict' is not defined",
     "output_type": "error",
     "traceback": [
      "\u001b[1;31m---------------------------------------------------------------------------\u001b[0m",
      "\u001b[1;31mNameError\u001b[0m                                 Traceback (most recent call last)",
      "\u001b[1;32m<ipython-input-5-76ba296486f5>\u001b[0m in \u001b[0;36m<module>\u001b[1;34m()\u001b[0m\n\u001b[0;32m      6\u001b[0m \u001b[1;33m\u001b[0m\u001b[0m\n\u001b[0;32m      7\u001b[0m \u001b[0mmonlam_pos\u001b[0m \u001b[1;33m=\u001b[0m \u001b[1;33m[\u001b[0m\u001b[1;33m]\u001b[0m\u001b[1;33m\u001b[0m\u001b[0m\n\u001b[1;32m----> 8\u001b[1;33m \u001b[1;32mfor\u001b[0m \u001b[0mentry\u001b[0m \u001b[1;32min\u001b[0m \u001b[0mlist\u001b[0m\u001b[1;33m(\u001b[0m\u001b[0mmonlam_dict\u001b[0m\u001b[1;33m)\u001b[0m\u001b[1;33m:\u001b[0m\u001b[1;33m\u001b[0m\u001b[0m\n\u001b[0m\u001b[0;32m      9\u001b[0m     \u001b[0mmonlam_pos\u001b[0m\u001b[1;33m.\u001b[0m\u001b[0mextend\u001b[0m\u001b[1;33m(\u001b[0m\u001b[0mmonlam_dict\u001b[0m\u001b[1;33m[\u001b[0m\u001b[0mentry\u001b[0m\u001b[1;33m]\u001b[0m\u001b[1;33m)\u001b[0m\u001b[1;33m\u001b[0m\u001b[0m\n\u001b[0;32m     10\u001b[0m \u001b[0mprint\u001b[0m\u001b[1;33m(\u001b[0m\u001b[0msorted\u001b[0m\u001b[1;33m(\u001b[0m\u001b[0mlist\u001b[0m\u001b[1;33m(\u001b[0m\u001b[0mset\u001b[0m\u001b[1;33m(\u001b[0m\u001b[0mmonlam_pos\u001b[0m\u001b[1;33m)\u001b[0m\u001b[1;33m)\u001b[0m\u001b[1;33m)\u001b[0m\u001b[1;33m)\u001b[0m\u001b[1;33m\u001b[0m\u001b[0m\n",
      "\u001b[1;31mNameError\u001b[0m: name 'monlam_dict' is not defined"
     ]
    }
   ],
   "source": [
    "# list of pos tags\n",
    "hill_pos = []\n",
    "for entry in list(hill_dict):\n",
    "    hill_pos.extend(hill_dict[entry])\n",
    "print(sorted(list(set(hill_pos))))\n",
    "\n",
    "monlam_pos = []\n",
    "for entry in list(monlam_dict):\n",
    "    monlam_pos.extend(monlam_dict[entry])\n",
    "print(sorted(list(set(monlam_pos))))\n"
   ]
  },
  {
   "cell_type": "code",
   "execution_count": 6,
   "metadata": {
    "collapsed": false
   },
   "outputs": [
    {
     "ename": "NameError",
     "evalue": "name 'monlam_dict' is not defined",
     "output_type": "error",
     "traceback": [
      "\u001b[1;31m---------------------------------------------------------------------------\u001b[0m",
      "\u001b[1;31mNameError\u001b[0m                                 Traceback (most recent call last)",
      "\u001b[1;32m<ipython-input-6-8944587cbb30>\u001b[0m in \u001b[0;36m<module>\u001b[1;34m()\u001b[0m\n\u001b[1;32m----> 1\u001b[1;33m \u001b[0mprint\u001b[0m\u001b[1;33m(\u001b[0m\u001b[0mlen\u001b[0m\u001b[1;33m(\u001b[0m\u001b[0mlist\u001b[0m\u001b[1;33m(\u001b[0m\u001b[0mmonlam_dict\u001b[0m\u001b[1;33m)\u001b[0m\u001b[1;33m)\u001b[0m\u001b[1;33m)\u001b[0m\u001b[1;33m\u001b[0m\u001b[0m\n\u001b[0m\u001b[0;32m      2\u001b[0m \u001b[0mprint\u001b[0m\u001b[1;33m(\u001b[0m\u001b[0mlen\u001b[0m\u001b[1;33m(\u001b[0m\u001b[0mlist\u001b[0m\u001b[1;33m(\u001b[0m\u001b[0mhill_dict\u001b[0m\u001b[1;33m)\u001b[0m\u001b[1;33m)\u001b[0m\u001b[1;33m)\u001b[0m\u001b[1;33m\u001b[0m\u001b[0m\n",
      "\u001b[1;31mNameError\u001b[0m: name 'monlam_dict' is not defined"
     ]
    }
   ],
   "source": [
    "print(len(list(monlam_dict)))\n",
    "print(len(list(hill_dict)))"
   ]
  },
  {
   "cell_type": "code",
   "execution_count": 46,
   "metadata": {
    "collapsed": false
   },
   "outputs": [],
   "source": [
    "no_pos = []\n",
    "for line in tsikchen[:10]:\n",
    "    if line not in hill_dict.keys() and line not in monlam_dict.keys():\n",
    "        no_pos.append(line)"
   ]
  },
  {
   "cell_type": "code",
   "execution_count": 34,
   "metadata": {
    "collapsed": false
   },
   "outputs": [
    {
     "data": {
      "text/plain": [
       "31059"
      ]
     },
     "execution_count": 34,
     "metadata": {},
     "output_type": "execute_result"
    }
   ],
   "source": [
    "len(tsikchen)"
   ]
  },
  {
   "cell_type": "code",
   "execution_count": 47,
   "metadata": {
    "collapsed": false
   },
   "outputs": [
    {
     "name": "stdout",
     "output_type": "stream",
     "text": [
      "0\n"
     ]
    }
   ],
   "source": [
    "print(len(no_pos))"
   ]
  },
  {
   "cell_type": "code",
   "execution_count": 7,
   "metadata": {
    "collapsed": false
   },
   "outputs": [
    {
     "name": "stdout",
     "output_type": "stream",
     "text": [
      "དེ་བ ['dunno']\n",
      "འོན ['v.pres', 'v.past', 'v.imp', 'v.fut', 'adv.proclausal']\n",
      "སྒོས ['v.imp', 'adv.proclausal']\n",
      "ཡང ['v.invar', 'dunno', 'cl.focus', 'adv.proclausal']\n",
      "དེ ['dunno', 'd.dem', 'cv.sem']\n",
      "འང ['cl.focus', 'adv.proclausal']\n",
      "གལ ['v.pres', 'v.fut.v.pres', 'n.count', 'v.fut', 'adv.proclausal']\n",
      "ལ ['dunno', 'n.count', 'skt', 'cv.all', 'case.all']\n",
      "འོ ['cv.fin', 'adv.proclausal']\n"
     ]
    }
   ],
   "source": [
    "proclausal = ['དེ', 'ཡང', 'གལ', 'ཁྱད་པ', 'འོ', 'འོན', 'དེ་བ', 'ལ', 'འང', 'སྒོས']\n",
    "for word in list(hill_dict):\n",
    "    if word in proclausal:\n",
    "        print(word, hill_dict[word])"
   ]
  },
  {
   "cell_type": "code",
   "execution_count": 49,
   "metadata": {
    "collapsed": true
   },
   "outputs": [],
   "source": [
    "for word in list(hill_dict):\n",
    "    if hill_dict[word] == 'dunno':\n",
    "        print(word, end = ' ')"
   ]
  },
  {
   "cell_type": "code",
   "execution_count": 50,
   "metadata": {
    "collapsed": true
   },
   "outputs": [],
   "source": [
    "for word in list(hill_dict):\n",
    "    if hill_dict[word] == 'cl.focus':\n",
    "        print(word, end= ' ')"
   ]
  },
  {
   "cell_type": "code",
   "execution_count": 51,
   "metadata": {
    "collapsed": true
   },
   "outputs": [],
   "source": [
    "for word in list(hill_dict):\n",
    "    if hill_dict[word] == 'case.nare':\n",
    "        print(word, end= ' ')"
   ]
  },
  {
   "cell_type": "code",
   "execution_count": 52,
   "metadata": {
    "collapsed": true
   },
   "outputs": [],
   "source": [
    "for word in list(hill_dict):\n",
    "    if hill_dict[word] == 'cv.odd':\n",
    "        print(word, end= ' ')"
   ]
  },
  {
   "cell_type": "code",
   "execution_count": 53,
   "metadata": {
    "collapsed": true
   },
   "outputs": [],
   "source": [
    "for word in list(hill_dict):\n",
    "    if hill_dict[word] == 'd.det':\n",
    "        print(word, end= ' ')"
   ]
  },
  {
   "cell_type": "code",
   "execution_count": 54,
   "metadata": {
    "collapsed": true
   },
   "outputs": [],
   "source": [
    "for word in list(hill_dict):\n",
    "    if hill_dict[word] == 'cv.ques':\n",
    "        print(word, end= ' ')"
   ]
  },
  {
   "cell_type": "code",
   "execution_count": 8,
   "metadata": {
    "collapsed": true
   },
   "outputs": [],
   "source": [
    "with open('./collection_17+14+124.txt', 'r', -1, 'utf-8-sig') as f:\n",
    "    corpus = [line.strip() for line in f.readlines()]"
   ]
  },
  {
   "cell_type": "code",
   "execution_count": 9,
   "metadata": {
    "collapsed": false
   },
   "outputs": [],
   "source": [
    "corpus_dict = {}\n",
    "for num, line in enumerate(corpus):\n",
    "    words = line.split()\n",
    "    for word in words:\n",
    "        parts = word.split('|')\n",
    "        token = parts[0]\n",
    "        if token.endswith('་'):\n",
    "            token = token[:-1]\n",
    "        if len(token.split('་')) <= 4:\n",
    "            pos = [parts[1]]\n",
    "            if '~' in parts[1]:\n",
    "                pos = parts[1].split('~')\n",
    "            if token not in corpus_dict.keys():\n",
    "                corpus_dict[token] = pos\n",
    "            else:\n",
    "                for tag in pos:\n",
    "                    if tag not in corpus_dict[token]:\n",
    "                        corpus_dict[token] = corpus_dict[token]+[tag]"
   ]
  },
  {
   "cell_type": "code",
   "execution_count": 10,
   "metadata": {
    "collapsed": false
   },
   "outputs": [
    {
     "data": {
      "text/plain": [
       "['adj']"
      ]
     },
     "execution_count": 10,
     "metadata": {},
     "output_type": "execute_result"
    }
   ],
   "source": [
    "hill_dict['ཆེན་པོ']"
   ]
  },
  {
   "cell_type": "code",
   "execution_count": 11,
   "metadata": {
    "collapsed": false
   },
   "outputs": [],
   "source": [
    "for word in list(corpus_dict):\n",
    "    if word not in hill_dict.keys():\n",
    "        hill_dict[word] = corpus_dict[word]"
   ]
  },
  {
   "cell_type": "code",
   "execution_count": 12,
   "metadata": {
    "collapsed": false
   },
   "outputs": [],
   "source": [
    "for token in list(hill_dict):\n",
    "    hill_dict[token] = '/'.join(list(set(hill_dict[token])))"
   ]
  },
  {
   "cell_type": "code",
   "execution_count": 15,
   "metadata": {
    "collapsed": false
   },
   "outputs": [],
   "source": [
    "with open('hill_lexicon.txt', 'w', -1, 'utf-8-sig') as f:\n",
    "    for token in sorted(list(hill_dict)):\n",
    "        f.write(token+'—'+hill_dict[token]+'\\n')"
   ]
  },
  {
   "cell_type": "code",
   "execution_count": 14,
   "metadata": {
    "collapsed": false
   },
   "outputs": [
    {
     "data": {
      "text/plain": [
       "'v.pres/v.past/v.imp'"
      ]
     },
     "execution_count": 14,
     "metadata": {},
     "output_type": "execute_result"
    }
   ],
   "source": [
    "hill_dict['ཁོལ']"
   ]
  },
  {
   "cell_type": "code",
   "execution_count": null,
   "metadata": {
    "collapsed": true
   },
   "outputs": [],
   "source": []
  }
 ],
 "metadata": {
  "kernelspec": {
   "display_name": "Python 3",
   "language": "python",
   "name": "python3"
  },
  "language_info": {
   "codemirror_mode": {
    "name": "ipython",
    "version": 3
   },
   "file_extension": ".py",
   "mimetype": "text/x-python",
   "name": "python",
   "nbconvert_exporter": "python",
   "pygments_lexer": "ipython3",
   "version": "3.5.1"
  }
 },
 "nbformat": 4,
 "nbformat_minor": 0
}
