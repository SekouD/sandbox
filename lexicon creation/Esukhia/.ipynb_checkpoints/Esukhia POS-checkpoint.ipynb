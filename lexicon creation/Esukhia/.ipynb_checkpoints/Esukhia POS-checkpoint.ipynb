{
 "cells": [
  {
   "cell_type": "code",
   "execution_count": 35,
   "metadata": {
    "collapsed": true
   },
   "outputs": [],
   "source": [
    "with open(../../spellcheck/monlam1_pos.txt 'monlam1_pos.txt', 'r', -1, 'utf-8-sig') as f:\n",
    "    monlam = [line.strip() for line in f.readlines()]"
   ]
  },
  {
   "cell_type": "code",
   "execution_count": 8,
   "metadata": {
    "collapsed": true
   },
   "outputs": [],
   "source": [
    "with open('hill_pos.txt', 'r', -1, 'utf-8-sig') as f:\n",
    "    hill = [line.strip() for line in f.readlines()]"
   ]
  },
  {
   "cell_type": "code",
   "execution_count": 29,
   "metadata": {
    "collapsed": true
   },
   "outputs": [],
   "source": [
    "with open('tsikchen.txt', 'r', -1, 'utf-8-sig') as f:\n",
    "    tsikchen = [line.strip() for line in f.readlines()]"
   ]
  },
  {
   "cell_type": "code",
   "execution_count": 36,
   "metadata": {
    "collapsed": false
   },
   "outputs": [],
   "source": [
    "monlam_dict = {}\n",
    "for line in monlam:\n",
    "    parts = line.split('—')\n",
    "    lemma = parts[0]\n",
    "    syls = lemma.split('་')\n",
    "    if len(syls) <= 4:\n",
    "        pos = []\n",
    "        for meaning in parts[1].split('/'):\n",
    "            pos.append(meaning.split(':')[0])\n",
    "        monlam_dict[lemma] = list(set(pos))"
   ]
  },
  {
   "cell_type": "code",
   "execution_count": 24,
   "metadata": {
    "collapsed": false
   },
   "outputs": [],
   "source": [
    "hill_dict = {}\n",
    "for line in hill:\n",
    "    parts = line.split('***')\n",
    "    lemma = parts[0]\n",
    "    syls = lemma.split('་')\n",
    "    if len(syls) <= 4:\n",
    "        pos = []\n",
    "        for meaning in parts[1].split('_'):\n",
    "            if '.' in meaning:\n",
    "                pos.append(meaning.split('.')[0])\n",
    "            else:\n",
    "                pos.append(meaning)\n",
    "        hill_dict[lemma] = list(set(pos))"
   ]
  },
  {
   "cell_type": "code",
   "execution_count": 37,
   "metadata": {
    "collapsed": false
   },
   "outputs": [
    {
     "name": "stdout",
     "output_type": "stream",
     "text": [
      "['adj', 'adv', 'case', 'cl', 'cv', 'd', 'dunno', 'interj', 'n', 'neg', 'num', 'numeral', 'p', 'punc', 'skt', 'v']\n",
      "['གྲངས་ཚིག', 'གྲོགས་ཚིག', 'ཕྲད་ཚིག', 'བསྣན་ཚིག', 'བྱ་ཚིག', 'མཚུངས་ཚིག', 'མིང་ཚིག', 'ཚབ་ཚིག', 'འཇལ་ཚིག', 'འབོད་ཚིག', 'རྒྱན་ཚིག', 'སྒྲུབ་ཚིག']\n"
     ]
    }
   ],
   "source": [
    "# list of pos tags\n",
    "hill_pos = []\n",
    "for entry in list(hill_dict):\n",
    "    hill_pos.extend(hill_dict[entry])\n",
    "print(sorted(list(set(hill_pos))))\n",
    "\n",
    "monlam_pos = []\n",
    "for entry in list(monlam_dict):\n",
    "    monlam_pos.extend(monlam_dict[entry])\n",
    "print(sorted(list(set(monlam_pos))))\n"
   ]
  },
  {
   "cell_type": "code",
   "execution_count": 28,
   "metadata": {
    "collapsed": false
   },
   "outputs": [
    {
     "name": "stdout",
     "output_type": "stream",
     "text": [
      "72372\n",
      "18934\n"
     ]
    }
   ],
   "source": [
    "print(len(list(monlam_dict)))\n",
    "print(len(list(hill_dict)))"
   ]
  },
  {
   "cell_type": "code",
   "execution_count": 46,
   "metadata": {
    "collapsed": false
   },
   "outputs": [],
   "source": [
    "no_pos = []\n",
    "for line in tsikchen[:10]:\n",
    "    if line not in hill_dict.keys() and line not in monlam_dict.keys():\n",
    "        no_pos.append(line)"
   ]
  },
  {
   "cell_type": "code",
   "execution_count": 34,
   "metadata": {
    "collapsed": false
   },
   "outputs": [
    {
     "data": {
      "text/plain": [
       "31059"
      ]
     },
     "execution_count": 34,
     "metadata": {},
     "output_type": "execute_result"
    }
   ],
   "source": [
    "len(tsikchen)"
   ]
  },
  {
   "cell_type": "code",
   "execution_count": 47,
   "metadata": {
    "collapsed": false
   },
   "outputs": [
    {
     "name": "stdout",
     "output_type": "stream",
     "text": [
      "0\n"
     ]
    }
   ],
   "source": [
    "print(len(no_pos))"
   ]
  },
  {
   "cell_type": "code",
   "execution_count": 51,
   "metadata": {
    "collapsed": false
   },
   "outputs": [
    {
     "name": "stdout",
     "output_type": "stream",
     "text": [
      "འོ ['cv', 'adv']\n",
      "ལ ['n', 'dunno', 'case', 'skt', 'adv', 'cv']\n",
      "དེ་བ ['dunno', 'adv']\n",
      "ཡང ['dunno', 'adv', 'cl', 'v']\n",
      "གལ ['v', 'adv', 'n']\n",
      "སྒོས ['v', 'adv']\n",
      "འོན ['v', 'adv']\n",
      "འང ['adv', 'cl']\n",
      "དེ ['dunno', 'cv', 'd']\n",
      "ཁྱད་པ ['adv']\n"
     ]
    }
   ],
   "source": [
    "proclausal = ['དེ', 'ཡང', 'གལ', 'ཁྱད་པ', 'འོ', 'འོན', 'དེ་བ', 'ལ', 'འང', 'སྒོས']\n",
    "for word in list(hill_dict):\n",
    "    if word in proclausal:\n",
    "        print(word, hill_dict[word])"
   ]
  },
  {
   "cell_type": "code",
   "execution_count": 60,
   "metadata": {
    "collapsed": true
   },
   "outputs": [],
   "source": [
    "for word in list(hill_dict):\n",
    "    if hill_dict[word] == 'dunno':\n",
    "        print(word, end = ' ')"
   ]
  },
  {
   "cell_type": "code",
   "execution_count": 53,
   "metadata": {
    "collapsed": true
   },
   "outputs": [],
   "source": [
    "for word in list(hill_dict):\n",
    "    if hill_dict[word] == 'cl.focus':\n",
    "        print(word, end= ' ')"
   ]
  },
  {
   "cell_type": "code",
   "execution_count": 58,
   "metadata": {
    "collapsed": true
   },
   "outputs": [],
   "source": [
    "for word in list(hill_dict):\n",
    "    if hill_dict[word] == 'case.nare':\n",
    "        print(word, end= ' ')"
   ]
  },
  {
   "cell_type": "code",
   "execution_count": 55,
   "metadata": {
    "collapsed": true
   },
   "outputs": [],
   "source": [
    "for word in list(hill_dict):\n",
    "    if hill_dict[word] == 'cv.odd':\n",
    "        print(word, end= ' ')"
   ]
  },
  {
   "cell_type": "code",
   "execution_count": 56,
   "metadata": {
    "collapsed": true
   },
   "outputs": [],
   "source": [
    "for word in list(hill_dict):\n",
    "    if hill_dict[word] == 'd.det':\n",
    "        print(word, end= ' ')"
   ]
  },
  {
   "cell_type": "code",
   "execution_count": 59,
   "metadata": {
    "collapsed": true
   },
   "outputs": [],
   "source": [
    "for word in list(hill_dict):\n",
    "    if hill_dict[word] == 'cv.ques':\n",
    "        print(word, end= ' ')"
   ]
  },
  {
   "cell_type": "code",
   "execution_count": null,
   "metadata": {
    "collapsed": true
   },
   "outputs": [],
   "source": []
  }
 ],
 "metadata": {
  "kernelspec": {
   "display_name": "Python 3",
   "language": "python",
   "name": "python3"
  },
  "language_info": {
   "codemirror_mode": {
    "name": "ipython",
    "version": 3
   },
   "file_extension": ".py",
   "mimetype": "text/x-python",
   "name": "python",
   "nbconvert_exporter": "python",
   "pygments_lexer": "ipython3",
   "version": "3.5.1"
  }
 },
 "nbformat": 4,
 "nbformat_minor": 0
}
