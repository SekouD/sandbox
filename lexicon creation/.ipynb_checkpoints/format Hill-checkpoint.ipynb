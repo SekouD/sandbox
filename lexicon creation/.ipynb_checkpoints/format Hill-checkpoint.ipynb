{
 "cells": [
  {
   "cell_type": "markdown",
   "metadata": {},
   "source": [
    "# Hill Lexicon"
   ]
  },
  {
   "cell_type": "code",
   "execution_count": null,
   "metadata": {
    "collapsed": true
   },
   "outputs": [],
   "source": [
    "with open('./2016-04-06-lexicon.txt', 'r', -1, 'utf-8-sig') as f:\n",
    "    content = [line.strip() for line in f.readlines()]"
   ]
  },
  {
   "cell_type": "code",
   "execution_count": null,
   "metadata": {
    "collapsed": false
   },
   "outputs": [],
   "source": [
    "lexicon = {}\n",
    "for line in content:\n",
    "    parts = line.split('\\t')\n",
    "    entry = parts[0]\n",
    "    pos = [elt.strip(' -') for elt in parts[1:]]\n",
    "    if entry.endswith('་'):\n",
    "        entry = entry[:-1]\n",
    "    if entry in lexicon.keys():\n",
    "        for p in pos:\n",
    "            if p not in lexicon[entry]:\n",
    "                lexicon[entry].append(p)\n",
    "    else:\n",
    "        lexicon[entry] = pos"
   ]
  },
  {
   "cell_type": "code",
   "execution_count": null,
   "metadata": {
    "collapsed": false
   },
   "outputs": [],
   "source": [
    "flat_lexicon = {}\n",
    "for entry in lexicon.keys():\n",
    "    flat_lexicon[entry] = '_'.join(lexicon[entry])"
   ]
  },
  {
   "cell_type": "code",
   "execution_count": null,
   "metadata": {
    "collapsed": false
   },
   "outputs": [],
   "source": [
    "pos_list = []\n",
    "for entry in lexicon.keys():\n",
    "    pos_list.extend(lexicon[entry])\n",
    "pos_set = set(pos_list)"
   ]
  },
  {
   "cell_type": "code",
   "execution_count": null,
   "metadata": {
    "collapsed": false
   },
   "outputs": [],
   "source": [
    "print(sorted(pos_set))"
   ]
  },
  {
   "cell_type": "code",
   "execution_count": null,
   "metadata": {
    "collapsed": false
   },
   "outputs": [],
   "source": [
    "with open('hill_lexicon.txt', 'w', -1, 'utf-8-sig') as f:\n",
    "    for entry in no_prop.keys():\n",
    "        f.write(entry+'***'+no_prop[entry]+'\\n')"
   ]
  },
  {
   "cell_type": "code",
   "execution_count": null,
   "metadata": {
    "collapsed": false,
    "scrolled": true
   },
   "outputs": [],
   "source": [
    "cases = {}\n",
    "for entry in flat_lexicon.keys():\n",
    "    pos = flat_lexicon[entry]\n",
    "    if 'case' in pos and 'cv' not in pos:\n",
    "        print('nocv: ', entry, pos)\n",
    "    #elif 'case' not in pos and 'cv' in pos:\n",
    "     #   print('nocase: ', entry, pos)"
   ]
  },
  {
   "cell_type": "code",
   "execution_count": null,
   "metadata": {
    "collapsed": false,
    "scrolled": true
   },
   "outputs": [],
   "source": [
    "for entry in flat_lexicon.keys():\n",
    "    pos = flat_lexicon[entry]\n",
    "    if 'case' not in pos and 'cv' in pos:\n",
    "        print('nocase: ', entry, pos)"
   ]
  },
  {
   "cell_type": "code",
   "execution_count": null,
   "metadata": {
    "collapsed": false
   },
   "outputs": [],
   "source": [
    "no_prop = {}\n",
    "prop = []\n",
    "for entry in flat_lexicon.keys():\n",
    "    pos = flat_lexicon[entry]\n",
    "    if 'prop' in pos:\n",
    "        prop.append(entry)\n",
    "    else:\n",
    "        no_prop[entry] = pos"
   ]
  },
  {
   "cell_type": "code",
   "execution_count": null,
   "metadata": {
    "collapsed": false
   },
   "outputs": [],
   "source": [
    "print(prop)"
   ]
  },
  {
   "cell_type": "code",
   "execution_count": null,
   "metadata": {
    "collapsed": false
   },
   "outputs": [],
   "source": [
    "len(one_pos)"
   ]
  },
  {
   "cell_type": "code",
   "execution_count": null,
   "metadata": {
    "collapsed": false
   },
   "outputs": [],
   "source": [
    "len(flat_lexicon)"
   ]
  },
  {
   "cell_type": "code",
   "execution_count": null,
   "metadata": {
    "collapsed": false
   },
   "outputs": [],
   "source": [
    "22279-15963"
   ]
  },
  {
   "cell_type": "code",
   "execution_count": null,
   "metadata": {
    "collapsed": false
   },
   "outputs": [],
   "source": [
    "6316*100/22279"
   ]
  }
 ],
 "metadata": {
  "kernelspec": {
   "display_name": "Python 3",
   "language": "python",
   "name": "python3"
  },
  "language_info": {
   "codemirror_mode": {
    "name": "ipython",
    "version": 3
   },
   "file_extension": ".py",
   "mimetype": "text/x-python",
   "name": "python",
   "nbconvert_exporter": "python",
   "pygments_lexer": "ipython3",
   "version": "3.5.1"
  }
 },
 "nbformat": 4,
 "nbformat_minor": 0
}
