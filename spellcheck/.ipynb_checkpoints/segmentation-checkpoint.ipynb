{
 "cells": [
  {
   "cell_type": "code",
   "execution_count": 19,
   "metadata": {
    "collapsed": true
   },
   "outputs": [],
   "source": [
    "import re\n",
    "import os\n",
    "import time\n",
    "w_nb = 50 # number of words before linebreaks in output"
   ]
  },
  {
   "cell_type": "code",
   "execution_count": 20,
   "metadata": {
    "collapsed": false
   },
   "outputs": [],
   "source": [
    "# import the lexicon\n",
    "one = time.time()\n",
    "with open('tsikchen.txt', 'r', -1, 'utf-8-sig') as f:\n",
    "    lexicon = [line.strip() for line in f.readlines()]\n",
    "# add all the particles\n",
    "lexicon.extend(['གི', 'ཀྱི', 'གྱི', 'ཡི', 'གིས', 'ཀྱིས', 'གྱིས', 'ཡིས', 'སུ', 'ཏུ', 'དུ', 'རུ', 'སྟེ', 'ཏེ', 'དེ', 'ཀྱང', 'ཡང', 'འང', 'གམ', 'ངམ', 'དམ', 'ནམ', 'བམ', 'མམ', 'འམ', 'རམ', 'ལམ', 'སམ', 'ཏམ', 'གོ', 'ངོ', 'དོ', 'ནོ', 'མོ', 'འོ', 'རོ', 'ལོ', 'སོ', 'ཏོ', 'ཅིང', 'ཅེས', 'ཅེའོ', 'ཅེ་ན', 'ཅིག', 'ཞིང', 'ཞེས', 'ཞེའོ', 'ཞེ་ན', 'ཞིག', 'ཤིང', 'ཤེའོ', 'ཤེ་ན', 'ཤིག', 'ལ', 'ན', 'ནས', 'ལས', 'ནི', 'དང', 'གང', 'ཅི', 'ཇི', 'གིན', 'གྱིན', 'ཀྱིན', 'ཡིན', 'པ', 'བ', 'པོ', 'བོ'])\n",
    "# add all Monlam verbs\n",
    "with open('monlam1_verbs.txt', 'r', -1, 'utf-8-sig') as f:\n",
    "    monlam_verbs = [line.strip() for line in f.readlines()]\n",
    "for entry in monlam_verbs:\n",
    "    verb = entry.split(' | ')[0]\n",
    "    if verb not in lexicon:\n",
    "        lexicon.append(verb)\n",
    "\n",
    "# import the Monlam POS tags\n",
    "with open('./monlam1_pos.txt', 'r', -1, 'utf-8-sig') as f: # Monlam\n",
    "    monlam = [line.strip() for line in f.readlines()]\n",
    "monlam_pos = {}\n",
    "for line in monlam:\n",
    "    parts = line.split('—') # Monlam\n",
    "    monlam_pos[parts[0]] = parts[1] \n",
    "\n",
    "# import the Hill POS tags\n",
    "with open('hill_pos.txt', 'r', -1, 'utf-8-sig') as f: # Hill\n",
    "    hill = [line.strip() for line in f.readlines()]\n",
    "hill_pos = {}\n",
    "for line in hill:\n",
    "    parts = line.split('—') # Hill\n",
    "    hill_pos[parts[0]] = parts[1]\n",
    "two = time.time()"
   ]
  },
  {
   "cell_type": "code",
   "execution_count": 4,
   "metadata": {
    "collapsed": false
   },
   "outputs": [
    {
     "name": "stdout",
     "output_type": "stream",
     "text": [
      "3.1174843311309814\n"
     ]
    }
   ],
   "source": [
    "print(two - one)"
   ]
  },
  {
   "cell_type": "code",
   "execution_count": 5,
   "metadata": {
    "collapsed": false
   },
   "outputs": [],
   "source": [
    "def part_agreement(previous, particle):\n",
    "    final = previous[-1]\n",
    "    dreldra = {'ད' : 'ཀྱི', 'བ' : 'ཀྱི', 'ས' : 'ཀྱི', 'ག' : 'གི', 'ང' : 'གི', 'ན' : 'གྱི', 'མ' : 'གྱི', 'ར' : 'གྱི', 'ལ' : 'གྱི', 'འ' : 'ཡི', 'མཐའ་མེད' : 'ཡི'}\n",
    "    jedra = {'ད' : 'ཀྱིས', 'བ' : 'ཀྱིས', 'ས' : 'ཀྱིས', 'ག' : 'གིས', 'ང' : 'གིས', 'ན' : 'གྱིས', 'མ' : 'གྱིས', 'ར' : 'གྱིས', 'ལ' : 'གྱིས', 'འ' : 'ཡིས', 'མཐའ་མེད' : 'ཡིས'}\n",
    "    ladon = {'ག' : 'ཏུ', 'བ' : 'ཏུ', 'ད་དྲག' : 'ཏུ', 'ང' : 'དུ', 'ད' : 'དུ', 'ན' : 'དུ', 'མ' : 'དུ', 'ར' : 'དུ', 'ལ' : 'དུ', 'འ' : 'རུ', 'མཐའ་མེད' : 'རུ', 'ས' : 'སུ'}\n",
    "    lhakce = {'ན' : 'ཏེ', 'ར' : 'ཏེ', 'ལ' : 'ཏེ', 'ས' : 'ཏེ', 'ད' : 'དེ', 'ག' : 'སྟེ', 'ང' : 'སྟེ', 'བ' : 'སྟེ', 'མ' : 'སྟེ', 'འ' : 'སྟེ', 'མཐའ་མེད' : 'སྟེ'}\n",
    "    gyendu = {'ག' : 'ཀྱང', 'ད' : 'ཀྱང', 'བ' : 'ཀྱང', 'ས' : 'ཀྱང', 'འ' : 'འང', 'མཐའ་མེད' : 'འང', 'ང' : 'ཡང', 'ན' : 'ཡང', 'མ' : 'ཡང', 'འ' : 'ཡང', 'ར' : 'ཡང', 'ལ' : 'ཡང', 'མཐའ་མེད' : 'ཡང'}\n",
    "    jedu = {'ག' : 'གམ', 'ང' : 'ངམ', 'ད་དྲག' : 'ཏམ', 'ད' : 'དམ', 'ན' : 'ནམ', 'བ' : 'བམ', 'མ' : 'མམ', 'འ' : 'འམ', 'ར' : 'རམ', 'ལ' : 'ལམ', 'ས' : 'སམ'}\n",
    "    dagdra = {'ག' : 'པ', 'ད' : 'པ', 'བ' : 'པ', 'ས' : 'པ', 'ན' : 'པ', 'མ' : 'པ', 'ག' : 'པོ', 'ད' : 'པོ', 'བ' : 'པོ', 'ས' : 'པོ', 'ན' : 'པོ', 'མ' : 'པོ', 'ང' : 'བ', 'འ' : 'བ', 'ར' : 'བ', 'ལ' : 'བ', 'མཐའ་མེད' : 'བ', 'ང' : 'བོ', 'འ' : 'བོ', 'ར' : 'བོ', 'ལ' : 'བོ', 'མཐའ་མེད' : 'བོ'}\n",
    "    lardu = {'ག' : 'གོ', 'ང' : 'ངོ', 'ད་དྲག' : 'ཏོ', 'ད' : 'དོ', 'ན' : 'ནོ', 'བ' : 'བོ', 'མ' : 'མོ', 'འ' : 'འོ', 'ར' : 'རོ', 'ལ' : 'ལོ', 'ས' : 'སོ'}\n",
    "    cing = {'ག' : 'ཅིང', 'ད' : 'ཅིང', 'བ' : 'ཅིང', 'ད་དྲག' : 'ཅིང', 'ང' : 'ཞིང', 'ན' : 'ཞིང', 'མ' : 'ཞིང', 'འ' : 'ཞིང', 'ར' : 'ཞིང', 'ལ' : 'ཞིང', 'མཐའ་མེད' : 'ཞིང', 'ས' : 'ཤིང'}\n",
    "    ces = {'ག' : 'ཅེས', 'ད' : 'ཅེས', 'བ' : 'ཅེས', 'ད་དྲག' : 'ཅེས', 'ང' : 'ཞེས', 'ན' : 'ཞེས', 'མ' : 'ཞེས', 'འ' : 'ཞེས', 'ར' : 'ཞེས', 'ལ' : 'ཞེས', 'ས' : 'ཞེས', 'མཐའ་མེད' : 'ཞེས'}\n",
    "    ceo = {'ག' : 'ཅེའོ', 'ད' : 'ཅེའོ', 'བ' : 'ཅེའོ', 'ད་དྲག' : 'ཅེའོ', 'ང' : 'ཞེའོ', 'ན' : 'ཞེའོ', 'མ' : 'ཞེའོ', 'འ' : 'ཞེའོ', 'ར' : 'ཞེའོ', 'ལ' : 'ཞེའོ', 'མཐའ་མེད' : 'ཞེའོ', 'ས' : 'ཤེའོ'}\n",
    "    cena = {'ག' : 'ཅེ་ན', 'ད' : 'ཅེ་ན', 'བ' : 'ཅེ་ན', 'ད་དྲག' : 'ཅེ་ན', 'ང' : 'ཞེ་ན', 'ན' : 'ཞེ་ན', 'མ' : 'ཞེ་ན', 'འ' : 'ཞེ་ན', 'ར' : 'ཞེ་ན', 'ལ' : 'ཞེ་ན', 'མཐའ་མེད' : 'ཞེ་ན', 'ས' : 'ཤེ་ན'}\n",
    "    cig = {'ག' : 'ཅིག', 'ད' : 'ཅིག', 'བ' : 'ཅིག', 'ད་དྲག' : 'ཅིག', 'ང' : 'ཞིག', 'ན' : 'ཞིག', 'མ' : 'ཞིག', 'འ' : 'ཞིག', 'ར' : 'ཞིག', 'ལ' : 'ཞིག', 'མཐའ་མེད' : 'ཞིག', 'ས' : 'ཤིག'}\n",
    "    cases = [([\"གི\", \"ཀྱི\", \"གྱི\", \"ཡི\"], dreldra), ([\"གིས\", \"ཀྱིས\", \"གྱིས\", \"ཡིས\"], jedra), ([\"སུ\", \"ཏུ\", \"དུ\", \"རུ\"] , ladon), ([\"སྟེ\", \"ཏེ\", \"དེ\"], lhakce), ([\"ཀྱང\", \"ཡང\", \"འང\"], gyendu), ([\"གམ\", \"ངམ\", \"དམ\", \"ནམ\", \"བམ\", \"མམ\", \"འམ\", \"རམ\", \"ལམ\", \"སམ\", \"ཏམ\"], jedu), ([\"པ\", \"པོ\", \"བ\", \"བོ\"], dagdra), ([\"གོ\", \"ངོ\", \"དོ\", \"ནོ\", \"བོ\", \"མོ\", \"འོ\", \"རོ\", \"ལོ\", \"སོ\", \"ཏོ\"] , lardu), ([\"ཅིང\",  \"ཤིང\", \"ཞིང\"], cing), ([\"ཅེས\",  \"ཞེས\"], ces), ([\"ཅེའོ\",  \"ཤེའོ\",  \"ཞེའོ\"], ceo), ([\"ཅེ་ན\",  \"ཤེ་ན\",  \"ཞེ་ན\"], cena), ([\"ཅིག\",  \"ཤིག\",  \"ཞིག\"], cig)]\n",
    "    correction = ''\n",
    "    for case in cases:\n",
    "        if particle in case[0]:\n",
    "            correction = case[1][final]\n",
    "    return correction"
   ]
  },
  {
   "cell_type": "code",
   "execution_count": 6,
   "metadata": {
    "collapsed": false
   },
   "outputs": [],
   "source": [
    "def get_pos(dict, key):\n",
    "    if key.endswith('་'):\n",
    "        key = key[:-1]\n",
    "    return dict.get(key)\n",
    "\n",
    "def get_main_pos(key, num):\n",
    "    if num == 0:\n",
    "        Dict = monlam_pos\n",
    "    if num == 1:\n",
    "        Dict = hill_pos\n",
    "    pos = get_pos(Dict, key)\n",
    "    main = []\n",
    "    if pos != None:\n",
    "        # Monlam\n",
    "        if num == 0:\n",
    "            parts = pos.split('#')\n",
    "            for part in parts:\n",
    "                if part != '':\n",
    "                    main.append(part.split(':')[0])\n",
    "\n",
    "        # Hill\n",
    "        if num == 1:\n",
    "            parts = pos.split('_')\n",
    "            for part in parts:\n",
    "                if part != '':\n",
    "                    if '.' in part:\n",
    "                        main.append(part.split('.')[0])\n",
    "                    else:\n",
    "                        main.append(part)        \n",
    "    return main"
   ]
  },
  {
   "cell_type": "code",
   "execution_count": 108,
   "metadata": {
    "collapsed": false
   },
   "outputs": [],
   "source": [
    "total = 0\n",
    "def isWord(syls):\n",
    "    global total\n",
    "    maybe = '་'.join(syls)\n",
    "    final = False\n",
    "    if bisect.bisect_left(lexicon, maybe):\n",
    "        final = True\n",
    "    elif bisect.bisect_left(lexicon, re.sub(merged_part, '', maybe)):\n",
    "        final = True\n",
    "    return final\n",
    "\n",
    "def process(list1, list2, num):\n",
    "    global c\n",
    "    word = '་'.join(list1[c:c+num])\n",
    "    if word not in lexicon:\n",
    "        maybe = re.split(merged_part, word)\n",
    "        print(maybe, word)\n",
    "        list2.append(maybe[0])\n",
    "        list2.append(maybe[1]+'་')\n",
    "        #del list1[:num]\n",
    "        c = c + num\n",
    "    else:\n",
    "        list2.append(word+\"་\")\n",
    "        #del list1[:num]\n",
    "        c = c + num"
   ]
  },
  {
   "cell_type": "code",
   "execution_count": 49,
   "metadata": {
    "collapsed": true
   },
   "outputs": [],
   "source": [
    "with open('./IN/C1.txt', 'r', -1, 'utf-8-sig') as f:\n",
    "    current_file = f.read().replace('\\n', '').replace('\\r\\n', '')"
   ]
  },
  {
   "cell_type": "code",
   "execution_count": 101,
   "metadata": {
    "collapsed": true
   },
   "outputs": [],
   "source": [
    "import bisect"
   ]
  },
  {
   "cell_type": "code",
   "execution_count": 109,
   "metadata": {
    "collapsed": false
   },
   "outputs": [
    {
     "name": "stdout",
     "output_type": "stream",
     "text": [
      "['ཤེས་རབ་ཀྱི་ཕ'] ཤེས་རབ་ཀྱི་ཕ\n"
     ]
    },
    {
     "ename": "IndexError",
     "evalue": "list index out of range",
     "output_type": "error",
     "traceback": [
      "\u001b[1;31m---------------------------------------------------------------------------\u001b[0m",
      "\u001b[1;31mIndexError\u001b[0m                                Traceback (most recent call last)",
      "\u001b[1;32m<ipython-input-109-e761ca22e918>\u001b[0m in \u001b[0;36m<module>\u001b[1;34m()\u001b[0m\n\u001b[0;32m      9\u001b[0m \u001b[1;32mwhile\u001b[0m \u001b[0mc\u001b[0m \u001b[1;33m<\u001b[0m \u001b[0mlen\u001b[0m\u001b[1;33m(\u001b[0m\u001b[0msyls\u001b[0m\u001b[1;33m)\u001b[0m\u001b[1;33m:\u001b[0m\u001b[1;33m\u001b[0m\u001b[0m\n\u001b[0;32m     10\u001b[0m     \u001b[1;32mif\u001b[0m   \u001b[0misWord\u001b[0m\u001b[1;33m(\u001b[0m\u001b[0msyls\u001b[0m\u001b[1;33m[\u001b[0m\u001b[0mc\u001b[0m\u001b[1;33m:\u001b[0m\u001b[0mc\u001b[0m\u001b[1;33m+\u001b[0m\u001b[1;36m4\u001b[0m\u001b[1;33m]\u001b[0m\u001b[1;33m)\u001b[0m\u001b[1;33m:\u001b[0m\u001b[1;33m\u001b[0m\u001b[0m\n\u001b[1;32m---> 11\u001b[1;33m         \u001b[0mprocess\u001b[0m\u001b[1;33m(\u001b[0m\u001b[0msyls\u001b[0m\u001b[1;33m,\u001b[0m \u001b[0mwords\u001b[0m\u001b[1;33m,\u001b[0m \u001b[1;36m4\u001b[0m\u001b[1;33m)\u001b[0m\u001b[1;33m\u001b[0m\u001b[0m\n\u001b[0m\u001b[0;32m     12\u001b[0m     \u001b[1;32melif\u001b[0m \u001b[0misWord\u001b[0m\u001b[1;33m(\u001b[0m\u001b[0msyls\u001b[0m\u001b[1;33m[\u001b[0m\u001b[0mc\u001b[0m\u001b[1;33m:\u001b[0m\u001b[0mc\u001b[0m\u001b[1;33m+\u001b[0m\u001b[1;36m3\u001b[0m\u001b[1;33m]\u001b[0m\u001b[1;33m)\u001b[0m\u001b[1;33m:\u001b[0m\u001b[1;33m\u001b[0m\u001b[0m\n\u001b[0;32m     13\u001b[0m         \u001b[0mprocess\u001b[0m\u001b[1;33m(\u001b[0m\u001b[0msyls\u001b[0m\u001b[1;33m,\u001b[0m \u001b[0mwords\u001b[0m\u001b[1;33m,\u001b[0m \u001b[1;36m3\u001b[0m\u001b[1;33m)\u001b[0m\u001b[1;33m\u001b[0m\u001b[0m\n",
      "\u001b[1;32m<ipython-input-108-47e27f89aaf2>\u001b[0m in \u001b[0;36mprocess\u001b[1;34m(list1, list2, num)\u001b[0m\n\u001b[0;32m     17\u001b[0m         \u001b[0mprint\u001b[0m\u001b[1;33m(\u001b[0m\u001b[0mmaybe\u001b[0m\u001b[1;33m,\u001b[0m \u001b[0mword\u001b[0m\u001b[1;33m)\u001b[0m\u001b[1;33m\u001b[0m\u001b[0m\n\u001b[0;32m     18\u001b[0m         \u001b[0mlist2\u001b[0m\u001b[1;33m.\u001b[0m\u001b[0mappend\u001b[0m\u001b[1;33m(\u001b[0m\u001b[0mmaybe\u001b[0m\u001b[1;33m[\u001b[0m\u001b[1;36m0\u001b[0m\u001b[1;33m]\u001b[0m\u001b[1;33m)\u001b[0m\u001b[1;33m\u001b[0m\u001b[0m\n\u001b[1;32m---> 19\u001b[1;33m         \u001b[0mlist2\u001b[0m\u001b[1;33m.\u001b[0m\u001b[0mappend\u001b[0m\u001b[1;33m(\u001b[0m\u001b[0mmaybe\u001b[0m\u001b[1;33m[\u001b[0m\u001b[1;36m1\u001b[0m\u001b[1;33m]\u001b[0m\u001b[1;33m+\u001b[0m\u001b[1;34m'་'\u001b[0m\u001b[1;33m)\u001b[0m\u001b[1;33m\u001b[0m\u001b[0m\n\u001b[0m\u001b[0;32m     20\u001b[0m         \u001b[1;31m#del list1[:num]\u001b[0m\u001b[1;33m\u001b[0m\u001b[1;33m\u001b[0m\u001b[0m\n\u001b[0;32m     21\u001b[0m         \u001b[0mc\u001b[0m \u001b[1;33m=\u001b[0m \u001b[0mc\u001b[0m \u001b[1;33m+\u001b[0m \u001b[0mnum\u001b[0m\u001b[1;33m\u001b[0m\u001b[0m\n",
      "\u001b[1;31mIndexError\u001b[0m: list index out of range"
     ]
    }
   ],
   "source": [
    "merged_part = r'(ར|ས|འི|འམ|འང)$'\n",
    "\n",
    "syls = re.sub(r\"([།|༎|༏|༐|༑|༔|\\s]+)\", \"་\\g<1>་\", current_file)\n",
    "syls = re.split(r\"་+\", syls)\n",
    "\n",
    "non_words = []\n",
    "words = []\n",
    "c = 0\n",
    "while c < len(syls):\n",
    "    if   isWord(syls[c:c+4]): \n",
    "        process(syls, words, 4)\n",
    "    elif isWord(syls[c:c+3]): \n",
    "        process(syls, words, 3)\n",
    "    elif isWord(syls[c:c+2]): \n",
    "        process(syls, words, 2)\n",
    "    elif isWord(syls[c:c+1]): \n",
    "        process(syls, words, 1)\n",
    "    else:\n",
    "        words.append('་'.join(syls[c:c+1])+\"་*\")\n",
    "        non_words.append('་'.join(syls[c:c+1])+\"་\")\n",
    "        c = c + 1\n",
    "print(total)"
   ]
  },
  {
   "cell_type": "code",
   "execution_count": 105,
   "metadata": {
    "collapsed": false,
    "scrolled": true
   },
   "outputs": [
    {
     "data": {
      "text/plain": [
       "['༄༅་*', '། །་*', 'ཤེས་རབ་ཀྱི་ཕ']"
      ]
     },
     "execution_count": 105,
     "metadata": {},
     "output_type": "execute_result"
    }
   ],
   "source": [
    "words"
   ]
  },
  {
   "cell_type": "code",
   "execution_count": 8,
   "metadata": {
    "collapsed": false
   },
   "outputs": [],
   "source": [
    "for file in os.listdir('./IN/'):\n",
    "    if file.endswith(\".txt\"):\n",
    "    #todo - replace \\n by \\s try: with open('drugs') as temp_file: \\n drugs = [line.rstrip('\\n') for line in temp_file]\n",
    "        try:\n",
    "            with open('./IN/' + file, 'r', -1, 'utf-8-sig') as f:\n",
    "                current_file = f.read().replace('\\n', '').replace('\\r\\n', '')\n",
    "\n",
    "        except:\n",
    "            print(\"Save all IN files as UTF-8 and try again.\")\n",
    "            #input()\n",
    "    else:\n",
    "        print(\"\\nSave all IN files as text files and try again.\")\n",
    "        #input()\n",
    "    ######################\n",
    "    # Segmentation process\n",
    "    merged_part = r'(ར|ས|འི|འམ|འང)$'\n",
    "    \n",
    "    syls = re.sub(r\"([།|༎|༏|༐|༑|༔|\\s]+)\", \"་\\g<1>་\", current_file)\n",
    "    syls = re.split(r\"་+\", syls)\n",
    "    \n",
    "    non_words = []\n",
    "    words = []\n",
    "    while len(syls) > 0:\n",
    "        if   isWord(syls[:4]): \n",
    "            start = time.time()\n",
    "            process(syls, words, 4)\n",
    "            end = time.time()\n",
    "            four\n",
    "        elif isWord(syls[:3]): process(syls, words, 3)\n",
    "        elif isWord(syls[:2]): process(syls, words, 2)\n",
    "        elif isWord(syls[:1]): process(syls, words, 1)\n",
    "        else:\n",
    "            words.append('་'.join(syls[:1])+\"་*\")\n",
    "            non_words.append('་'.join(syls[:1])+\"་\")\n",
    "            del syls[:1]\n",
    "    #\n",
    "    ######################\n",
    "    \n",
    "    ######################\n",
    "    # particle check\n",
    "    for num, word in enumerate(words):\n",
    "        # དེ་ : if preceded by a noun, it is a pronoun, if preceded by a verb, it is a particle\n",
    "        if word == 'དེ':\n",
    "            previous = words[num-1]\n",
    "            monlam_previous = get_main_pos(previous, 0)\n",
    "            monlam_previous = list(set(monlam_previous))\n",
    "            hill_previous = get_main_pos(previous, 1)\n",
    "            hill_previous = list(set(hill_previous))\n",
    "            if 'བྱ་ཚིག' in monlam_previous or 'v' in hill_previous:\n",
    "                words[num] = words[num]+'P'\n",
    "                corr = part_agreement(previous[:-1], word)\n",
    "                if corr != word:\n",
    "                    words[num] = words[num] + corr\n",
    "                words[num-1] = words[num-1]+'_'+'/'.join(hill_previous+monlam_previous)\n",
    "    #['ཡི', 'གྱིས', 'སུ', 'དུ', 'ལམ', 'གམ', 'ངམ', 'དམ', 'ནམ', 'བམ', 'རམ', 'པ', 'པོ', 'བ', 'བོ', 'གོ', 'ངོ', 'དོ', 'མོ', 'འོ', 'རོ', 'ལོ', 'སོ', 'དེ',  'ཞིང']\n",
    "    #\n",
    "    ######################\n",
    "    \n",
    "    ######################\n",
    "    # count percentage of POS tagged words\n",
    "    #pos_tagged = []\n",
    "    #for word in words:\n",
    "    #    wor = word\n",
    "    #    if word.endswith('་'):\n",
    "    #        wor = word[:-1]\n",
    "    #    if wor in monlam_pos.keys() and wor in hill_pos.keys():\n",
    "    #        pos_tagged.append(word+'|'+hill_pos[wor]+'#'+monlam_pos[wor])\n",
    "    #    elif wor in monlam_pos.keys() and wor not in hill_pos.keys():\n",
    "    #        pos_tagged.append(word+'|'+monlam_pos[wor])\n",
    "    #    elif wor not in monlam_pos.keys() and wor in hill_pos.keys():\n",
    "    #        pos_tagged.append(word+'|'+hill_pos[wor])\n",
    "    #    else:\n",
    "    #        pos_tagged.append(word)\n",
    "\n",
    "    #pos = 0\n",
    "    #no_pos = 0\n",
    "    #for word in pos_tagged:\n",
    "    #    if '|' in word:\n",
    "    #        pos = pos+1\n",
    "    #    else:\n",
    "    #        no_pos = pos+1\n",
    "    #print(pos, 'words out of', len(pos_tagged), 'have a POS.', '\\n', pos*100/len(pos_tagged), '% of the words have tags.')\n",
    "    #\n",
    "    ######################\n",
    "    \n",
    "    ######################\n",
    "    # flag particles\n",
    "    \n",
    "    \n",
    "    #\n",
    "    ######################\n",
    "    \n",
    "    ######################\n",
    "    # flag verbs\n",
    "    \n",
    "    \n",
    "    #\n",
    "    ######################\n",
    "    \n",
    "\n",
    "    # add linebreaks after 400 words\n",
    "    for i in range(w_nb-1, len(words), w_nb):\n",
    "        words[i] += '\\n'\n",
    "    \n",
    "    # write output\n",
    "    with open('./OUT/' + 'seg_' + file, 'w', -1, 'utf-8-sig') as f:\n",
    "        f.write(' '.join(words))\n",
    "    \n",
    "    with open('nonwords_' + file, 'w', -1, 'utf-8-sig') as f:\n",
    "        f.write('\\n'.join(sorted(list(set(non_words)))))\n",
    "    six = time.time()"
   ]
  },
  {
   "cell_type": "code",
   "execution_count": 13,
   "metadata": {
    "collapsed": false
   },
   "outputs": [
    {
     "name": "stdout",
     "output_type": "stream",
     "text": [
      "all process 7.694909334182739 seconds\n"
     ]
    }
   ],
   "source": [
    "print('all process', six - three, 'seconds')"
   ]
  },
  {
   "cell_type": "code",
   "execution_count": 14,
   "metadata": {
    "collapsed": false
   },
   "outputs": [
    {
     "name": "stdout",
     "output_type": "stream",
     "text": [
      "segmentation 7.693735599517822 seconds\n"
     ]
    }
   ],
   "source": [
    "print('segmentation', four - three, 'seconds')"
   ]
  },
  {
   "cell_type": "code",
   "execution_count": 15,
   "metadata": {
    "collapsed": false
   },
   "outputs": [
    {
     "name": "stdout",
     "output_type": "stream",
     "text": [
      "particle check 0.00045680999755859375 seconds\n"
     ]
    }
   ],
   "source": [
    "print('particle check', five - four, 'seconds')"
   ]
  },
  {
   "cell_type": "code",
   "execution_count": 16,
   "metadata": {
    "collapsed": false
   },
   "outputs": [
    {
     "name": "stdout",
     "output_type": "stream",
     "text": [
      "writing output files 0.0007169246673583984 seconds\n"
     ]
    }
   ],
   "source": [
    "print('writing output files', six - five, 'seconds')"
   ]
  },
  {
   "cell_type": "code",
   "execution_count": 18,
   "metadata": {
    "collapsed": false
   },
   "outputs": [
    {
     "ename": "SyntaxError",
     "evalue": "invalid syntax (<ipython-input-18-fe631ef74a1f>, line 5)",
     "output_type": "error",
     "traceback": [
      "\u001b[1;36m  File \u001b[1;32m\"<ipython-input-18-fe631ef74a1f>\"\u001b[1;36m, line \u001b[1;32m5\u001b[0m\n\u001b[1;33m    return (True if pos != lists_len[listName] and lists[listName][pos])\u001b[0m\n\u001b[1;37m                                                                       ^\u001b[0m\n\u001b[1;31mSyntaxError\u001b[0m\u001b[1;31m:\u001b[0m invalid syntax\n"
     ]
    }
   ],
   "source": [
    "def search(entry, listName):   # can't use a to specify default for hi\n",
    "    global lists, lists_len\n",
    "    # using bisect here divides computation time by a huge amount\n",
    "    pos = bisect_left(lists[listName],entry,0,lists_len[listName]) # gives the index of a given element(entry) in lists[listName]\n",
    "    return (True if pos != lists_len[listName] and lists[listName][pos])"
   ]
  },
  {
   "cell_type": "code",
   "execution_count": null,
   "metadata": {
    "collapsed": true
   },
   "outputs": [],
   "source": []
  }
 ],
 "metadata": {
  "kernelspec": {
   "display_name": "Python 3",
   "language": "python",
   "name": "python3"
  },
  "language_info": {
   "codemirror_mode": {
    "name": "ipython",
    "version": 3
   },
   "file_extension": ".py",
   "mimetype": "text/x-python",
   "name": "python",
   "nbconvert_exporter": "python",
   "pygments_lexer": "ipython3",
   "version": "3.5.1"
  }
 },
 "nbformat": 4,
 "nbformat_minor": 0
}
