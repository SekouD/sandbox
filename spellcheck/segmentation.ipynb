{
 "cells": [
  {
   "cell_type": "code",
   "execution_count": 1,
   "metadata": {
    "collapsed": true
   },
   "outputs": [],
   "source": [
    "import re\n",
    "import os\n",
    "w_nb = 6 # number of words before linebreaks in output"
   ]
  },
  {
   "cell_type": "code",
   "execution_count": 2,
   "metadata": {
    "collapsed": false
   },
   "outputs": [],
   "source": [
    "# import the lexicon\n",
    "with open('lexicon.txt', 'r', -1, 'utf-8-sig') as f:\n",
    "    content = [line.strip() for line in f.readlines()]\n",
    "lexicon = {}\n",
    "for line in content:\n",
    "    parts = line.split('***')\n",
    "    lexicon[parts[0]] = parts[1]"
   ]
  },
  {
   "cell_type": "code",
   "execution_count": 3,
   "metadata": {
    "collapsed": true
   },
   "outputs": [],
   "source": [
    "def isWord(syls):\n",
    "    maybe = '་'.join(syls)\n",
    "    final = False\n",
    "    if maybe in lexicon:\n",
    "        final = True\n",
    "    elif re.sub(merged_part, '', maybe) in lexicon:\n",
    "        final = True\n",
    "    return final\n",
    "\n",
    "def process(list1, list2, num):\n",
    "    word = '་'.join(list1[:num])\n",
    "    if word not in lexicon:\n",
    "        maybe = re.split(merged_part, word)\n",
    "        list2.append(maybe[0])\n",
    "        list2.append(maybe[1]+'་')\n",
    "        del list1[:num]\n",
    "    else:\n",
    "        list2.append(word+\"་\")\n",
    "        del list1[:num]"
   ]
  },
  {
   "cell_type": "code",
   "execution_count": 4,
   "metadata": {
    "collapsed": false
   },
   "outputs": [],
   "source": [
    "for file in os.listdir('./IN/'):\n",
    "    if file.endswith(\".txt\"):\n",
    "    #todo - replace \\n by \\s try: with open('drugs') as temp_file: \\n drugs = [line.rstrip('\\n') for line in temp_file]\n",
    "        try:\n",
    "            with open('./IN/' + file, 'r', -1, 'utf-8-sig') as f:\n",
    "                current_file = f.read().replace('\\n', '').replace('\\r\\n', '')\n",
    "\n",
    "        except:\n",
    "            print(\"Save all IN files as UTF-8 and try again.\")\n",
    "            input()\n",
    "    else:\n",
    "        print(\"\\nSave all IN files as text files and try again.\")\n",
    "        input()\n",
    "    \n",
    "    ######################\n",
    "    # Segmentation process\n",
    "    merged_part = r'(ར|ས|འི|འམ|འང)$'\n",
    "    \n",
    "    syls = re.sub(r\"([།|༎|༏|༐|༑|༔|\\s]+)\", \"་\\g<1>་\", current_file)\n",
    "    syls = re.split(r\"་+\", syls)\n",
    "    \n",
    "    words = []\n",
    "    while len(syls) > 0:\n",
    "        if   isWord(syls[:4]): process(syls, words, 4)\n",
    "        elif isWord(syls[:3]): process(syls, words, 3)\n",
    "        elif isWord(syls[:2]): process(syls, words, 2)\n",
    "        elif isWord(syls[:1]): process(syls, words, 1)\n",
    "        else:\n",
    "            words.append('་'.join(syls[:1])+\"་*\")\n",
    "            del syls[:1]\n",
    "    #\n",
    "    ######################\n",
    "    \n",
    "    # add linebreaks after 400 words\n",
    "    for i in range(w_nb-1, len(words), w_nb):\n",
    "        words[i] += '\\n'\n",
    "    \n",
    "    # write output\n",
    "    with open('./OUT/' + 'seg_' + file, 'w', -1, 'utf-8-sig') as f:\n",
    "        f.write(' '.join(words))"
   ]
  },
  {
   "cell_type": "code",
   "execution_count": null,
   "metadata": {
    "collapsed": true
   },
   "outputs": [],
   "source": []
  },
  {
   "cell_type": "code",
   "execution_count": null,
   "metadata": {
    "collapsed": true
   },
   "outputs": [],
   "source": []
  }
 ],
 "metadata": {
  "kernelspec": {
   "display_name": "Python 3",
   "language": "python",
   "name": "python3"
  },
  "language_info": {
   "codemirror_mode": {
    "name": "ipython",
    "version": 3
   },
   "file_extension": ".py",
   "mimetype": "text/x-python",
   "name": "python",
   "nbconvert_exporter": "python",
   "pygments_lexer": "ipython3",
   "version": "3.5.1"
  }
 },
 "nbformat": 4,
 "nbformat_minor": 0
}
