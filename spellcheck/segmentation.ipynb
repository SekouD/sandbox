{
 "cells": [
  {
   "cell_type": "code",
   "execution_count": 2,
   "metadata": {
    "collapsed": true
   },
   "outputs": [],
   "source": [
    "import re"
   ]
  },
  {
   "cell_type": "code",
   "execution_count": 8,
   "metadata": {
    "collapsed": false
   },
   "outputs": [
    {
     "name": "stdout",
     "output_type": "stream",
     "text": [
      "རྗེ་བཙུན་བླ་མ་དམིགས་པ་མེད་པའི་ཐུགས་རྗེ་ཆེན་པོ་དང་ལྡན་པ་རྣམས་ལ་ཕྱག་འཚལ་ལོ་། །་རིག་འཛིན\n",
      "རྗེ་བཙུན་ བླ་མ་ དམིགས་པ་ མེད་པ འི་ ཐུགས་རྗེ་ ཆེན་པོ་ དང་ ལྡན་པ་ རྣམས་ ལ་ ཕྱག་ འཚལ་ ལོ་* ། །་ རིག་* འཛིན་*\n"
     ]
    }
   ],
   "source": [
    "text = \"རྗེ་བཙུན་བླ་མ་དམིགས་པ་མེད་པའི་ཐུགས་རྗེ་ཆེན་པོ་དང་ལྡན་པ་རྣམས་ལ་ཕྱག་འཚལ་ལོ། །རིག་འཛིན\"\n",
    "lexicon = {'རྗེ་བཙུན' : '', 'བླ་མ' : '', 'དམིགས་པ' : '', 'མེད་པ' : '', 'ཐུགས་རྗེ' : '', 'ཆེན་པོ' : '', 'དང' : '', 'ལྡན་པ' : '', 'རྣམས' : '', '། ' : '', '། །' : '', '།' : '', 'ལ' : '', 'ཕྱག' : '', 'འཚལ' : ''}\n",
    "merged_part = {'ར''ས''འི''འམ''འང'}\n",
    "\n",
    "l1 = []\n",
    "l2 = []\n",
    "\n",
    "def isWord(syls):\n",
    "    maybe = '་'.join(syls)\n",
    "    final = False\n",
    "    if maybe in lexicon:\n",
    "        final = True\n",
    "    elif re.sub(r'(ར|ས|འི|འམ|འང)$', '', maybe) in lexicon:\n",
    "        final = True\n",
    "    return final\n",
    "\n",
    "def process(list1, list2, num):\n",
    "    word = '་'.join(l1[:num])\n",
    "    if word not in lexicon:\n",
    "        maybe = re.split(r'(ར|ས|འི|འམ|འང)$', word)[:-1]\n",
    "        list2.append(maybe[0])\n",
    "        list2.append(maybe[1]+'་')\n",
    "        del list1[:num]\n",
    "    else:\n",
    "        list2.append(word+\"་\")\n",
    "        del list1[:num]\n",
    "\n",
    "text1 = re.sub(r\"([།|༎|༏|༐|༑|༔|\\s]+)\", \"་\\g<1>་\", text)\n",
    "print(text1)\n",
    "l1 = re.split(r\"་+\", text1)\n",
    "        \n",
    "while len(l1) > 0:\n",
    "    if   isWord(l1[:4]): process(l1, l2, 4)\n",
    "    elif isWord(l1[:3]): process(l1, l2, 3)\n",
    "    elif isWord(l1[:2]): process(l1, l2, 2)\n",
    "    elif isWord(l1[:1]): process(l1, l2, 1)\n",
    "    else:\n",
    "        l2.append('་'.join(l1[:1])+\"་*\")\n",
    "        del l1[:1]\n",
    "\n",
    "yo = \" \".join(l2)\n",
    "print(yo)"
   ]
  },
  {
   "cell_type": "code",
   "execution_count": 19,
   "metadata": {
    "collapsed": false
   },
   "outputs": [
    {
     "name": "stdout",
     "output_type": "stream",
     "text": [
      "4\n",
      "3\n",
      "2\n",
      "1\n"
     ]
    }
   ],
   "source": [
    "\n",
    "    print(num)"
   ]
  },
  {
   "cell_type": "code",
   "execution_count": null,
   "metadata": {
    "collapsed": true
   },
   "outputs": [],
   "source": []
  }
 ],
 "metadata": {
  "kernelspec": {
   "display_name": "Python 3",
   "language": "python",
   "name": "python3"
  },
  "language_info": {
   "codemirror_mode": {
    "name": "ipython",
    "version": 3
   },
   "file_extension": ".py",
   "mimetype": "text/x-python",
   "name": "python",
   "nbconvert_exporter": "python",
   "pygments_lexer": "ipython3",
   "version": "3.5.1"
  }
 },
 "nbformat": 4,
 "nbformat_minor": 0
}
