{
 "metadata": {
  "name": "",
  "signature": "sha256:850e38b5cc739f86de691308a40ff8b95d35cff92728c1ee6c34f02e5921bc33"
 },
 "nbformat": 3,
 "nbformat_minor": 0,
 "worksheets": [
  {
   "cells": [
    {
     "cell_type": "heading",
     "level": 1,
     "metadata": {},
     "source": [
      "Concordancer. (outputs raw and xml)"
     ]
    },
    {
     "cell_type": "code",
     "collapsed": false,
     "input": [
      "import re"
     ],
     "language": "python",
     "metadata": {},
     "outputs": [],
     "prompt_number": 21
    },
    {
     "cell_type": "code",
     "collapsed": false,
     "input": [
      "input_file = '''\u0f49\u0f7a\u0f0b\u0f49\u0f7c\u0f53\u0f0b\u0f49\u0f72\u0f0b\u0f64\u0f74\u0f0b\u0f63\u0f66\u0f0d \n",
      "\u0f41\u0fb2\u0f7c\u0f0b\u0f56\u0f0b\u0f53\u0f72\u0f0b\u0f41\u0f7c\u0f44\u0f0b\u0f41\u0fb2\u0f7c\u0f0b\u0f60\u0f55\u0f7a\u0f63\u0f0b\u0f4f\u0f7a\u0f0b\u0f56\u0f62\u0fa1\u0f7a\u0f42\u0f0b\u0f54\u0f0b\u0f66\u0f7c\u0f42\u0f66\u0f0b\u0f42\u0f53\u0f7c\u0f51\u0f0b\u0f54\u0f0b\u0f51\u0f44\u0f7c\u0f66\u0f0b\u0f66\u0f74\u0f0b\u0f64\u0f7c\u0f58\u0f0b\u0f54\u0f62\u0f0b\u0f56\u0fb1\u0f7a\u0f51\u0f0b\u0f54\u0f60\u0f7c\u0f0d \u0f0d\n",
      "\u0f60\u0f41\u0f7c\u0f53\u0f0b\u0f51\u0f74\u0f0b\u0f60\u0f5b\u0f72\u0f53\u0f0b\u0f54\u0f0b\u0f53\u0f72\u0f0b\u0f41\u0f7c\u0f44\u0f0b\u0f41\u0fb2\u0f7c\u0f0b\u0f56\u0f60\u0f72\u0f0b\u0f46\u0f62\u0f0b\u0f42\u0f4f\u0f7c\u0f42\u0f66\u0f0b\u0f54\u0f0b\u0f42\u0f53\u0f7c\u0f51\u0f0b\u0f54\u0f60\u0f72\u0f0b\u0f56\u0f66\u0f58\u0f0b\u0f54\u0f0b\u0f62\u0f92\u0fb1\u0f74\u0f53\u0f0b\u0f58\u0f72\u0f0b\u0f42\u0f4f\u0f7c\u0f44\u0f0b\u0f5e\u0f72\u0f44\u0f0b\u0f58\u0f72\u0f0b\u0f56\u0f5f\u0f7c\u0f51\u0f0b\u0f54\u0f62\u0f0b\u0f56\u0fb1\u0f7a\u0f51\u0f0b\u0f54\u0f60\u0f7c\u0f0d \u0f0d\n",
      "\u0f60\u0f5a\u0f72\u0f42\u0f0b\u0f54\u0f0b\u0f53\u0f72\u0f0b\u0f41\u0fb2\u0f7c\u0f0b\u0f56\u0f0b\u0f51\u0f44\u0f0b\u0f60\u0f41\u0f7c\u0f53\u0f0b\u0f60\u0f5b\u0f72\u0f53\u0f0b\u0f42\u0fb1\u0f72\u0f0b\u0f62\u0f92\u0fb1\u0f74\u0f0b\u0f63\u0f66\u0f0b\u0f58\u0f72\u0f0b\u0f56\u0f5f\u0f7c\u0f51\u0f0b\u0f54\u0f62\u0f0b\u0f5a\u0f72\u0f42\u0f0b\u0f62\u0fa9\u0f74\u0f56\u0f0b\u0f66\u0fa8\u0fb2\u0f0b\u0f56\u0f62\u0f0b\u0f56\u0fb1\u0f7a\u0f51\u0f0b\u0f54\u0f60\u0f7c\u0f0d \u0f0d\n",
      "\u0f62\u0fa3\u0f58\u0f0b\u0f54\u0f62\u0f0b\u0f60\u0f5a\u0f7a\u0f0b\u0f56\u0f0b\u0f53\u0f72\u0f0b\u0f41\u0f7c\u0f44\u0f0b\u0f41\u0fb2\u0f7c\u0f60\u0f72\u0f0b\u0f46\u0f62\u0f0b\u0f42\u0f4f\u0f7c\u0f42\u0f66\u0f0b\u0f54\u0f0d \u0f66\u0f99\u0f72\u0f44\u0f0b\u0f56\u0f62\u0fa9\u0f7a\u0f0b\u0f56\u0f0b\u0f58\u0f7a\u0f51\u0f0b\u0f54\u0f62\u0f0b\u0f62\u0fa3\u0f58\u0f0b\u0f54\u0f62\u0f0b\u0f58\u0f50\u0f7c\u0f0b\u0f56\u0f59\u0f58\u0f0b\u0f54\u0f60\u0f72\u0f0b\u0f63\u0f66\u0f0b\u0f45\u0f53\u0f0b\u0f53\u0f7c\u0f0d \u0f0d'''\n",
      "\n",
      "plain_conc = []\n",
      "xml_entries = []\n",
      "# lines : cut the file in units separated by spaces\n",
      "mot = \"\u0f60\u0f51\u0f74\u0f63\u0f0b\u0f56\u0f0b\"\n",
      "left = 5\n",
      "right = 5\n",
      "\n",
      "occur_num = 1\n",
      "for line_number, line in enumerate(input_file):\n",
      "    if mot in line:\n",
      "        # find the positions of the occurences\n",
      "        syllabled = joinedword_list(mot, line)\n",
      "        positions = []\n",
      "        for syl_num, syl in enumerate(syllabled):\n",
      "            stripped_syl = syl.strip(\"\u0f0d\")\n",
      "            if mot == stripped_syl:\n",
      "                positions.append(syl_num)\n",
      "                \n",
      "        # establishes right and left context\n",
      "        for pos in positions:\n",
      "            middle = syllabled[pos]\n",
      "            \n",
      "            context_left = \"\"\n",
      "            if len(syllabled[0:pos]) <= left:\n",
      "                if len(syllabled[0:pos]) == 0:\n",
      "                    context_left = \"\"\n",
      "                else:\n",
      "                    context_left = \"\".join(syllabled[0:pos])\n",
      "            else:\n",
      "                context_left = \"\".join(syllabled[pos-9:pos])\n",
      "                \n",
      "            context_right = \"\"\n",
      "            if len(syllabled[pos+1:]) <= right:\n",
      "                if len(syllabled[pos+1:]) == 0:\n",
      "                    context_right = \"\"\n",
      "                else:\n",
      "                    context_right = \"\".join(syllabled[pos+1:])\n",
      "            else:\n",
      "                context_right = \"\".join(syllabled[pos+1:pos+1+right])\n",
      "            \n",
      "            plain_conc.append(str(line_number+1)+\"\\t\"+context_left+\" -\"+str(occur_num)+\"|\"+middle+\"|- \"+context_right)\n",
      "            #print(str(line_number+1)+\"\\t\"+context_left+\" -\"+str(occur_num)+\"|\"+middle+\"|- \"+context_right)  \n",
      "            # xml entries for the concordancer\n",
      "            entry_indent = \"\\n\\t\"\n",
      "            parts_indent = \"\\n\\t\\t\"\n",
      "            xml_entries.append(entry_indent+\"<entry number=\\\"\"+str(occur_num)+\"\\\" line=\\\"\"+str(line_number+1)+\"\\\">\"+parts_indent+\"<left>\"+context_left+\"</left>\"+parts_indent+\"<middle>\"+middle+\"</middle>\"+parts_indent+\"<right>\"+context_right+\"</right>\"+entry_indent+\"</entry>\")\n",
      "            occur_num = occur_num+1"
     ],
     "language": "python",
     "metadata": {},
     "outputs": [],
     "prompt_number": 29
    },
    {
     "cell_type": "code",
     "collapsed": false,
     "input": [
      "for p in plain_conc:\n",
      "    print(p)\n",
      "print()\n",
      "for x in xml_entries:\n",
      "    print(x)"
     ],
     "language": "python",
     "metadata": {},
     "outputs": [
      {
       "output_type": "stream",
       "stream": "stdout",
       "text": [
        "\n"
       ]
      }
     ],
     "prompt_number": 23
    },
    {
     "cell_type": "heading",
     "level": 1,
     "metadata": {},
     "source": [
      "Concordancer demo"
     ]
    },
    {
     "cell_type": "code",
     "collapsed": false,
     "input": [
      "from yaml import load, dump\n",
      "import codecs\n",
      "import pickle"
     ],
     "language": "python",
     "metadata": {},
     "outputs": []
    },
    {
     "cell_type": "code",
     "collapsed": false,
     "input": [
      "unknown = []"
     ],
     "language": "python",
     "metadata": {},
     "outputs": []
    },
    {
     "cell_type": "code",
     "collapsed": false,
     "input": [
      "parts = load(codecs.open('syllables_dict.yaml', 'r'))"
     ],
     "language": "python",
     "metadata": {},
     "outputs": []
    },
    {
     "cell_type": "code",
     "collapsed": false,
     "input": [
      "with open('syllables_dict.pickle', 'wb') as f:\n",
      "    pickle.dump(parts, f)"
     ],
     "language": "python",
     "metadata": {},
     "outputs": []
    },
    {
     "cell_type": "code",
     "collapsed": false,
     "input": [
      "with open('syllables_dict.pickle', 'rb') as f:\n",
      "    parts = pickle.load(f)"
     ],
     "language": "python",
     "metadata": {},
     "outputs": []
    },
    {
     "cell_type": "code",
     "collapsed": false,
     "input": [
      "text = \"\u0f42\u0f53\u0f66\u0f0b\u0f63\u0f74\u0f42\u0f66\u0f0b\u0f60\u0f51\u0f72\u0f0b\u0f63\u0f9f\u0f62\u0f0b\u0f63\u0f0b\u0f66\u0f7c\u0f44\u0f0b\u0f51\u0f0b\u0f46\u0f0b\u0f5a\u0f7c\u0f42\u0f66\u0f0b\u0f46\u0f7a\u0f53\u0f0b\u0f53\u0f66\u0f0b\u0f41\u0fb1\u0f56\u0f0b\u0f56\u0f66\u0f92\u0fb2\u0f42\u0f66\u0f0b\u0f56\u0fb1\u0f0b\u0f62\u0f92\u0fb1\u0f74\u0f62\u0f0b\u0f61\u0f44\u0f0b\u0f66\u0f99\u0f72\u0f44\u0f0b\u0f62\u0f97\u0f7a\u0f0b\u0f56\u0fb2\u0f63\u0f0b\u0f5e\u0f72\u0f44\u0f0b\u0f58\u0f72\u0f0b\u0f66\u0fa4\u0fb1\u0f7c\u0f51\u0f0b\u0f63\u0f66\u0f0b\u0f60\u0f51\u0f66\u0f0b\u0f54\u0f0b\u0f62\u0f56\u0f66\u0f0b\u0f40\u0fb1\u0f72\u0f0b\u0f66\u0fa4\u0fb1\u0f7c\u0f51\u0f0b\u0f5a\u0f74\u0f63\u0f0b\u0f56\u0f45\u0f66\u0f0b\u0f4f\u0f7a\u0f0b\u0f58\u0f72\u0f0b\u0f58\u0f44\u0f0b\u0f42\u0f72\u0f0b\u0f60\u0f51\u0f7c\u0f51\u0f0b\u0f54\u0f0b\u0f53\u0f72\u0f0b\u0f42\u0f5e\u0f74\u0f44\u0f0b\u0f42\u0f72\u0f0b\u0f51\u0f56\u0f44\u0f0b\u0f46\u0f60\u0f72\u0f0b\u0f42\u0f5e\u0f72\u0f0b\u0f62\u0fa9\u0f62\u0f0b\u0f60\u0f5b\u0f72\u0f53\u0f0b\u0f51\u0f42\u0f7c\u0f66\u0f0b\u0f54\u0f0b\u0f61\u0f72\u0f53\u0f0b\u0f5e\u0f72\u0f44\"\n",
      "text = text.split('\u0f0b')\n",
      "for num, t in enumerate(text):\n",
      "    if t in parts.keys():\n",
      "        if parts[text[num]]['mzh'] == '\u0f54' and parts[text[num+1]]['y1'] == '\u0f74':\n",
      "            print(text[num]+'\u0f0b'+text[num+1]+'\u0f0b''\u0f0b'+text[num+2])\n",
      "    else:\n",
      "        unknown.append(t)"
     ],
     "language": "python",
     "metadata": {},
     "outputs": []
    },
    {
     "cell_type": "code",
     "collapsed": false,
     "input": [
      "sa_gc = 0\n",
      "for t in text:\n",
      "    if t in parts.keys():\n",
      "        if parts[t]['gc'] == '\u0f66':\n",
      "            sa_gc = sa_gc+1\n",
      "print(sa_gc)"
     ],
     "language": "python",
     "metadata": {},
     "outputs": []
    },
    {
     "cell_type": "code",
     "collapsed": false,
     "input": [
      "unknown"
     ],
     "language": "python",
     "metadata": {},
     "outputs": []
    },
    {
     "cell_type": "code",
     "collapsed": false,
     "input": [
      "'\u0f5e\u0f72\u0f44' in parts.keys()"
     ],
     "language": "python",
     "metadata": {},
     "outputs": []
    },
    {
     "cell_type": "heading",
     "level": 1,
     "metadata": {},
     "source": [
      "Particle agreement"
     ]
    },
    {
     "cell_type": "code",
     "collapsed": false,
     "input": [
      "dreldra = []\n",
      "jedra = []\n",
      "jungkhung = [[\"\u0f4f\u0f74\", [\"\u0f42\", \"\u0f56\"]]]\n",
      "ladon = [[\"\u0f66\u0f74\", [\"\u0f66\"]], [\"\u0f4f\u0f74\", [\"\u0f42\", \"\u0f56\"]],[\"\u0f62\u0f74\", [\"\u0f60\"]], [\"\u0f51\u0f74\", [\"\u0f44\", \"\u0f51\", \"\u0f53\", \"\u0f58\", \"\u0f62\", \"\u0f63\"]]]\n",
      "all_particles = [dreldra, jedra, jungkhung, ladon]"
     ],
     "language": "python",
     "metadata": {},
     "outputs": [],
     "prompt_number": 24
    },
    {
     "cell_type": "code",
     "collapsed": false,
     "input": [
      "def find_wrong_agreement(case_list, syllabled_line):\n",
      "    ''' ! finish the text\n",
      "    for each syllable in the listed line\n",
      "    for each particle\n",
      "        if the syllable equals the particle and a syllable precedes the syllable at hand\n",
      "            for every correct agreement possibility\n",
      "                if the agreement is correct, yes = previous syllable + particle\n",
      "                if it is not correct, no = previous syllable + particle\n",
      "    if yes and no differ, return no\n",
      "    '''\n",
      "    wrong = []\n",
      "    for w in range(len(syllabled_line)):\n",
      "        yes = \"\"\n",
      "        no = \"\"\n",
      "        for l in range(len(case_list)):\n",
      "            if syllabled_line[w] == case_list[l][0] and w-1 >= 0:\n",
      "                for p in range(len(case_list[l][1])):\n",
      "                    if syllabled_line[w-1].endswith(case_list[l][1][p]):\n",
      "                        yes = syllabled_line[w-1]+\"\u0f0b\"+syllabled_line[w]\n",
      "                    else:\n",
      "                        no =  syllabled_line[w-1]+\"\u0f0b\"+syllabled_line[w]\n",
      "        if yes != no and no != \"\":\n",
      "            wrong.append(no)\n",
      "    return wrong"
     ],
     "language": "python",
     "metadata": {},
     "outputs": [],
     "prompt_number": 25
    },
    {
     "cell_type": "code",
     "collapsed": false,
     "input": [
      "words = [\"\u0f51\u0f74\",\"\u0f58\",\"\u0f4f\u0f74\",\"\u0f51\u0f42\",\"\u0f56\u0f5e\u0f72\u0f53\",\"\u0f51\u0f74\",\"\u0f56\u0f51\u0f42\",\"\u0f51\u0f74\",\"\u0f42\u0f72\",\"\u0f5a\u0f74\u0f63\",\"\u0f51\u0f74\",\"\u0f41\u0fb2\u0f72\u0f58\u0f66\",\"\u0f51\u0f74\",\"\u0f61\u0f7c\u0f44\u0f66\"]\n",
      "print(find_wrong_agreement(ladon, words))"
     ],
     "language": "python",
     "metadata": {},
     "outputs": [
      {
       "output_type": "stream",
       "stream": "stdout",
       "text": [
        "['\u0f58\u0f0b\u0f4f\u0f74', '\u0f56\u0f51\u0f42\u0f0b\u0f51\u0f74', '\u0f41\u0fb2\u0f72\u0f58\u0f66\u0f0b\u0f51\u0f74']\n"
       ]
      }
     ],
     "prompt_number": 26
    },
    {
     "cell_type": "code",
     "collapsed": false,
     "input": [
      "occurences =[]\n",
      "for line in input_file:\n",
      "    syllabled = line.split(\"\u0f0b\")\n",
      "    occur_list = []\n",
      "    for a in all_particles:\n",
      "        occur_list.append(find_wrong_agreement(a, syllabled))\n",
      "    \n",
      "    for o, x in enumerate(occur_list):\n",
      "        if len(x) > 0:\n",
      "            for p, y in enumerate(x):\n",
      "                if len(y) > 0:\n",
      "                    occurences.append(occur_list[o][p])"
     ],
     "language": "python",
     "metadata": {},
     "outputs": [],
     "prompt_number": 30
    },
    {
     "cell_type": "code",
     "collapsed": false,
     "input": [
      "print(\"total :\",len(occurences))\n",
      "listed = []\n",
      "times = 0\n",
      "for s in set(occurences):\n",
      "    for o in occurences:\n",
      "        if s == o:\n",
      "            times = times+1\n",
      "    listed.append((times, s))\n",
      "    times = 0\n",
      "\n",
      "listed = sorted(listed, reverse=True)\n",
      "for l in listed:\n",
      "    print(l[1], l[0])"
     ],
     "language": "python",
     "metadata": {},
     "outputs": [
      {
       "output_type": "stream",
       "stream": "stdout",
       "text": [
        "total : 0\n"
       ]
      }
     ],
     "prompt_number": 31
    },
    {
     "cell_type": "heading",
     "level": 1,
     "metadata": {},
     "source": [
      "Syllable ordering"
     ]
    },
    {
     "cell_type": "code",
     "collapsed": false,
     "input": [
      "def create_sylSignature(syl_dict):\n",
      "    \"\"\"\n",
      "    The function creates the signature of a given syllable.\n",
      "    The structure is as follows : \n",
      "    \n",
      "    99[000]    [00]   [00]     [00]    [0]    [00]    [00]     [00]    [00]     [00]    [00]\n",
      "    99[mingzhi][gocan][ngonjug][dogcan][wazur][yang_1][jejug_1][yang_2][jejug_2][yang_3][yangjug]\n",
      "    \n",
      "    Each signature starts with 99, in order to recognize the start of a syllable and because the zeros at the beginning of integers aren't taken into account by python.\n",
      "    Each following position is made of two digits.\n",
      "    \n",
      "    The mingzhi's third digit serves to differenciate normal letters (0) and those below a gocan (1).  \n",
      "    It also serves to put syllables with a gocan after those without.    \n",
      "    \"\"\"\n",
      "    ngj = {\"\": \"00\", \"\u0f42\" : \"01\", \"\u0f51\" : \"02\", \"\u0f56\" : \"03\", \"\u0f58\" : \"04\", \"\u0f60\" : \"05\"}\n",
      "    gc  = {\"\" : \"00\", \"\u0f62\" : \"01\", \"\u0f63\" : \"02\", \"\u0f66\" : \"03\"}\n",
      "    mzh = {\"\u0f40\" : \"01\", \"\u0f41\" : \"02\", \"\u0f42\" : \"03\", \"\u0f44\" : \"04\", \"\u0f45\" : \"05\",  \"\u0f46\" : \"06\", \"\u0f47\" : \"07\", \"\u0f49\" : \"08\", \"\u0f4f\" : \"09\",\"\u0f50\" : \"10\", \"\u0f51\" : \"11\", \"\u0f53\" : \"12\", \"\u0f54\" : \"13\", \"\u0f55\" : \"14\", \"\u0f56\" : \"15\", \"\u0f58\" : \"16\", \"\u0f59\" : \"17\", \"\u0f5a\" : \"18\", \"\u0f5b\" : \"19\", \"\u0f5d\" : \"20\", \"\u0f5e\" : \"21\", \"\u0f5f\" : \"22\", \"\u0f60\" : \"23\", \"\u0f61\" : \"24\", \"\u0f62\" : \"25\", \"\u0f63\" : \"26\", \"\u0f64\" : \"27\", \"\u0f66\" : \"28\", \"\u0f67\" : \"29\", \"\u0f68\" : \"30\"}\n",
      "    dc  = {\"\" : \"00\", \"\u0f61\" : \"01\", \"\u0f62\" : \"02\", \"\u0f63\" : \"03\"}\n",
      "    y1  = {\"\" : \"00\", \"\u0f72\" : \"01\", \"\u0f74\" : \"02\", \"\u0f7a\" : \"03\", \"\u0f7c\" : \"04\"}\n",
      "    jj1 = {\"\" : \"00\", \"\u0f42\" : \"01\", \"\u0f44\" : \"02\", \"\u0f51\" : \"03\", \"\u0f53\" : \"04\", \"\u0f56\" : \"05\", \"\u0f58\" : \"06\", \"\u0f60\" : \"07\", \"\u0f62\" : \"08\", \"\u0f63\" : \"09\", \"\u0f66\" : \"10\"}\n",
      "    y2  = y1\n",
      "    jj2 = jj1\n",
      "    y3  = y1\n",
      "    yj  = {\"\" : \"00\", \"\u0f51\" : \"01\", \"\u0f66\" : \"02\"}\n",
      "    wz  = {\"\" : \"0\", \"\u0f5d\" : \"1\"}\n",
      "    \n",
      "    pos1 = mzh[syl_dict[\"mzh\"]]\n",
      "    pos2 = gc[syl_dict[\"gc\"]]\n",
      "    pos3 = ngj[syl_dict[\"ngj\"]]\n",
      "    pos4 = dc[syl_dict[\"dc\"]]\n",
      "    pos5 = wz[syl_dict[\"wz\"]]\n",
      "    pos6 = y1[syl_dict[\"y1\"]]\n",
      "    pos7 = jj1[syl_dict[\"jj1\"]]\n",
      "    pos8 = y2[syl_dict[\"y2\"]]\n",
      "    pos9 = jj2[syl_dict[\"jj2\"]]\n",
      "    pos10 = y3[syl_dict[\"y3\"]]\n",
      "    pos11 = yj[syl_dict[\"yj\"]]\n",
      "\n",
      "    \n",
      "    # 3rd mingzhi position : with or without gocan\n",
      "    if pos2 == \"00\":\n",
      "        pos1 = pos1+\"0\"\n",
      "    else:\n",
      "        pos1 = pos1+\"1\"\n",
      "    \n",
      "    return int(\"99\"+pos1+pos2+pos3+pos4+pos5+pos6+pos7+pos8+pos9+pos10+pos11)"
     ],
     "language": "python",
     "metadata": {},
     "outputs": [],
     "prompt_number": 32
    },
    {
     "cell_type": "code",
     "collapsed": false,
     "input": [
      "def sylFromSignature(signature):\n",
      "    \"\"\"\n",
      "    The function for regenerating the syllable\n",
      "    from the signature.\n",
      "    its output is a tuple with the syllable and \n",
      "    a dict with its elements.\n",
      "    \"\"\"\n",
      "    ngj = {\"00\" : \"\", \"01\" : \"\u0f42\", \"02\" : \"\u0f51\", \"03\" : \"\u0f56\", \"04\" : \"\u0f58\", \"05\" : \"\u0f60\"}\n",
      "    gc = {\"00\" : \"\", \"01\" : \"\u0f62\", \"02\" : \"\u0f63\", \"03\" : \"\u0f66\"}\n",
      "    mzh = {\"000\" : \"\", \"010\" : \"\u0f40\", \"011\" : \"\u0f90\", \"020\" : \"\u0f41\", \"030\" : \"\u0f42\", \"031\" : \"\u0f92\", \"040\" : \"\u0f44\", \"041\" : \"\u0f94\", \"050\" : \"\u0f45\", \"051\" : \"\u0f95\", \"060\" : \"\u0f46\", \"070\" : \"\u0f47\", \"071\" : \"\u0f97\", \"080\" : \"\u0f49\", \"081\" : \"\u0f99\", \"090\" : \"\u0f4f\",\"091\" : \"\u0f9f\", \"100\" : \"\u0f50\", \"110\" : \"\u0f51\", \"111\" : \"\u0fa1\", \"120\" : \"\u0f53\", \"121\" : \"\u0fa3\", \"130\" : \"\u0f54\", \"131\" : \"\u0fa4\", \"140\" : \"\u0f55\", \"150\" : \"\u0f56\", \"151\" : \"\u0fa6\", \"160\" : \"\u0f58\", \"161\" : \"\u0fa8\", \"170\" : \"\u0f59\", \"171\" : \"\u0fa9\", \"180\" : \"\u0f5a\", \"190\" : \"\u0f5b\", \"191\" : \"\u0fab\", \"200\" : \"\u0f5d\", \"210\" : \"\u0f5e\", \"220\" : \"\u0f5f\", \"230\" : \"\u0f60\", \"240\" : \"\u0f61\", \"250\" : \"\u0f62\", \"260\" : \"\u0f63\", \"270\" : \"\u0f64\", \"280\" : \"\u0f66\", \"290\" : \"\u0f67\", \"291\" : \"\u0fb7\", \"300\" : \"\u0f68\"}\n",
      "    dc = {\"00\" : \"\", \"01\" : \"\u0fb1\", \"02\" : \"\u0fb2\", \"03\" : \"\u0fb3\"}\n",
      "    y = {\"00\" : \"\", \"01\" : \"\u0f72\", \"02\" : \"\u0f74\", \"03\" : \"\u0f7a\", \"04\" : \"\u0f7c\"}\n",
      "    jj = {\"00\" : \"\", \"01\" : \"\u0f42\", \"02\" : \"\u0f44\", \"03\" : \"\u0f51\", \"04\" : \"\u0f53\", \"05\" : \"\u0f56\", \"06\" : \"\u0f58\", \"07\" : \"\u0f60\", \"08\" : \"\u0f62\", \"09\" : \"\u0f63\", \"10\" : \"\u0f66\"}\n",
      "    yj = {\"00\" : \"\", \"01\" : \"\u0f51\", \"02\" : \"\u0f66\"}\n",
      "    wz  = {\"0\" : \"\", \"1\" : \"\u0fad\"}\n",
      "\n",
      "    signature = str(signature)\n",
      "    pos1 = mzh[signature[2:5]]\n",
      "    pos2 = gc[signature[5:7]]\n",
      "    pos3 = ngj[signature[7:9]]\n",
      "    pos4 = dc[signature[9:11]]\n",
      "    pos5= wz[signature[23:24]]\n",
      "    pos6 = y[signature[11:13]]\n",
      "    pos7 = jj[signature[13:15]]\n",
      "    pos8 = yj[signature[15:17]]\n",
      "    pos9 = jj[signature[17:19]]\n",
      "    pos10 = y[signature[19:21]]\n",
      "    pos11= yj[signature[21:23]]\n",
      "\n",
      "    \n",
      "    norlet = {\"\": \"\", \"\u0f90\" : \"\u0f40\", \"\u0f92\" : \"\u0f42\", \"\u0f94\" : \"\u0f44\", \"\u0f95\" : \"\u0f45\", \"\u0f97\" : \"\u0f47\", \"\u0f99\" : \"\u0f49\", \"\u0f9f\" : \"\u0f4f\", \"\u0fa1\" : \"\u0f51\", \"\u0fa3\" : \"\u0f53\", \"\u0fa4\" : \"\u0f54\", \"\u0fa6\" : \"\u0f56\", \"\u0fa8\" : \"\u0f58\", \"\u0fa9\" : \"\u0f59\", \"\u0fab\" : \"\u0f5b\", \"\u0fad\" : \"\u0f5d\", \"\u0fb1\" : \"\u0f61\", \"\u0fb2\" : \"\u0f62\", \"\u0fb3\" : \"\u0f63\", \"\u0fb7\" : \"\u0f67\"}\n",
      "    syl_dict = {\"ngj\" : pos3, \"gc\" : pos2, \"mzh\" : norlet[pos1], \"dc\" : norlet[pos4], \"wz\" : norlet[pos5], \"y1\" : pos6, \"jj1\" : pos7, \"y2\" : pos8, \"jj2\" : pos9, \"y3\" : pos10, \"yj\" : pos11}\n",
      "    syllable = pos3+pos2+pos1+pos4+pos5+pos6+pos7+pos8+pos9+pos10+pos11+\"\u0f0b\"\n",
      "    return syllable, syl_dict"
     ],
     "language": "python",
     "metadata": {},
     "outputs": [],
     "prompt_number": 33
    },
    {
     "cell_type": "code",
     "collapsed": false,
     "input": [
      "currentSyl = {'jj1': '', 'y1': '\u0f72', 'wz': '', 'ngj': '', 'yj': '', 'y2': '', 'gc': '', 'mzh': '\u0f40', 'jj2': '', 'y3': '', 'dc': ''}\n",
      "print(create_sylSignature(currentSyl))\n",
      "currentSyl = {'jj1': '', 'y1': '', 'wz': '', 'ngj': '', 'yj': '', 'y2': '', 'gc': '\u0f66', 'mzh': '\u0f40', 'jj2': '', 'y3': '', 'dc': ''}\n",
      "print(create_sylSignature(currentSyl))"
     ],
     "language": "python",
     "metadata": {},
     "outputs": [
      {
       "output_type": "stream",
       "stream": "stdout",
       "text": [
        "99031030302020500010\n",
        "('\u0f56\u0f66\u0f92\u0fb2\u0f74\u0f56\u0f66\u0f0b', {'dogcan': '\u0f62', 'mingzhi': '\u0f42', 'yang_1': '\u0f74', 'jejug': '\u0f56', 'yangjug': '\u0f66', 'wazur': '', 'yang_2': '', 'ngonjug': '\u0f56', 'gocan': '\u0f66'})\n"
       ]
      }
     ],
     "prompt_number": 34
    },
    {
     "cell_type": "code",
     "collapsed": false,
     "input": [
      "sig = 990110300000000000000000\n",
      "\n",
      "print(sylFromSignature(sig))"
     ],
     "language": "python",
     "metadata": {},
     "outputs": []
    },
    {
     "cell_type": "heading",
     "level": 1,
     "metadata": {},
     "source": [
      "Count syllables and letters in a text"
     ]
    },
    {
     "cell_type": "heading",
     "level": 2,
     "metadata": {},
     "source": [
      "version 0"
     ]
    },
    {
     "cell_type": "code",
     "collapsed": false,
     "input": [
      "# python3 syl_letter_count.py file-to-process"
     ],
     "language": "python",
     "metadata": {},
     "outputs": [],
     "prompt_number": 35
    },
    {
     "cell_type": "code",
     "collapsed": false,
     "input": [
      "import sys\n",
      "import codecs\n",
      "import re"
     ],
     "language": "python",
     "metadata": {},
     "outputs": [],
     "prompt_number": 36
    },
    {
     "cell_type": "code",
     "collapsed": false,
     "input": [
      "#text = codecs.open(sys.argv[1], \"r\", \"utf8\").readlines() # line for the command line \n",
      "text = codecs.open(\"./input/a-couple-must-par_11.txt\", \"r\", \"utf8\").readlines() # line to uncomment in ipython"
     ],
     "language": "python",
     "metadata": {},
     "outputs": [
      {
       "ename": "FileNotFoundError",
       "evalue": "[Errno 2] No such file or directory: './input/a-couple-must-par_11.txt'",
       "output_type": "pyerr",
       "traceback": [
        "\u001b[1;31m---------------------------------------------------------------------------\u001b[0m\n\u001b[1;31mFileNotFoundError\u001b[0m                         Traceback (most recent call last)",
        "\u001b[1;32m<ipython-input-37-18132d70df4c>\u001b[0m in \u001b[0;36m<module>\u001b[1;34m()\u001b[0m\n\u001b[0;32m      1\u001b[0m \u001b[1;31m#text = codecs.open(sys.argv[1], \"r\", \"utf8\").readlines() # line for the command line\u001b[0m\u001b[1;33m\u001b[0m\u001b[1;33m\u001b[0m\u001b[0m\n\u001b[1;32m----> 2\u001b[1;33m \u001b[0mtext\u001b[0m \u001b[1;33m=\u001b[0m \u001b[0mcodecs\u001b[0m\u001b[1;33m.\u001b[0m\u001b[0mopen\u001b[0m\u001b[1;33m(\u001b[0m\u001b[1;34m\"./input/a-couple-must-par_11.txt\"\u001b[0m\u001b[1;33m,\u001b[0m \u001b[1;34m\"r\"\u001b[0m\u001b[1;33m,\u001b[0m \u001b[1;34m\"utf8\"\u001b[0m\u001b[1;33m)\u001b[0m\u001b[1;33m.\u001b[0m\u001b[0mreadlines\u001b[0m\u001b[1;33m(\u001b[0m\u001b[1;33m)\u001b[0m \u001b[1;31m# line to uncomment in ipython\u001b[0m\u001b[1;33m\u001b[0m\u001b[0m\n\u001b[0m",
        "\u001b[1;32m/home/drupchen/anaconda3/lib/python3.4/codecs.py\u001b[0m in \u001b[0;36mopen\u001b[1;34m(filename, mode, encoding, errors, buffering)\u001b[0m\n\u001b[0;32m    889\u001b[0m         \u001b[1;31m# Force opening of the file in binary mode\u001b[0m\u001b[1;33m\u001b[0m\u001b[1;33m\u001b[0m\u001b[0m\n\u001b[0;32m    890\u001b[0m         \u001b[0mmode\u001b[0m \u001b[1;33m=\u001b[0m \u001b[0mmode\u001b[0m \u001b[1;33m+\u001b[0m \u001b[1;34m'b'\u001b[0m\u001b[1;33m\u001b[0m\u001b[0m\n\u001b[1;32m--> 891\u001b[1;33m     \u001b[0mfile\u001b[0m \u001b[1;33m=\u001b[0m \u001b[0mbuiltins\u001b[0m\u001b[1;33m.\u001b[0m\u001b[0mopen\u001b[0m\u001b[1;33m(\u001b[0m\u001b[0mfilename\u001b[0m\u001b[1;33m,\u001b[0m \u001b[0mmode\u001b[0m\u001b[1;33m,\u001b[0m \u001b[0mbuffering\u001b[0m\u001b[1;33m)\u001b[0m\u001b[1;33m\u001b[0m\u001b[0m\n\u001b[0m\u001b[0;32m    892\u001b[0m     \u001b[1;32mif\u001b[0m \u001b[0mencoding\u001b[0m \u001b[1;32mis\u001b[0m \u001b[1;32mNone\u001b[0m\u001b[1;33m:\u001b[0m\u001b[1;33m\u001b[0m\u001b[0m\n\u001b[0;32m    893\u001b[0m         \u001b[1;32mreturn\u001b[0m \u001b[0mfile\u001b[0m\u001b[1;33m\u001b[0m\u001b[0m\n",
        "\u001b[1;31mFileNotFoundError\u001b[0m: [Errno 2] No such file or directory: './input/a-couple-must-par_11.txt'"
       ]
      }
     ],
     "prompt_number": 37
    },
    {
     "cell_type": "code",
     "collapsed": false,
     "input": [
      "count_syl = {}\n",
      "count_letter = {}\n",
      "for line in text:\n",
      "    line = re.sub(\"[\u0f0d {}]\", \"\u0f0b\", line.strip())\n",
      "    line = re.sub(r\"\u0f0b+\", \"\u0f0b\", line)\n",
      "    syllables = line.split(\"\u0f0b\")\n",
      "    for syl in syllables:\n",
      "        if syl != \"\":\n",
      "            if syl in count_syl:\n",
      "                count_syl[syl] = count_syl[syl]+1\n",
      "            else:\n",
      "                count_syl[syl] = 1\n",
      "            for letter in syl:\n",
      "                if letter in count_letter:\n",
      "                    count_letter[letter] = count_letter[letter]+1\n",
      "                else:\n",
      "                    count_letter[letter] = 1"
     ],
     "language": "python",
     "metadata": {},
     "outputs": [
      {
       "ename": "NameError",
       "evalue": "name 'text' is not defined",
       "output_type": "pyerr",
       "traceback": [
        "\u001b[1;31m---------------------------------------------------------------------------\u001b[0m\n\u001b[1;31mNameError\u001b[0m                                 Traceback (most recent call last)",
        "\u001b[1;32m<ipython-input-38-c702653c9a51>\u001b[0m in \u001b[0;36m<module>\u001b[1;34m()\u001b[0m\n\u001b[0;32m      1\u001b[0m \u001b[0mcount_syl\u001b[0m \u001b[1;33m=\u001b[0m \u001b[1;33m{\u001b[0m\u001b[1;33m}\u001b[0m\u001b[1;33m\u001b[0m\u001b[0m\n\u001b[0;32m      2\u001b[0m \u001b[0mcount_letter\u001b[0m \u001b[1;33m=\u001b[0m \u001b[1;33m{\u001b[0m\u001b[1;33m}\u001b[0m\u001b[1;33m\u001b[0m\u001b[0m\n\u001b[1;32m----> 3\u001b[1;33m \u001b[1;32mfor\u001b[0m \u001b[0mline\u001b[0m \u001b[1;32min\u001b[0m \u001b[0mtext\u001b[0m\u001b[1;33m:\u001b[0m\u001b[1;33m\u001b[0m\u001b[0m\n\u001b[0m\u001b[0;32m      4\u001b[0m     \u001b[0mline\u001b[0m \u001b[1;33m=\u001b[0m \u001b[0mre\u001b[0m\u001b[1;33m.\u001b[0m\u001b[0msub\u001b[0m\u001b[1;33m(\u001b[0m\u001b[1;34m\"[\u0f0d {}]\"\u001b[0m\u001b[1;33m,\u001b[0m \u001b[1;34m\"\u0f0b\"\u001b[0m\u001b[1;33m,\u001b[0m \u001b[0mline\u001b[0m\u001b[1;33m.\u001b[0m\u001b[0mstrip\u001b[0m\u001b[1;33m(\u001b[0m\u001b[1;33m)\u001b[0m\u001b[1;33m)\u001b[0m\u001b[1;33m\u001b[0m\u001b[0m\n\u001b[0;32m      5\u001b[0m     \u001b[0mline\u001b[0m \u001b[1;33m=\u001b[0m \u001b[0mre\u001b[0m\u001b[1;33m.\u001b[0m\u001b[0msub\u001b[0m\u001b[1;33m(\u001b[0m\u001b[1;34mr\"\u0f0b+\"\u001b[0m\u001b[1;33m,\u001b[0m \u001b[1;34m\"\u0f0b\"\u001b[0m\u001b[1;33m,\u001b[0m \u001b[0mline\u001b[0m\u001b[1;33m)\u001b[0m\u001b[1;33m\u001b[0m\u001b[0m\n",
        "\u001b[1;31mNameError\u001b[0m: name 'text' is not defined"
       ]
      }
     ],
     "prompt_number": 38
    },
    {
     "cell_type": "code",
     "collapsed": false,
     "input": [
      "syllables = []\n",
      "letters = []\n",
      "\n",
      "for syl in count_syl:\n",
      "    syllables.append((count_syl[syl], syl))\n",
      "syllables = sorted(syllables, reverse=True)\n",
      "\n",
      "for letter in count_letter:\n",
      "    letters.append((count_letter[letter], letter))\n",
      "letters = sorted(letters, reverse=True)"
     ],
     "language": "python",
     "metadata": {},
     "outputs": []
    },
    {
     "cell_type": "code",
     "collapsed": false,
     "input": [
      "sep1 = \"_\"\n",
      "sep2 = \" \"\n",
      "for syl in syllables:\n",
      "    print(str(syl[0])+sep1+syl[1], end= sep2)\n",
      "print(\"\\n\")\n",
      "\n",
      "for l in letters:\n",
      "    print(str(l[0])+sep1+l[1], end= sep2)\n",
      "print(\"\\n\")"
     ],
     "language": "python",
     "metadata": {},
     "outputs": []
    },
    {
     "cell_type": "code",
     "collapsed": false,
     "input": [
      "output1 = codecs.open(\"a-couple-must-par_11_syl-count.txt\", \"w\", \"utf8\") # ipython\n",
      "#output1 = codecs.open(sys.argv[1].split(\".\")[0]+\"_syl-count.txt\", \"w\", \"utf8\") # command line\n",
      "for syl in syllables:\n",
      "    output1.write(str(syl[0])+sep1+syl[1]+\"\\n\")\n",
      "output1.close()\n",
      "\n",
      "output2 = codecs.open(\"a-couple-must-par_11_letter-count.txt\", \"w\", \"utf8\") # ipython\n",
      "#output2 = codecs.open(sys.argv[1].split(\".\")[0]+\"_letter-count.txt\", \"w\", \"utf8\") # command line\n",
      "for l in letters:\n",
      "    output2.write(str(l[0])+sep1+l[1]+\"\\n\")\n",
      "output2.close()"
     ],
     "language": "python",
     "metadata": {},
     "outputs": []
    },
    {
     "cell_type": "heading",
     "level": 2,
     "metadata": {},
     "source": [
      "version 1"
     ]
    },
    {
     "cell_type": "code",
     "collapsed": false,
     "input": [
      "import sys\n",
      "import codecs\n",
      "import re\n",
      "import os"
     ],
     "language": "python",
     "metadata": {},
     "outputs": []
    },
    {
     "cell_type": "code",
     "collapsed": false,
     "input": [
      "length = 13 # length of lines\n",
      "def presentation(liste, unit, per_occ):\n",
      "    sep = \"_\"\n",
      "    out = \"\"\n",
      "    total = 0\n",
      "    for elt in liste:\n",
      "        total = total + elt[0]\n",
      "    out += str(total)+unit+\"\\n\"\n",
      "    counter = 0\n",
      "    while len(liste)-counter > length:\n",
      "        for i in range(length):\n",
      "            occurences = liste[counter][0]\n",
      "            current = liste[counter][1]\n",
      "            if per_occ == \"percentage\":\n",
      "                percent = \"{:.1%}\".format(occurences/total)\n",
      "                out += str(current)+sep+str(percent)+\"\\t\"\n",
      "            if per_occ == \"occurences\":\n",
      "                out += str(current)+sep+str(occurences)+\"\\t\"\n",
      "            counter = counter +1\n",
      "        out += \"\\n\"\n",
      "    for i in range(len(liste)-counter):\n",
      "        occurences = liste[counter][0]\n",
      "        current = liste[counter][1]\n",
      "        if per_occ == \"percentage\":\n",
      "            percent = \"{:.1%}\".format(occurences/total)\n",
      "            out += str(current)+sep+str(percent)+\"\\t\"\n",
      "        if per_occ == \"occurences\":\n",
      "            out += str(current)+sep+str(occurences)+\"\\t\"\n",
      "        counter = counter +1\n",
      "    out += \"\\n\\n\"\n",
      "    return out"
     ],
     "language": "python",
     "metadata": {},
     "outputs": []
    },
    {
     "cell_type": "code",
     "collapsed": false,
     "input": [
      "def ordered_list(dictionary):\n",
      "    \"\"\"\n",
      "    takes a dictionary with \n",
      "    \"\"\"\n",
      "    liste = []\n",
      "    for entry in dictionary:\n",
      "        liste.append((dictionary[entry], entry))\n",
      "    liste = sorted(liste, reverse=True)\n",
      "    return liste\n",
      "#print(ordered_list({\"a\": 3, \"b\" : 2}))"
     ],
     "language": "python",
     "metadata": {},
     "outputs": []
    },
    {
     "cell_type": "code",
     "collapsed": false,
     "input": [
      "all_syl = {}\n",
      "all_let = {}\n",
      "os.chdir(\"./input\")\n",
      "for File in os.listdir(\".\"):\n",
      "    print(File)\n",
      "    filename = File.split(\".\")[0]\n",
      "    text = codecs.open(File, \"r\", \"utf8\").readlines()\n",
      "    count_syl = {}\n",
      "    count_letter = {}\n",
      "    for line in text:\n",
      "        line = re.sub(\"[\u0f0d {}]\", \"\u0f0b\", line.strip())\n",
      "        line = re.sub(r\"\u0f0b+\", \"\u0f0b\", line)\n",
      "        syllables = line.split(\"\u0f0b\")\n",
      "        for syl in syllables:\n",
      "            if syl != \"\":\n",
      "                # counting for each file\n",
      "                if syl in count_syl:\n",
      "                    count_syl[syl] = count_syl[syl]+1\n",
      "                else:\n",
      "                    count_syl[syl] = 1\n",
      "                for letter in syl:\n",
      "                    if letter in count_letter:\n",
      "                        count_letter[letter] = count_letter[letter]+1\n",
      "                    else:\n",
      "                        count_letter[letter] = 1\n",
      "                # counting for all files\n",
      "                if syl in all_syl:\n",
      "                    all_syl[syl] = all_syl[syl]+1\n",
      "                else:\n",
      "                    all_syl[syl] = 1\n",
      "                for letter in syl:\n",
      "                    if letter in all_let:\n",
      "                        all_let[letter] = all_let[letter]+1\n",
      "                    else:\n",
      "                        all_let[letter] = 1\n",
      "    \n",
      "    os.chdir(\"../output\")\n",
      "    output1 = codecs.open(\"count_\"+filename+\".txt\", \"w\", \"utf8\")\n",
      "    for elt in [\"percentage\", \"occurences\"]:\n",
      "        output1.write(presentation(ordered_list(count_syl), \" syllables\", elt))\n",
      "    for elt in [\"percentage\", \"occurences\"]:\n",
      "        output1.write(presentation(ordered_list(count_letter), \" letters\", elt))\n",
      "    output1.close()\n",
      "    os.chdir(\"../input\")\n",
      "os.chdir(\"../\")\n",
      "os.chdir(\"./output\")\n",
      "\n",
      "output1 = codecs.open(\"total-count_\"+filename+\".txt\", \"w\", \"utf8\")\n",
      "for elt in [\"percentage\", \"occurences\"]:\n",
      "    output1.write(presentation(ordered_list(all_syl), \" syllables\", elt))\n",
      "for elt in [\"percentage\", \"occurences\"]:\n",
      "    output1.write(presentation(ordered_list(all_let), \" letters\", elt))\n",
      "output1.close()\n",
      "\n",
      "os.chdir(\"../\")"
     ],
     "language": "python",
     "metadata": {},
     "outputs": []
    },
    {
     "cell_type": "heading",
     "level": 2,
     "metadata": {},
     "source": [
      "version 2"
     ]
    },
    {
     "cell_type": "code",
     "collapsed": false,
     "input": [
      "import sys\n",
      "import codecs\n",
      "import re\n",
      "import os"
     ],
     "language": "python",
     "metadata": {},
     "outputs": []
    },
    {
     "cell_type": "code",
     "collapsed": false,
     "input": [
      "length = 13 # length of lines\n",
      "def presentation(liste, unit, per_occ):\n",
      "    sep = \"_\"\n",
      "    out = \"\"\n",
      "    total = 0\n",
      "    for elt in liste:\n",
      "        total = total + elt[0]\n",
      "    out += str(total)+unit+\"\\n\"\n",
      "    counter = 0\n",
      "    while len(liste)-counter > length:\n",
      "        for i in range(length):\n",
      "            occurences = liste[counter][0]\n",
      "            current = liste[counter][1]\n",
      "            if per_occ == \"percentage\":\n",
      "                percent = \"{:.1%}\".format(occurences/total)\n",
      "                out += str(current)+sep+str(percent)+\"\\t\"\n",
      "            if per_occ == \"occurences\":\n",
      "                out += str(current)+sep+str(occurences)+\"\\t\"\n",
      "            counter = counter +1\n",
      "        out += \"\\n\"\n",
      "    for i in range(len(liste)-counter):\n",
      "        occurences = liste[counter][0]\n",
      "        current = liste[counter][1]\n",
      "        if per_occ == \"percentage\":\n",
      "            percent = \"{:.1%}\".format(occurences/total)\n",
      "            out += str(current)+sep+str(percent)+\"\\t\"\n",
      "        if per_occ == \"occurences\":\n",
      "            out += str(current)+sep+str(occurences)+\"\\t\"\n",
      "        counter = counter +1\n",
      "    out += \"\\n\\n\"\n",
      "    return out"
     ],
     "language": "python",
     "metadata": {},
     "outputs": []
    },
    {
     "cell_type": "code",
     "collapsed": false,
     "input": [
      "def len_list_sort(super_list):\n",
      "    temp = []\n",
      "    out = []\n",
      "    for liste in super_list:\n",
      "        temp.append((len(liste), liste))\n",
      "    temp = sorted(temp, reverse=True)\n",
      "    for t in temp:\n",
      "        out.append(t[1])\n",
      "    return len(out[0])"
     ],
     "language": "python",
     "metadata": {},
     "outputs": []
    },
    {
     "cell_type": "code",
     "collapsed": false,
     "input": [
      "def csv_presentation(tuple_list):\n",
      "    total = 0\n",
      "    for elt in tuple_list:\n",
      "        total = total + elt[0]\n",
      "    entries = [\"Total Syllables\"]\n",
      "    occurences = [str(total)]\n",
      "    percentages = [\"100%\"]\n",
      "    for t in tuple_list:\n",
      "        entries.append(t[1]+\"\u0f0b\")\n",
      "        occurences.append(str(t[0]))\n",
      "        percentages.append(\"{:.1%}\".format(t[0]/total))\n",
      "    return [entries,percentages, occurences]\n",
      "    #print(entries, occurences, percentages)"
     ],
     "language": "python",
     "metadata": {},
     "outputs": []
    },
    {
     "cell_type": "code",
     "collapsed": false,
     "input": [
      "def csv_output(super_list):\n",
      "    \"\"\"\n",
      "    takes a list of lists and outputs a string where each column is \n",
      "    one on the second-level list.\n",
      "    requires len_list_sort()\n",
      "    \"\"\"\n",
      "    out = \"\"\n",
      "    longrow = len_list_sort(super_list)\n",
      "    cols = len(super_list)\n",
      "    for l in range(longrow):\n",
      "        for c in range(cols):\n",
      "            if l < len(super_list[c]):\n",
      "                out += super_list[c][l]+\"\\t\"\n",
      "            else:\n",
      "                out += \"\\t\"\n",
      "        out += \"\\n\"\n",
      "    return out\n",
      "#print(csv_output([[\"1\",\"5\",\"9\",\"13\"],[\"2\",\"6\",\"10\"],[\"3\",\"7\",\"11\",\"14\",\"15\",\"16\",\"23\"],[\"4\",\"8\"]]))"
     ],
     "language": "python",
     "metadata": {},
     "outputs": []
    },
    {
     "cell_type": "code",
     "collapsed": false,
     "input": [
      "all_syl = {}\n",
      "all_let = {}"
     ],
     "language": "python",
     "metadata": {},
     "outputs": []
    },
    {
     "cell_type": "code",
     "collapsed": false,
     "input": [
      "os.chdir(\"./input\")\n",
      "for File in os.listdir(\".\"):\n",
      "    print(File)\n",
      "    filename = File.split(\".\")[0]\n",
      "    text = codecs.open(File, \"r\", \"utf8\").readlines()\n",
      "    count_syl = {}\n",
      "    count_letter = {}\n",
      "    for line in text:\n",
      "        line = re.sub(\"[\u0f0d {}]\", \"\u0f0b\", line.strip())\n",
      "        line = re.sub(r\"\u0f0b+\", \"\u0f0b\", line)\n",
      "        syllables = line.split(\"\u0f0b\")\n",
      "        for syl in syllables:\n",
      "            if syl != \"\":\n",
      "                # counting for each file\n",
      "                if syl in count_syl:\n",
      "                    count_syl[syl] = count_syl[syl]+1\n",
      "                else:\n",
      "                    count_syl[syl] = 1\n",
      "                for letter in syl:\n",
      "                    if letter in count_letter:\n",
      "                        count_letter[letter] = count_letter[letter]+1\n",
      "                    else:\n",
      "                        count_letter[letter] = 1\n",
      "                # counting for all files\n",
      "                if syl in all_syl:\n",
      "                    all_syl[syl] = all_syl[syl]+1\n",
      "                else:\n",
      "                    all_syl[syl] = 1\n",
      "                for letter in syl:\n",
      "                    if letter in all_let:\n",
      "                        all_let[letter] = all_let[letter]+1\n",
      "                    else:\n",
      "                        all_let[letter] = 1\n",
      "    \n",
      "    os.chdir(\"../output\")\n",
      "    output1 = codecs.open(\"count_\"+filename+\".txt\", \"w\", \"utf8\")\n",
      "    for elt in [\"percentage\", \"occurences\"]:\n",
      "        output1.write(presentation(ordered_list(count_syl), \" syllables\", elt))\n",
      "    for elt in [\"percentage\", \"occurences\"]:\n",
      "        output1.write(presentation(ordered_list(count_letter), \" letters\", elt))\n",
      "    output1.close()\n",
      "    os.chdir(\"../input\")\n",
      "os.chdir(\"../\")\n",
      "os.chdir(\"./output\")\n",
      "\n",
      "output2 = codecs.open(\"total-count_\"+filename+\".csv\", \"w\", \"utf8\")\n",
      "output2.write(csv_output(csv_presentation(ordered_list(all_syl))+csv_presentation(ordered_list(all_let))))\n",
      "output2.close()\n",
      "\n",
      "os.chdir(\"../\")"
     ],
     "language": "python",
     "metadata": {},
     "outputs": []
    },
    {
     "cell_type": "heading",
     "level": 1,
     "metadata": {},
     "source": [
      "TODO : qqch qui d\u00e9tecte les malformations \u00e0 partir de tsetan shabdrung"
     ]
    },
    {
     "cell_type": "code",
     "collapsed": false,
     "input": [
      "# No stack\n",
      "salje30 = [\"\u0f40\", \"\u0f41\", \"\u0f42\", \"\u0f44\", \"\u0f45\", \"\u0f46\", \"\u0f47\", \"\u0f49\", \"\u0f4f\", \"\u0f50\", \"\u0f51\", \"\u0f53\", \"\u0f54\", \"\u0f55\", \"\u0f56\", \"\u0f58\", \"\u0f59\", \"\u0f5a\", \"\u0f5b\", \"\u0f5d\", \"\u0f5e\", \"\u0f5f\", \"\u0f60\", \"\u0f61\", \"\u0f62\", \"\u0f63\", \"\u0f64\", \"\u0f66\", \"\u0f67\", \"\u0f68\"]\n",
      "\n",
      "# 2 letters stack\n",
      "raGocan12 = [\"\u0f62\u0f90\", \"\u0f62\u0f92\", \"\u0f62\u0f94\", \"\u0f62\u0f97\", \"\u0f62\u0f99\", \"\u0f62\u0f9f\", \"\u0f62\u0fa1\", \"\u0f62\u0fa3\", \"\u0f62\u0fa6\", \"\u0f62\u0fa8\", \"\u0f62\u0fa9\", \"\u0f62\u0fab\"]\n",
      "laGocan10 = [\"\u0f63\u0f90\", \"\u0f63\u0f92\", \"\u0f63\u0f94\", \"\u0f63\u0f95\", \"\u0f63\u0f97\", \"\u0f63\u0f9f\", \"\u0f63\u0fa1\", \"\u0f63\u0fa4\", \"\u0f63\u0fa6\", \"\u0f63\u0fb7\"]\n",
      "saGocan11 = [\"\u0f66\u0f90\", \"\u0f66\u0f92\", \"\u0f66\u0f94\", \"\u0f66\u0f99\", \"\u0f66\u0f9f\", \"\u0f66\u0fa1\", \"\u0f66\u0fa3\", \"\u0f66\u0fa4\", \"\u0f66\u0fa6\", \"\u0f66\u0fa8\", \"\u0f66\u0fa9\"]\n",
      "\n",
      "yaDogcan9 = [\"\u0f40\u0fb1\", \"\u0f41\u0fb1\", \"\u0f42\u0fb1\", \"\u0f54\u0fb1\", \"\u0f55\u0fb1\", \"\u0f56\u0fb1\", \"\u0f58\u0fb1\", \"\u0f51\u0fb1\", \"\u0f67\u0fb1\"] # \u0f61\u0f0b\u0f60\u0f51\u0f7c\u0f42\u0f66\u0f0b\u0f45\u0f53\u0f0b\u0f56\u0f51\u0f74\u0f53\u0f0b\u0f63\u0f0b\u0f58\u0f72\u0f0b\u0f60\u0f42\u0f63\u0f0b\u0f56\u0f0b\u0f42\u0f49\u0f72\u0f66\u0f0b\u0f58\u0f53\u0f53\u0f0b\u0f54\u0f66\u0f0b\u0f51\u0f42\u0f74\u0f0b\u0f61\u0f72\u0f53\u0f0d\n",
      "raDogcan12 = [\"\u0f40\u0fb2\", \"\u0f41\u0fb2\", \"\u0f42\u0fb2\", \"\u0f4f\u0fb2\", \"\u0f50\u0fb2\",\"\u0f51\u0fb2\", \"\u0f54\u0fb2\", \"\u0f55\u0fb2\", \"\u0f56\u0fb2\", \"\u0f58\u0fb2\", \"\u0f66\u0fb2\", \"\u0f67\u0fb2\"]\n",
      "laDogcan6 = [\"\u0f40\u0fb3\", \"\u0f42\u0fb3\", \"\u0f56\u0fb3\", \"\u0f5f\u0fb3\", \"\u0f62\u0fb3\", \"\u0f66\u0fb3\"]\n",
      "\n",
      "# 3 letters stack\n",
      "yatagSumtseg8 = [\"\u0f62\u0f90\u0fb1\", \"\u0f62\u0f92\u0fb1\", \"\u0f62\u0fa8\u0fb1\", \"\u0f66\u0f90\u0fb1\", \"\u0f66\u0f92\u0fb1\", \"\u0f66\u0fa4\u0fb1\", \"\u0f66\u0fa6\u0fb1\", \"\u0f66\u0fa8\u0fb1\"]\n",
      "ratagSumtseg6 = [\"\u0f66\u0f90\u0fb2\", \"\u0f66\u0f92\u0fb2\", \"\u0f66\u0fa3\u0fb2\", \"\u0f66\u0fa4\u0fb2\", \"\u0f66\u0fa6\u0fb2\", \"\u0f66\u0fa8\u0fb2\"]"
     ],
     "language": "python",
     "metadata": {},
     "outputs": [],
     "prompt_number": 39
    },
    {
     "cell_type": "code",
     "collapsed": false,
     "input": [
      "gocan33 =  raGocan12 + laGocan10 + saGocan11\n",
      "dogcan27 = yaDogcan9 + raDogcan12 + laDogcan6 # \u0f60\u0f51\u0f7c\u0f42\u0f66\u0f0b\u0f45\u0f53\u0f0b\u0f49\u0f7a\u0f62\u0f0b\u0f63\u0f94\u0f0b\u0f63\u0f0b\u0f61\u0f0b\u0f60\u0f51\u0f7c\u0f42\u0f66\u0f0b\u0f45\u0f53\u0f0b\u0f51\u0f58\u0f72\u0f42\u0f66\u0f0b\u0f42\u0f66\u0f63\u0f0b\u0f42\u0f49\u0f72\u0f66\u0f0b\u0f58\u0f53\u0f53\u0f0b\u0f54\u0f66\u0f0b\u0f49\u0f7a\u0f62\u0f0b\u0f56\u0f51\u0f74\u0f53\u0f0b\u0f61\u0f72\u0f53\u0f0d\n",
      "sumtseg14 = yatagSumtseg8 + ratagSumtseg6 \n",
      "tsegYig74 = gocan33 + dogcan27 + sumtseg14 # \u0f42\u0f7c\u0f44\u0f0b\u0f42\u0f66\u0f63\u0f0b\u0f42\u0f5e\u0f72\u0f53\u0f0b\u0f51\u0f7c\u0f53\u0f0b\u0f42\u0f49\u0f72\u0f66\u0f0b\u0f63\u0f0b\u0f42\u0f49\u0f72\u0f66\u0f0b\u0f58\u0f53\u0f53\u0f0b\u0f54\u0f66\u0f0b\u0f51\u0f7c\u0f53\u0f0b\u0f56\u0f5e\u0f72\u0f0b\u0f61\u0f72\u0f53\u0f0d\n",
      "\n",
      "# Grand total\n",
      "kyangTsegDogKun = salje30 + tsegYig74"
     ],
     "language": "python",
     "metadata": {},
     "outputs": [],
     "prompt_number": 40
    },
    {
     "cell_type": "code",
     "collapsed": false,
     "input": [
      "salje_parts = {\"\u0f40\" : {\"gocan\" : \"\", \"mingzhi\" : \"\u0f40\", \"dogcan\" : \"\"}, \"\u0f41\" : {\"gocan\" : \"\", \"mingzhi\" : \"\u0f41\", \"dogcan\" : \"\"}, \"\u0f42\" : {\"gocan\" : \"\", \"mingzhi\" : \"\u0f42\", \"dogcan\" : \"\"}, \"\u0f44\" : {\"gocan\" : \"\", \"mingzhi\" : \"\u0f44\", \"dogcan\" : \"\"}, \"\u0f45\" : {\"gocan\" : \"\", \"mingzhi\" : \"\u0f45\", \"dogcan\" : \"\"}, \"\u0f46\" : {\"gocan\" : \"\", \"mingzhi\" : \"\u0f46\", \"dogcan\" : \"\"}, \"\u0f47\" : {\"gocan\" : \"\", \"mingzhi\" : \"\u0f47\", \"dogcan\" : \"\"}, \"\u0f49\" : {\"gocan\" : \"\", \"mingzhi\" : \"\u0f49\", \"dogcan\" : \"\"}, \"\u0f4f\" : {\"gocan\" : \"\", \"mingzhi\" : \"\u0f4f\", \"dogcan\" : \"\"}, \"\u0f50\" : {\"gocan\" : \"\", \"mingzhi\" : \"\u0f50\", \"dogcan\" : \"\"}, \"\u0f51\" : {\"gocan\" : \"\", \"mingzhi\" : \"\u0f51\", \"dogcan\" : \"\"}, \"\u0f53\" : {\"gocan\" : \"\", \"mingzhi\" : \"\u0f53\", \"dogcan\" : \"\"}, \"\u0f54\" : {\"gocan\" : \"\", \"mingzhi\" : \"\u0f54\", \"dogcan\" : \"\"}, \"\u0f55\" : {\"gocan\" : \"\", \"mingzhi\" : \"\u0f55\", \"dogcan\" : \"\"}, \"\u0f56\" : {\"gocan\" : \"\", \"mingzhi\" : \"\u0f56\", \"dogcan\" : \"\"}, \"\u0f58\" : {\"gocan\" : \"\", \"mingzhi\" : \"\u0f58\", \"dogcan\" : \"\"}, \"\u0f59\" : {\"gocan\" : \"\", \"mingzhi\" : \"\u0f59\", \"dogcan\" : \"\"}, \"\u0f5a\" : {\"gocan\" : \"\", \"mingzhi\" : \"\u0f5a\", \"dogcan\" : \"\"}, \"\u0f5b\" : {\"gocan\" : \"\", \"mingzhi\" : \"\u0f5b\", \"dogcan\" : \"\"}, \"\u0f5d\" : {\"gocan\" : \"\", \"mingzhi\" : \"\u0f5d\", \"dogcan\" : \"\"}, \"\u0f5e\" : {\"gocan\" : \"\", \"mingzhi\" : \"\u0f5e\", \"dogcan\" : \"\"}, \"\u0f5f\" : {\"gocan\" : \"\", \"mingzhi\" : \"\u0f5f\", \"dogcan\" : \"\"}, \"\u0f60\" : {\"gocan\" : \"\", \"mingzhi\" : \"\u0f60\", \"dogcan\" : \"\"}, \"\u0f61\" : {\"gocan\" : \"\", \"mingzhi\" : \"\u0f61\", \"dogcan\" : \"\"}, \"\u0f62\" : {\"gocan\" : \"\", \"mingzhi\" : \"\u0f62\", \"dogcan\" : \"\"}, \"\u0f63\" : {\"gocan\" : \"\", \"mingzhi\" : \"\u0f63\", \"dogcan\" : \"\"}, \"\u0f64\" : {\"gocan\" : \"\", \"mingzhi\" : \"\u0f64\", \"dogcan\" : \"\"}, \"\u0f66\" : {\"gocan\" : \"\", \"mingzhi\" : \"\u0f66\", \"dogcan\" : \"\"}, \"\u0f67\" : {\"gocan\" : \"\", \"mingzhi\" : \"\u0f67\", \"dogcan\" : \"\"}, \"\u0f68\" : {\"gocan\" : \"\", \"mingzhi\" : \"\u0f68\", \"dogcan\" : \"\"}}\n",
      "ragocan_parts = {\"\u0f62\u0f90\" : {\"gocan\" : \"\u0f62\", \"mingzhi\" : \"\u0f40\", \"dogcan\" : \"\"}, \"\u0f62\u0f92\" : {\"gocan\" : \"\u0f62\", \"mingzhi\" : \"\u0f42\", \"dogcan\" : \"\"}, \"\u0f62\u0f94\" : {\"gocan\" : \"\u0f62\", \"mingzhi\" : \"\u0f44\", \"dogcan\" : \"\"}, \"\u0f62\u0f97\" : {\"gocan\" : \"\u0f62\", \"mingzhi\" : \"\u0f47\", \"dogcan\" : \"\"}, \"\u0f62\u0f99\" : {\"gocan\" : \"\u0f62\", \"mingzhi\" : \"\u0f49\", \"dogcan\" : \"\"}, \"\u0f62\u0f9f\" : {\"gocan\" : \"\u0f62\", \"mingzhi\" : \"\u0f4f\", \"dogcan\" : \"\"}, \"\u0f62\u0fa1\" : {\"gocan\" : \"\u0f62\", \"mingzhi\" : \"\u0f51\", \"dogcan\" : \"\"}, \"\u0f62\u0fa3\" : {\"gocan\" : \"\u0f62\", \"mingzhi\" : \"\u0f53\", \"dogcan\" : \"\"}, \"\u0f62\u0fa6\" : {\"gocan\" : \"\u0f62\", \"mingzhi\" : \"\u0f56\", \"dogcan\" : \"\"}, \"\u0f62\u0fa8\" : {\"gocan\" : \"\u0f62\", \"mingzhi\" : \"\u0f58\", \"dogcan\" : \"\"}, \"\u0f62\u0fa9\" : {\"gocan\" : \"\u0f62\", \"mingzhi\" : \"\u0f59\", \"dogcan\" : \"\"}, \"\u0f62\u0fab\" : {\"gocan\" : \"\u0f62\", \"mingzhi\" : \"\u0f5b\", \"dogcan\" : \"\"}}\n",
      "lagocan_parts = {\"\u0f63\u0f90\" : {\"gocan\" : \"\u0f63\", \"mingzhi\" : \"\u0f40\", \"dogcan\" : \"\"}, \"\u0f63\u0f92\" : {\"gocan\" : \"\u0f63\", \"mingzhi\" : \"\u0f42\", \"dogcan\" : \"\"}, \"\u0f63\u0f94\" : {\"gocan\" : \"\u0f63\", \"mingzhi\" : \"\u0f44\", \"dogcan\" : \"\"}, \"\u0f63\u0f95\" : {\"gocan\" : \"\u0f63\", \"mingzhi\" : \"\u0f45\", \"dogcan\" : \"\"}, \"\u0f63\u0f97\" : {\"gocan\" : \"\u0f63\", \"mingzhi\" : \"\u0f47\", \"dogcan\" : \"\"}, \"\u0f63\u0f9f\" : {\"gocan\" : \"\u0f63\", \"mingzhi\" : \"\u0f4f\", \"dogcan\" : \"\"}, \"\u0f63\u0fa1\" : {\"gocan\" : \"\u0f63\", \"mingzhi\" : \"\u0f51\", \"dogcan\" : \"\"}, \"\u0f63\u0fa4\" : {\"gocan\" : \"\u0f63\", \"mingzhi\" : \"\u0f54\", \"dogcan\" : \"\"}, \"\u0f63\u0fa6\" : {\"gocan\" : \"\u0f63\", \"mingzhi\" : \"\u0f56\", \"dogcan\" : \"\"}, \"\u0f63\u0fb7\" : {\"gocan\" : \"\u0f63\", \"mingzhi\" : \"\u0f67\", \"dogcan\" : \"\"}}\n",
      "sagocan_parts = {\"\u0f66\u0f90\" : {\"gocan\" : \"\u0f66\", \"mingzhi\" : \"\u0f40\", \"dogcan\" : \"\"}, \"\u0f66\u0f92\" : {\"gocan\" : \"\u0f66\", \"mingzhi\" : \"\u0f42\", \"dogcan\" : \"\"}, \"\u0f66\u0f94\" : {\"gocan\" : \"\u0f66\", \"mingzhi\" : \"\u0f44\", \"dogcan\" : \"\"}, \"\u0f66\u0f99\" : {\"gocan\" : \"\u0f66\", \"mingzhi\" : \"\u0f49\", \"dogcan\" : \"\"}, \"\u0f66\u0f9f\" : {\"gocan\" : \"\u0f66\", \"mingzhi\" : \"\u0f4f\", \"dogcan\" : \"\"}, \"\u0f66\u0fa1\" : {\"gocan\" : \"\u0f66\", \"mingzhi\" : \"\u0f51\", \"dogcan\" : \"\"}, \"\u0f66\u0fa3\" : {\"gocan\" : \"\u0f66\", \"mingzhi\" : \"\u0f53\", \"dogcan\" : \"\"}, \"\u0f66\u0fa4\" : {\"gocan\" : \"\u0f66\", \"mingzhi\" : \"\u0f54\", \"dogcan\" : \"\"}, \"\u0f66\u0fa6\" : {\"gocan\" : \"\u0f66\", \"mingzhi\" : \"\u0f56\", \"dogcan\" : \"\"}, \"\u0f66\u0fa8\" : {\"gocan\" : \"\u0f66\", \"mingzhi\" : \"\u0f58\", \"dogcan\" : \"\"}, \"\u0f66\u0fa9\" : {\"gocan\" : \"\u0f66\", \"mingzhi\" : \"\u0f59\", \"dogcan\" : \"\"}}\n",
      "yadogcan_parts = {\"\u0f40\u0fb1\" : {\"gocan\" : \"\",\"mingzhi\" : \"\u0f40\", \"dogcan\" : \"\u0f61\"}, \"\u0f41\u0fb1\" : {\"gocan\" : \"\",\"mingzhi\" : \"\u0f41\", \"dogcan\" : \"\u0f61\"}, \"\u0f42\u0fb1\" : {\"gocan\" : \"\",\"mingzhi\" : \"\u0f42\", \"dogcan\" : \"\u0f61\"}, \"\u0f54\u0fb1\" : {\"gocan\" : \"\",\"mingzhi\" : \"\u0f54\", \"dogcan\" : \"\u0f61\"}, \"\u0f55\u0fb1\" : {\"gocan\" : \"\",\"mingzhi\" : \"\u0f55\", \"dogcan\" : \"\u0f61\"}, \"\u0f56\u0fb1\" : {\"gocan\" : \"\",\"mingzhi\" : \"\u0f56\", \"dogcan\" : \"\u0f61\"}, \"\u0f58\u0fb1\" : {\"gocan\" : \"\",\"mingzhi\" : \"\u0f58\", \"dogcan\" : \"\u0f61\"}, \"\u0f51\u0fb1\" : {\"gocan\" : \"\",\"mingzhi\" : \"\u0f51\", \"dogcan\" : \"\u0f61\"}, \"\u0f67\u0fb1\" : {\"gocan\" : \"\",\"mingzhi\" : \"\u0f67\", \"dogcan\" : \"\u0f61\"}}\n",
      "radogcan_parts = {\"gocan\" : \"\",\"\u0f40\u0fb2\" : {\"gocan\" : \"\", \"mingzhi\" : \"\u0f40\", \"dogcan\" : \"\u0f62\"}, \"\u0f41\u0fb2\" : {\"gocan\" : \"\",\"mingzhi\" : \"\u0f41\", \"dogcan\" : \"\u0f62\"}, \"\u0f42\u0fb2\" : {\"gocan\" : \"\",\"mingzhi\" : \"\u0f42\", \"dogcan\" : \"\u0f62\"}, \"\u0f4f\u0fb2\" : {\"gocan\" : \"\",\"mingzhi\" : \"\u0f4f\", \"dogcan\" : \"\u0f62\"}, \"\u0f50\u0fb2\" : {\"gocan\" : \"\",\"mingzhi\" : \"\u0f50\", \"dogcan\" : \"\u0f62\"}, \"\u0f51\u0fb2\" : {\"gocan\" : \"\",\"mingzhi\" : \"\u0f51\", \"dogcan\" : \"\u0f62\"}, \"\u0f54\u0fb2\" : {\"gocan\" : \"\",\"mingzhi\" : \"\u0f54\", \"dogcan\" : \"\u0f62\"}, \"\u0f55\u0fb2\" : {\"gocan\" : \"\",\"mingzhi\" : \"\u0f55\", \"dogcan\" : \"\u0f62\"}, \"\u0f56\u0fb2\" : {\"gocan\" : \"\",\"mingzhi\" : \"\u0f56\", \"dogcan\" : \"\u0f62\"}, \"\u0f58\u0fb2\" : {\"gocan\" : \"\",\"mingzhi\" : \"\u0f58\", \"dogcan\" : \"\u0f62\"}, \"\u0f66\u0fb2\" : {\"gocan\" : \"\",\"mingzhi\" : \"\u0f66\", \"dogcan\" : \"\u0f62\"}, \"\u0f67\u0fb2\" : {\"gocan\" : \"\",\"mingzhi\" : \"\u0f67\", \"dogcan\" : \"\u0f62\"}}\n",
      "ladogcan_parts = {\"\u0f40\u0fb3\" : {\"gocan\" : \"\",\"mingzhi\" : \"\u0f40\", \"dogcan\" : \"\u0f63\"}, \"\u0f42\u0fb3\" : {\"gocan\" : \"\",\"mingzhi\" : \"\u0f42\", \"dogcan\" : \"\u0f63\"}, \"\u0f56\u0fb3\" : {\"gocan\" : \"\",\"mingzhi\" : \"\u0f56\", \"dogcan\" : \"\u0f63\"}, \"\u0f5f\u0fb3\" : {\"gocan\" : \"\",\"mingzhi\" : \"\u0f5f\", \"dogcan\" : \"\u0f63\"}, \"\u0f62\u0fb3\" : {\"gocan\" : \"\",\"mingzhi\" : \"\u0f62\", \"dogcan\" : \"\u0f63\"}, \"\u0f66\u0fb3\" : {\"gocan\" : \"\",\"mingzhi\" : \"\u0f66\", \"dogcan\" : \"\u0f63\"}}\n",
      "yatagSumtseg_parts = {\"\u0f62\u0f90\u0fb1\" : {\"gocan\" : \"\u0f62\", \"mingzhi\" : \"\u0f40\", \"dogcan\" : \"\u0f61\"}, \"\u0f62\u0f92\u0fb1\" : {\"gocan\" : \"\u0f62\", \"mingzhi\" : \"\u0f42\", \"dogcan\" : \"\u0f61\"}, \"\u0f62\u0fa8\u0fb1\" : {\"gocan\" : \"\u0f62\", \"mingzhi\" : \"\u0f58\", \"dogcan\" : \"\u0f61\"}, \"\u0f66\u0f90\u0fb1\" : {\"gocan\" : \"\u0f66\", \"mingzhi\" : \"\u0f40\", \"dogcan\" : \"\u0f61\"}, \"\u0f66\u0f92\u0fb1\" : {\"gocan\" : \"\u0f66\", \"mingzhi\" : \"\u0f42\", \"dogcan\" : \"\u0f61\"}, \"\u0f66\u0fa4\u0fb1\" : {\"gocan\" : \"\u0f66\", \"mingzhi\" : \"\u0f54\", \"dogcan\" : \"\u0f61\"}, \"\u0f66\u0fa6\u0fb1\" : {\"gocan\" : \"\u0f66\", \"mingzhi\" : \"\u0f56\", \"dogcan\" : \"\u0f61\"}, \"\u0f66\u0fa8\u0fb1\" : {\"gocan\" : \"\u0f66\", \"mingzhi\" : \"\u0f58\", \"dogcan\" : \"\u0f61\"}}\n",
      "ratagSumtseg_parts = {\"\u0f66\u0f90\u0fb2\" : {\"gocan\" : \"\u0f66\", \"mingzhi\" : \"\u0f40\", \"dogcan\" : \"\u0f62\"}, \"\u0f66\u0f92\u0fb2\" : {\"gocan\" : \"\u0f66\", \"mingzhi\" : \"\u0f42\", \"dogcan\" : \"\u0f62\"}, \"\u0f66\u0fa3\u0fb2\" : {\"gocan\" : \"\u0f66\", \"mingzhi\" : \"\u0f53\", \"dogcan\" : \"\u0f62\"}, \"\u0f66\u0fa4\u0fb2\" : {\"gocan\" : \"\u0f66\", \"mingzhi\" : \"\u0f54\", \"dogcan\" : \"\u0f62\"}, \"\u0f66\u0fa6\u0fb2\" : {\"gocan\" : \"\u0f66\", \"mingzhi\" : \"\u0f56\", \"dogcan\" : \"\u0f62\"}, \"\u0f66\u0fa8\u0fb2\" : {\"gocan\" : \"\u0f66\", \"mingzhi\" : \"\u0f58\", \"dogcan\" : \"\u0f62\"}}\n",
      "all_parts_dict = {}\n",
      "for l in [salje_parts, ragocan_parts, lagocan_parts, sagocan_parts, yadogcan_parts, radogcan_parts, ladogcan_parts, yatagSumtseg_parts,ratagSumtseg_parts ]:\n",
      "    all_parts_dict.update(l)"
     ],
     "language": "python",
     "metadata": {},
     "outputs": [],
     "prompt_number": 41
    },
    {
     "cell_type": "code",
     "collapsed": false,
     "input": [
      "gePhulKyangpa11 = [\"\u0f45\", \"\u0f49\", \"\u0f4f\", \"\u0f51\", \"\u0f53\", \"\u0f59\", \"\u0f5e\", \"\u0f5f\", \"\u0f61\", \"\u0f64\", \"\u0f66\"]\n",
      "\n",
      "dePhulKyangpa6 = [\"\u0f40\", \"\u0f42\", \"\u0f44\", \"\u0f54\", \"\u0f56\", \"\u0f58\"]\n",
      "dePhulDogcan10 = [\"\u0f40\u0fb1\", \"\u0f40\u0fb2\", \"\u0f42\u0fb1\", \"\u0f42\u0fb2\", \"\u0f54\u0fb1\", \"\u0f54\u0fb2\", \"\u0f56\u0fb1\", \"\u0f56\u0fb2\", \"\u0f58\u0fb1\", \"\u0f58\u0fb2\"]\n",
      "\n",
      "bePhulKyangpa10 = [\"\u0f40\", \"\u0f42\", \"\u0f45\", \"\u0f4f\", \"\u0f51\", \"\u0f59\", \"\u0f5e\", \"\u0f5f\", \"\u0f64\", \"\u0f66\"]\n",
      "bePhulDogcan7 = [\"\u0f40\u0fb1\", \"\u0f40\u0fb2\", \"\u0f40\u0fb3\", \"\u0f42\u0fb1\", \"\u0f5f\u0fb3\", \"\u0f42\u0fb3\", \"\u0f42\u0fb2\"]\n",
      "bePhulRaGocan11 = [\"\u0f62\u0f90\", \"\u0f62\u0f92\", \"\u0f62\u0f94\", \"\u0f62\u0f97\", \"\u0f62\u0f99\", \"\u0f62\u0f9f\", \"\u0f62\u0f94\", \"\u0f62\u0fa3\", \"\u0f62\u0fa9\", \"\u0f62\u0fab\", \"\u0f62\u0fb3\"]\n",
      "bePhulLaGocan2 = [\"\u0f63\u0f9f\", \"\u0f63\u0fa1\"]\n",
      "bePhulSaGocan10 = [\"\u0f66\u0f90\", \"\u0f66\u0f92\", \"\u0f66\u0f94\", \"\u0f66\u0f99\", \"\u0f66\u0f9f\", \"\u0f66\u0fa1\", \"\u0f66\u0fa3\", \"\u0f66\u0fa9\", \"\u0f66\u0fb2\", \"\u0f66\u0fb3\"]\n",
      "bePhulSumtseg6 = [\"\u0f62\u0f90\u0fb1\", \"\u0f62\u0f92\u0fb1\", \"\u0f66\u0f90\u0fb1\", \"\u0f66\u0f90\u0fb2\", \"\u0f66\u0f92\u0fb1\", \"\u0f66\u0f92\u0fb2\"]\n",
      "\n",
      "mePhulKyangpa11 = [\"\u0f41\", \"\u0f42\", \"\u0f44\", \"\u0f46\", \"\u0f47\", \"\u0f49\", \"\u0f50\", \"\u0f51\", \"\u0f53\", \"\u0f5a\", \"\u0f5b\"]\n",
      "mePhulDogcan4 = [\"\u0f41\u0fb1\", \"\u0f41\u0fb2\", \"\u0f42\u0fb1\", \"\u0f42\u0fb2\"]\n",
      "\n",
      "ePhulKyangpa10 = [\"\u0f41\", \"\u0f42\", \"\u0f46\", \"\u0f47\", \"\u0f50\", \"\u0f51\", \"\u0f55\", \"\u0f56\", \"\u0f5a\", \"\u0f5b\"]\n",
      "ePhulDogcan9 = [\"\u0f41\u0fb1\", \"\u0f41\u0fb2\", \"\u0f42\u0fb1\", \"\u0f42\u0fb2\", \"\u0f51\u0fb2\", \"\u0f55\u0fb2\", \"\u0f55\u0fb1\", \"\u0f56\u0fb1\", \"\u0f56\u0fb2\"]\n",
      "\n",
      "gePhul11 = gePhulKyangpa11\n",
      "bePhul48 = bePhulKyangpa10 + bePhulDogcan7 + bePhulRaGocan11 + bePhulLaGocan2 + bePhulSaGocan10 + bePhulSumtseg6\n",
      "dePhul16 = dePhulKyangpa6 + dePhulDogcan10\n",
      "mePhul15 = mePhulKyangpa11 + mePhulDogcan4\n",
      "ePhul19 = ePhulKyangpa10 + ePhulDogcan9\n",
      "\n",
      "phulyig107 = gePhul11 + bePhul48 + dePhul16 + mePhul15 + ePhul19"
     ],
     "language": "python",
     "metadata": {},
     "outputs": [],
     "prompt_number": 42
    },
    {
     "cell_type": "code",
     "collapsed": false,
     "input": [
      "jejug10 = [\"\", \"\u0f42\", \"\u0f44\", \"\u0f51\", \"\u0f53\", \"\u0f56\", \"\u0f58\", \"\u0f60\", \"\u0f62\", \"\u0f63\", \"\u0f66\"]\n",
      "ngonjug5 = [\"\", \"\u0f42\", \"\u0f51\", \"\u0f56\", \"\u0f58\", \"\u0f60\"]\n",
      "yang4 = [\"\", \"\u0f72\", \"\u0f74\", \"\u0f7a\", \"\u0f7c\"] \n",
      "yangjug1 = [\"\", \"\u0f66\"]\n",
      "yangjugcan4 = [\"\u0f42\", \"\u0f44\", \"\u0f56\", \"\u0f58\"]"
     ],
     "language": "python",
     "metadata": {},
     "outputs": [],
     "prompt_number": 43
    },
    {
     "cell_type": "code",
     "collapsed": false,
     "input": [
      "syllables = []\n",
      "\n",
      "# [mingzhi+gocan+dogcan] > ngonjug > yang > jejug > yangjug > wazur\n",
      "for stack in kyangTsegDogKun:\n",
      "    ngonjug = \"\"\n",
      "    gocan = \"\"\n",
      "    mingzhi = \"\"\n",
      "    dogcan = \"\"\n",
      "    yang = \"\"\n",
      "    jejug = \"\"\n",
      "    yangjug = \"\"\n",
      "    \n",
      "    # 1. attribute values to the main stack of letter\n",
      "    gocan = all_parts_dict[stack][\"gocan\"]\n",
      "    mingzhi = all_parts_dict[stack][\"mingzhi\"]\n",
      "    dogcan = all_parts_dict[stack][\"dogcan\"]\n",
      "        \n",
      "    for n in ngonjug5:\n",
      "        # 2. attribute the right value to the prefix\n",
      "        if n == \"\u0f42\" and stack in gePhul11:\n",
      "            ngonjug = n\n",
      "        elif n == \"\u0f51\" and stack in dePhul16:\n",
      "            ngonjug = n\n",
      "        elif n == \"\u0f56\" and stack in bePhul48:\n",
      "            ngonjug = n\n",
      "        elif n == \"\u0f58\" and stack in mePhul15:\n",
      "            ngonjug = n\n",
      "        elif n == \"\u0f60\" and stack in ePhul19:\n",
      "            ngonjug = n\n",
      "            \n",
      "        for y in yang4:\n",
      "            # 3. attribute a value to the vowel\n",
      "            yang = y\n",
      "            \n",
      "            for j in jejug10:\n",
      "                # 4. attribute a value to the suffix\n",
      "                jejug = j\n",
      "                \n",
      "                for ya in yangjug1:\n",
      "                    # 5. attribute a value to the post-suffix or not\n",
      "                    if jejug in yangjugcan4:\n",
      "                        yangjug = ya\n",
      "                    \n",
      "                    # 6. adding a achung to cases where there is a prefix, \n",
      "                    #    a main letter but no suffix.\n",
      "                    # \u0f0d\u0f62\u0f90\u0fb1\u0f44\u0f0b\u0f54\u0f0b\u0f60\u0f55\u0f74\u0f63\u0f0b\u0f56\u0f0b\u0f60\u0f0b\u0f61\u0f72\u0f0b\u0f58\u0f50\u0f60\u0f0d \u0f0d\u0f51\u0f42\u0f7c\u0f66\u0f0b\u0f40\u0fb1\u0f72\u0f0b\u0f42\u0f74\u0f42\u0f0b\u0f66\u0f90\u0fb1\u0f7a\u0f51\u0f0b\u0f45\u0f53\u0f0b\u0f63\u0f0b\u0f58\u0f72\u0f53\u0f0d\n",
      "                    if jejug == \"\" and mingzhi != \"\" and ngonjug != \"\" and yang == \"\" and gocan == \"\" and dogcan == \"\":\n",
      "                        jejug = \"\u0f60\"\n",
      "                    \n",
      "                    # 7. removing unnecessary \u0f60\n",
      "                    if jejug == \"\u0f60\":\n",
      "                        if ngonjug == \"\" and gocan == \"\" and dogcan == \"\" and yang == \"\":\n",
      "                            jejug = \"\"\n",
      "                        elif yang != \"\":\n",
      "                            jejug = \"\"\n",
      "                        elif gocan != \"\" or dogcan != \"\":\n",
      "                            jejug = \"\"\n",
      "                        elif gocan != \"\" and dogcan != \"\":\n",
      "                            jejug = \"\"\n",
      "                    \n",
      "                    syllable = ngonjug+ stack  +yang+jejug+yangjug\n",
      "                    parts = {\"ngonjug\": ngonjug, \"gocan\": gocan, \"mingzhi\": mingzhi, \"dogcan\": dogcan, \"wazur\": \"\", \"yang_1\": yang, \"jejug\": jejug, \"yang_2\": \"\", \"yangjug\": yangjug}\n",
      "                    if syllable not in syllables :\n",
      "                        syllables.append((syllable, parts))\n",
      "                    yangjug = \"\"\n",
      "                jejug = \"\"\n",
      "            yang = \"\"\n",
      "\n",
      "# adding exceptions [\"\u0f58\u0f51\u0fb2\u0f7c\u0f53\", \"\u0f56\u0f42\u0fb3\", \"\u0f58\u0f51\u0fb2\", \"\u0f51\u0fad\u0f42\u0f66\", \"\u0f51\u0fad\u0f44\u0f66\", \"\u0f51\u0fad\u0f56\u0f66\", \"\u0f51\u0fad\u0f58\u0f66\", \"\u0f58\u0fad\u0f42\u0f66\", \"\u0f58\u0fad\u0f44\u0f66\", \"\u0f60\u0fad\u0f42\u0f66\", \"\u0f60\u0fad\u0f56\u0f66\"]\n",
      "migsel = [(\"\u0f58\u0f51\u0fb2\u0f7c\u0f53\" , {\"ngonjug\": \"\u0f58\", \"gocan\": \"\", \"mingzhi\": \"\u0f51\", \"dogcan\": \"\u0f62\", \"wazur\": \"\", \"yang_1\": \"\u0f7c\", \"jejug\": \"\u0f53\", \"yang_2\": \"\", \"yangjug\": \"\"}), (\"\u0f56\u0f42\u0fb3\" , {\"ngonjug\": \"\u0f56\", \"gocan\": \"\", \"mingzhi\": \"\u0f42\", \"dogcan\": \"\u0f63\", \"wazur\": \"\", \"yang_1\": \"\", \"jejug\": \"\", \"yang_2\": \"\", \"yangjug\": \"\"}), (\"\u0f58\u0f51\u0fb2\" , {\"ngonjug\": \"\u0f58\", \"gocan\": \"\", \"mingzhi\": \"\u0f51\", \"dogcan\": \"\u0f62\", \"wazur\": \"\", \"yang_1\": \"\", \"jejug\": \"\", \"yang_2\": \"\", \"yangjug\": \"\"}), (\"\u0f51\u0fad\u0f42\u0f66\" , {\"ngonjug\": \"\", \"gocan\": \"\", \"mingzhi\": \"\u0f51\", \"dogcan\": \"\", \"wazur\": \"\u0f5d\", \"yang_1\": \"\", \"jejug\": \"\u0f42\", \"yang_2\": \"\", \"yangjug\": \"\u0f66\"}), (\"\u0f51\u0fad\u0f44\u0f66\" , {\"ngonjug\": \"\", \"gocan\": \"\", \"mingzhi\": \"\u0f51\", \"dogcan\": \"\", \"wazur\": \"\u0f5d\", \"yang_1\": \"\", \"jejug\": \"\u0f44\", \"yang_2\": \"\", \"yangjug\": \"\u0f66\"}), (\"\u0f51\u0fad\u0f56\u0f66\" , {\"ngonjug\": \"\", \"gocan\": \"\", \"mingzhi\": \"\u0f51\", \"dogcan\": \"\", \"wazur\": \"\u0f5d\", \"yang_1\": \"\", \"jejug\": \"\u0f56\", \"yang_2\": \"\", \"yangjug\": \"\u0f66\"}), (\"\u0f51\u0fad\u0f58\u0f66\" , {\"ngonjug\": \"\", \"gocan\": \"\", \"mingzhi\": \"\u0f51\", \"dogcan\": \"\", \"wazur\": \"\u0f5d\", \"yang_1\": \"\", \"jejug\": \"\u0f58\", \"yang_2\": \"\", \"yangjug\": \"\u0f66\"}), (\"\u0f58\u0fad\u0f42\u0f66\" , {\"ngonjug\": \"\", \"gocan\": \"\", \"mingzhi\": \"\u0f58\", \"dogcan\": \"\", \"wazur\": \"\u0f5d\", \"yang_1\": \"\", \"jejug\": \"\u0f42\", \"yang_2\": \"\", \"yangjug\": \"\u0f66\"}), (\"\u0f58\u0fad\u0f44\u0f66\" , {\"ngonjug\": \"\", \"gocan\": \"\", \"mingzhi\": \"\u0f58\", \"dogcan\": \"\", \"wazur\": \"\u0f5d\", \"yang_1\": \"\", \"jejug\": \"\u0f44\", \"yang_2\": \"\", \"yangjug\": \"\u0f66\"}), (\"\u0f60\u0fad\u0f42\u0f66\" , {\"ngonjug\": \"\", \"gocan\": \"\", \"mingzhi\": \"\u0f60\", \"dogcan\": \"\", \"wazur\": \"\u0f5d\", \"yang_1\": \"\", \"jejug\": \"\u0f42\", \"yang_2\": \"\", \"yangjug\": \"\u0f66\"}), (\"\u0f60\u0fad\u0f56\u0f66\" , {\"ngonjug\": \"\", \"gocan\": \"\", \"mingzhi\": \"\u0f60\", \"dogcan\": \"\", \"wazur\": \"\u0f5d\", \"yang_1\": \"\", \"jejug\": \"\u0f56\", \"yang_2\": \"\", \"yangjug\": \"\u0f66\"})]\n",
      "for m in migsel:\n",
      "    syllables.append(m)"
     ],
     "language": "python",
     "metadata": {},
     "outputs": [],
     "prompt_number": 44
    },
    {
     "cell_type": "code",
     "collapsed": false,
     "input": [
      "syllables_singled = []\n",
      "for syl in syllables:\n",
      "    if syl not in syllables_singled:\n",
      "        syllables_singled.append(syl)\n",
      "print(len(syllables_singled))"
     ],
     "language": "python",
     "metadata": {},
     "outputs": [
      {
       "ename": "KeyboardInterrupt",
       "evalue": "",
       "output_type": "pyerr",
       "traceback": [
        "\u001b[1;31m---------------------------------------------------------------------------\u001b[0m\n\u001b[1;31mKeyboardInterrupt\u001b[0m                         Traceback (most recent call last)",
        "\u001b[1;32m<ipython-input-45-e6dce8da2aa9>\u001b[0m in \u001b[0;36m<module>\u001b[1;34m()\u001b[0m\n\u001b[0;32m      1\u001b[0m \u001b[0msyllables_singled\u001b[0m \u001b[1;33m=\u001b[0m \u001b[1;33m[\u001b[0m\u001b[1;33m]\u001b[0m\u001b[1;33m\u001b[0m\u001b[0m\n\u001b[0;32m      2\u001b[0m \u001b[1;32mfor\u001b[0m \u001b[0msyl\u001b[0m \u001b[1;32min\u001b[0m \u001b[0msyllables\u001b[0m\u001b[1;33m:\u001b[0m\u001b[1;33m\u001b[0m\u001b[0m\n\u001b[1;32m----> 3\u001b[1;33m     \u001b[1;32mif\u001b[0m \u001b[0msyl\u001b[0m \u001b[1;32mnot\u001b[0m \u001b[1;32min\u001b[0m \u001b[0msyllables_singled\u001b[0m\u001b[1;33m:\u001b[0m\u001b[1;33m\u001b[0m\u001b[0m\n\u001b[0m\u001b[0;32m      4\u001b[0m         \u001b[0msyllables_singled\u001b[0m\u001b[1;33m.\u001b[0m\u001b[0mappend\u001b[0m\u001b[1;33m(\u001b[0m\u001b[0msyl\u001b[0m\u001b[1;33m)\u001b[0m\u001b[1;33m\u001b[0m\u001b[0m\n\u001b[0;32m      5\u001b[0m \u001b[0mprint\u001b[0m\u001b[1;33m(\u001b[0m\u001b[0mlen\u001b[0m\u001b[1;33m(\u001b[0m\u001b[0msyllables_singled\u001b[0m\u001b[1;33m)\u001b[0m\u001b[1;33m)\u001b[0m\u001b[1;33m\u001b[0m\u001b[0m\n",
        "\u001b[1;31mKeyboardInterrupt\u001b[0m: "
       ]
      }
     ],
     "prompt_number": 45
    },
    {
     "cell_type": "code",
     "collapsed": false,
     "input": [
      "count = 0\n",
      "for nb, s in enumerate(syllables_singled):\n",
      "    if s[1][\"jejug\"] == \"\u0f60\" or s[1][\"jejug\"] == \"\":\n",
      "        #print(s)\n",
      "        print(s[0], end= \"\u0f0b \")\n",
      "        count = count + 1\n",
      "print()\n",
      "print(count)"
     ],
     "language": "python",
     "metadata": {},
     "outputs": []
    },
    {
     "cell_type": "code",
     "collapsed": false,
     "input": [
      "new_list = []\n",
      "#test= [('\u0f40\u0f72\u0f0b', {'ngonjug': '', 'yang_2': '', 'jejug': '', 'mingzhi': '\u0f40', 'yangjug': '', 'gocan': '', 'dogcan': '', 'yang_1': '\u0f72', 'wazur': ''}), ('\u0f40\u0f7c\u0f60\u0f0b', {'ngonjug': '', 'yang_2': '', 'jejug': '\u0f60', 'mingzhi': '\u0f40', 'yangjug': '', 'gocan': '', 'dogcan': '', 'yang_1': '\u0f7c', 'wazur': ''}), ('\u0f40\u0f74\u0f0b', {'ngonjug': '', 'yang_2': '', 'jejug': '', 'mingzhi': '\u0f40', 'yangjug': '', 'gocan': '', 'dogcan': '', 'yang_1': '\u0f74', 'wazur': ''})]\n",
      "for s in syllables_singled:\n",
      "    if s[1][\"jejug\"] == \"\u0f60\":\n",
      "        for y in [\"\u0f72\", \"\u0f7c\", \"\u0f74\"]:\n",
      "            parts = s[1]\n",
      "            parts[\"yang_2\"] = y\n",
      "            syllable = s[0].split(\"\u0f0b\")[0]+y+\"\u0f0b\"\n",
      "            new_list.append((syllable, parts))\n",
      "    if s[1][\"jejug\"] == \"\":\n",
      "        for y in [\"\u0f72\", \"\u0f7c\", \"\u0f74\"]:\n",
      "            parts = s[1]\n",
      "            parts[\"jejug\"] = \"\u0f60\"\n",
      "            parts[\"yang_2\"] = y \n",
      "            syllable = s[0].split(\"\u0f0b\")[0]+\"\u0f60\"+y+\"\u0f0b\"\n",
      "            new_list.append((syllable, parts))\n",
      "\n",
      "for n in new_list:\n",
      "    print(n[0], end=\" \")\n",
      "new_list[0]"
     ],
     "language": "python",
     "metadata": {},
     "outputs": []
    },
    {
     "cell_type": "code",
     "collapsed": false,
     "input": [
      "#searching for a syllable from a character included in it.\n",
      "\n",
      "count = 0\n",
      "for nb, s in enumerate(syllables_singled):\n",
      "    if \"\u0f58\" in s[0]: \n",
      "        print(s[0], end = \"\u0f0b \")\n",
      "        count = count + 1\n",
      "print()\n",
      "print(count)"
     ],
     "language": "python",
     "metadata": {},
     "outputs": []
    }
   ],
   "metadata": {}
  }
 ]
}