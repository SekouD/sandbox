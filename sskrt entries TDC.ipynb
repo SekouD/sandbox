{
 "cells": [
  {
   "cell_type": "code",
   "execution_count": 2,
   "metadata": {
    "collapsed": false
   },
   "outputs": [],
   "source": [
    "import codecs\n",
    "import re"
   ]
  },
  {
   "cell_type": "code",
   "execution_count": 6,
   "metadata": {
    "collapsed": false
   },
   "outputs": [],
   "source": [
    "with codecs.open('/home/drupchen/Documents/Copy/Esukhia-Shared/Ressources/dico-lexique - tib/RinpoSearch/Tsik Dzod Chenmo-uni.dict.txt', 'r', 'utf8') as f:\n",
    "    content = f.read().split('\\r\\n')\n",
    "    "
   ]
  },
  {
   "cell_type": "code",
   "execution_count": 7,
   "metadata": {
    "collapsed": false
   },
   "outputs": [
    {
     "data": {
      "text/plain": [
       "'ཀ་ཀ་ | ༡༽་སྐྱ་གའི་མིང་དང་དེའི་སྐད།༢༽་ལུག་གི་ཨ་ཅུག་གམ་ཐེ་གེ།༣༽་༼ཡུལ༽་བྱིས་ཆུང་གི་གྱོན་པ།'"
      ]
     },
     "execution_count": 7,
     "metadata": {},
     "output_type": "execute_result"
    }
   ],
   "source": [
    "content[1]"
   ]
  },
  {
   "cell_type": "code",
   "execution_count": 32,
   "metadata": {
    "collapsed": false
   },
   "outputs": [],
   "source": [
    "sskrt_entries = []\n",
    "for entry in content:\n",
    "    if '༼ལེགས༽' in entry:\n",
    "        sskrt_entries.append(entry)"
   ]
  },
  {
   "cell_type": "code",
   "execution_count": 33,
   "metadata": {
    "collapsed": false
   },
   "outputs": [],
   "source": [
    "entries = {}\n",
    "for entry in sskrt_entries:\n",
    "    parts = entry.split(' | ')\n",
    "    entries[parts[0]] = parts[1]"
   ]
  },
  {
   "cell_type": "code",
   "execution_count": 34,
   "metadata": {
    "collapsed": false
   },
   "outputs": [],
   "source": [
    "with codecs.open('sskrt_entries_bad.txt', 'w', 'utf8') as f:\n",
    "    for entry in sorted(entries.keys()):\n",
    "        f.write(entry+'\\n')"
   ]
  },
  {
   "cell_type": "code",
   "execution_count": null,
   "metadata": {
    "collapsed": false
   },
   "outputs": [],
   "source": []
  }
 ],
 "metadata": {
  "kernelspec": {
   "display_name": "Python 3",
   "language": "python",
   "name": "python3"
  },
  "language_info": {
   "codemirror_mode": {
    "name": "ipython",
    "version": 3
   },
   "file_extension": ".py",
   "mimetype": "text/x-python",
   "name": "python",
   "nbconvert_exporter": "python",
   "pygments_lexer": "ipython3",
   "version": "3.5.1"
  }
 },
 "nbformat": 4,
 "nbformat_minor": 0
}
