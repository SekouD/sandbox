{
 "cells": [
  {
   "cell_type": "code",
   "execution_count": 13,
   "metadata": {
    "collapsed": true
   },
   "outputs": [],
   "source": [
    "import re\n",
    "import os\n",
    "\n",
    "#############\n",
    "# Read the particles and exceptions files\n",
    "#############\n",
    "\n",
    "for file in os.listdir('./RULES/'):\n",
    "    if file.endswith(\".txt\"):\n",
    "        # read particles list\n",
    "        if file == 'particles.txt':\n",
    "            try:\n",
    "                with open('./RULES/' + file, 'r', -1, 'utf-8-sig') as f:\n",
    "                    particles = f.read().split('\\n')\n",
    "            except:\n",
    "                print(\"\\nSave the EXCEPTIONS file as UTF-8 and try again.\")\n",
    "                input()\n",
    "        # read exceptions list\n",
    "        elif file == 'exceptions.txt':\n",
    "            try:\n",
    "                with open('./RULES/' + file, 'r', -1, 'utf-8-sig') as f:\n",
    "                    content = f.read().split('#')\n",
    "            except:\n",
    "                print(\"\\nSave the PARTICLES file as UTF-8 and try again.\")\n",
    "                input()\n",
    "        else:\n",
    "            print('\\n'+file+' is not a supported file.')\n",
    "            input()\n",
    "    else:\n",
    "        print(\"\\nThe files with particles and exception rules must be raw text files.\")\n",
    "        input()"
   ]
  },
  {
   "cell_type": "code",
   "execution_count": 17,
   "metadata": {
    "collapsed": true
   },
   "outputs": [],
   "source": [
    "############\n",
    "# Prepare the regex including all particles and exceptions\n",
    "############\n",
    "\n",
    "# prepare the particles\n",
    "flexion = []\n",
    "for particle in particles:\n",
    "    if particle != '':\n",
    "        parts = particle.split('***')\n",
    "        flexion.append((parts[0], parts[1]))\n",
    "accords = {}\n",
    "for elt in flexion:\n",
    "    if elt[1] in accords:\n",
    "        accords[elt[1]] = accords[elt[1]]+elt[0]\n",
    "    else:\n",
    "        accords[elt[1]] = elt[0]\n",
    "\n",
    "# prepare the exceptions\n",
    "exceptions = {}\n",
    "for case in content:\n",
    "    exception = case.split('\\n')\n",
    "    if len(exception) == 3:\n",
    "        exceptions[exception[0]] = exception[1].split('***') "
   ]
  },
  {
   "cell_type": "code",
   "execution_count": 18,
   "metadata": {
    "collapsed": false
   },
   "outputs": [
    {
     "data": {
      "text/plain": [
       "{'གྱིས': ['', 'ཤིག|ལ']}"
      ]
     },
     "execution_count": 18,
     "metadata": {},
     "output_type": "execute_result"
    }
   ],
   "source": [
    "exceptions"
   ]
  },
  {
   "cell_type": "code",
   "execution_count": 16,
   "metadata": {
    "collapsed": false
   },
   "outputs": [
    {
     "data": {
      "text/plain": [
       "['', 'ཤིག|ལ']"
      ]
     },
     "execution_count": 16,
     "metadata": {},
     "output_type": "execute_result"
    }
   ],
   "source": [
    "'***ཤིག|ལ'.split('***')"
   ]
  },
  {
   "cell_type": "code",
   "execution_count": 20,
   "metadata": {
    "collapsed": false
   },
   "outputs": [
    {
     "name": "stdout",
     "output_type": "stream",
     "text": [
      "([^དབས]་ཀྱི[་༌།༎༏༐༑༔]+|[^གངབམའ]་སྟེ[་༌།༎༏༐༑༔]+|[^གདབ]་ཅིག[་༌།༎༏༐༑༔]+|[^ས]་ཤེའོ[་༌།༎༏༐༑༔]+|[^བ]་བམ[་༌།༎༏༐༑༔]+|[^འ]་རུ[་༌།༎༏༐༑༔]+|[^འ]་འང[་༌།༎༏༐༑༔]+|[^གདབསནམ]་པོ[་༌།༎༏༐༑༔]+|[^གདབ]་ཅིང[་༌།༎༏༐༑༔]+|[^ས]་སམ[་༌།༎༏༐༑༔]+|[^ང]་ངམ[་༌།༎༏༐༑༔]+|[^དབས]་ཀྱིས[་༌།༎༏༐༑༔]+|[^གབ]་ཏུ[་༌།༎༏༐༑༔]+|[^ངའརལ]་བ[་༌།༎༏༐༑༔]+|[^ས]་ཤིང[་༌།༎༏༐༑༔]+|[^ནམརལ]་གྱི[་༌།༎༏༐༑༔]+|[^འ]་ཡི[་༌།༎༏༐༑༔]+|[^གདབ]་ཅེས[་༌།༎༏༐༑༔]+|[^འ]་ཡིས[་༌།༎༏༐༑༔]+|[^ནརལས]་ཏེ[་༌།༎༏༐༑༔]+|[^གདབ]་ཅེའོ[་༌།༎༏༐༑༔]+|[^ད]་དེ[་༌།༎༏༐༑༔]+|[^གདབསནམ]་པ[་༌།༎༏༐༑༔]+|[^ག]་གོ[་༌།༎༏༐༑༔]+|[^ར]་རོ[་༌།༎༏༐༑༔]+|[^ངནམའརལ]་ཞིག[་༌།༎༏༐༑༔]+|[^ན]་ནོ[་༌།༎༏༐༑༔]+|[^ལ]་ལམ[་༌།༎༏༐༑༔]+|\n"
     ]
    },
    {
     "ename": "TypeError",
     "evalue": "Can't convert 'list' object to str implicitly",
     "output_type": "error",
     "traceback": [
      "\u001b[1;31m---------------------------------------------------------------------------\u001b[0m",
      "\u001b[1;31mTypeError\u001b[0m                                 Traceback (most recent call last)",
      "\u001b[1;32m<ipython-input-20-f88255ab37f4>\u001b[0m in \u001b[0;36m<module>\u001b[1;34m()\u001b[0m\n\u001b[0;32m     15\u001b[0m         \u001b[1;32mif\u001b[0m \u001b[0ml_context\u001b[0m \u001b[1;33m==\u001b[0m \u001b[1;34m''\u001b[0m\u001b[1;33m:\u001b[0m\u001b[1;33m\u001b[0m\u001b[0m\n\u001b[0;32m     16\u001b[0m             \u001b[0mprint\u001b[0m\u001b[1;33m(\u001b[0m\u001b[0mregex\u001b[0m\u001b[1;33m)\u001b[0m\u001b[1;33m\u001b[0m\u001b[0m\n\u001b[1;32m---> 17\u001b[1;33m             \u001b[0mregex\u001b[0m \u001b[1;33m+=\u001b[0m \u001b[1;34m'(?!'\u001b[0m\u001b[1;33m+\u001b[0m\u001b[0mexceptions\u001b[0m\u001b[1;33m[\u001b[0m\u001b[0mparticle\u001b[0m\u001b[1;33m]\u001b[0m\u001b[1;33m+\u001b[0m\u001b[1;34m')'\u001b[0m\u001b[1;33m\u001b[0m\u001b[0m\n\u001b[0m\u001b[0;32m     18\u001b[0m         \u001b[1;32melif\u001b[0m \u001b[0mr_context\u001b[0m \u001b[1;33m==\u001b[0m \u001b[1;34m''\u001b[0m\u001b[1;33m:\u001b[0m\u001b[1;33m\u001b[0m\u001b[0m\n\u001b[0;32m     19\u001b[0m             \u001b[0mtruc\u001b[0m\u001b[1;33m\u001b[0m\u001b[0m\n",
      "\u001b[1;31mTypeError\u001b[0m: Can't convert 'list' object to str implicitly"
     ]
    }
   ],
   "source": [
    "############\n",
    "# Create the regex\n",
    "############\n",
    "\n",
    "regex = '('\n",
    "for accord in accords.keys():\n",
    "    particle = accord\n",
    "    letters = accords[particle]\n",
    "    ###\n",
    "    # include exceptions where needed\n",
    "    if particle in exceptions:\n",
    "        context = exceptions[particle]\n",
    "        l_context = context[0]\n",
    "        r_context = context[1]\n",
    "        if l_context == '':\n",
    "            print(regex)\n",
    "            regex += '(?!'+exceptions[particle]+')'\n",
    "        elif r_context == '':\n",
    "            truc\n",
    "        elif l_context != '' and r_context != '':\n",
    "            truc        \n",
    "    else:\n",
    "        regex += '[^'+letters+']་'+particle+'[་༌།༎༏༐༑༔]+'\n",
    "\n",
    "    regex += '|'\n",
    "if regex.endswith('|'):\n",
    "    regex = regex[:-1] # removing the extra '|' character\n",
    "regex += ')'\n",
    "\n",
    "############\n",
    "# Applying the regex to the files in the IN folder\n",
    "############"
   ]
  },
  {
   "cell_type": "code",
   "execution_count": 9,
   "metadata": {
    "collapsed": false
   },
   "outputs": [],
   "source": [
    "# check file format, open and apply regex\n",
    "for file in os.listdir('./IN/'):\n",
    "    if file.endswith(\".txt\"):\n",
    "    #todo - replace \\n by \\s try: with open('drugs') as temp_file: \\n drugs = [line.rstrip('\\n') for line in temp_file]\n",
    "        try:\n",
    "            with open('./IN/' + file, 'r', -1, 'utf-8-sig') as f:\n",
    "                current_file = f.read()\n",
    "        except:\n",
    "            print(\"Save all IN files as UTF-8 and try again.\")\n",
    "            input()\n",
    "    else:\n",
    "        print(\"\\nSave all IN files as text files and try again.\")\n",
    "        input()\n",
    "\n",
    "    # apply regexes\n",
    "    marker = '༼༚༽'\n",
    "    current_file = re.sub(regex, r'\\1'+marker, current_file)\n",
    "\n",
    "    # write a new file\n",
    "    with open('./OUT/' + 'new_' + file, 'w', -1, 'utf-8-sig') as f:\n",
    "        f.write(current_file)"
   ]
  },
  {
   "cell_type": "code",
   "execution_count": null,
   "metadata": {
    "collapsed": true
   },
   "outputs": [],
   "source": []
  }
 ],
 "metadata": {
  "kernelspec": {
   "display_name": "Python 3",
   "language": "python",
   "name": "python3"
  },
  "language_info": {
   "codemirror_mode": {
    "name": "ipython",
    "version": 3
   },
   "file_extension": ".py",
   "mimetype": "text/x-python",
   "name": "python",
   "nbconvert_exporter": "python",
   "pygments_lexer": "ipython3",
   "version": "3.5.1"
  }
 },
 "nbformat": 4,
 "nbformat_minor": 0
}
