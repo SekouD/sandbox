{
 "metadata": {
  "name": "",
  "signature": "sha256:44f4ee090f772822c4a25918728528379ef6e4c0cfaacec7aa1cadd4a31372db"
 },
 "nbformat": 3,
 "nbformat_minor": 0,
 "worksheets": [
  {
   "cells": [
    {
     "cell_type": "code",
     "collapsed": false,
     "input": [
      "# align in columns different lists\n",
      "names = [\"a\", \"b\", \"c\", \"8\"]\n",
      "values = [1, 2, 3, 7]\n",
      "truc = [4, 5, 6, 8]\n",
      "for name, value, tr in zip(names, values, truc):\n",
      "    print (name+\"\\t\"+str(value)+\"\\t\"+str(tr))"
     ],
     "language": "python",
     "metadata": {},
     "outputs": []
    },
    {
     "cell_type": "code",
     "collapsed": false,
     "input": [
      "# open a file\n",
      "with codecs.open('', 'r', 'utf-8') as f: # 'w' instead of 'r' for writing a file\n",
      "    input_file = f.read() # readlines()"
     ],
     "language": "python",
     "metadata": {},
     "outputs": []
    },
    {
     "cell_type": "code",
     "collapsed": false,
     "input": [],
     "language": "python",
     "metadata": {},
     "outputs": []
    }
   ],
   "metadata": {}
  }
 ]
}