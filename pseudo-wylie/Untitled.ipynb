{
 "cells": [
  {
   "cell_type": "code",
   "execution_count": 10,
   "metadata": {
    "collapsed": false
   },
   "outputs": [],
   "source": [
    "from TibProcessing import *\n",
    "import time"
   ]
  },
  {
   "cell_type": "code",
   "execution_count": 11,
   "metadata": {
    "collapsed": false
   },
   "outputs": [
    {
     "ename": "AttributeError",
     "evalue": "module 'TibProcessing' has no attribute 'AntTib'",
     "output_type": "error",
     "traceback": [
      "\u001b[1;31m---------------------------------------------------------------------------\u001b[0m",
      "\u001b[1;31mAttributeError\u001b[0m                            Traceback (most recent call last)",
      "\u001b[1;32m<ipython-input-11-6ef2a659f071>\u001b[0m in \u001b[0;36m<module>\u001b[1;34m()\u001b[0m\n\u001b[0;32m      1\u001b[0m \u001b[0mtext\u001b[0m \u001b[1;33m=\u001b[0m \u001b[1;34m'༄༅།     །འཕགས་པ་ ཤེས་རབ་ ཀྱི་ ཕ་རོལ་ ཏུ་ ཕྱིན་པ་ འབུམ་པ་ དང༌༔  ཉི་ཁྲི་ ལྔ་ སྟོང་པ་ དང།  ཁྲི་ བརྒྱད་སྟོང་པའི་ རྒྱ་ ཆེར་ བཤད་པ༎ ༄༅༅། །འཕགས་པ་ ཤེས་རབ་ ཀྱི་ ཕ་རོལ་ ཏུ་ ཕྱིན་པ་ འབུམ་པ་ དང༌། །ཉི་ཁྲི་ ལྔ་ སྟོང་པ་ དང༌ ། ཁྲི་ བརྒྱད་སྟོང་པའི་ རྒྱ་ ཆེར་ བཤད་པ།'\u001b[0m\u001b[1;33m\u001b[0m\u001b[0m\n\u001b[0;32m      2\u001b[0m \u001b[1;33m\u001b[0m\u001b[0m\n\u001b[1;32m----> 3\u001b[1;33m \u001b[0mpw\u001b[0m \u001b[1;33m=\u001b[0m \u001b[0mtp\u001b[0m\u001b[1;33m.\u001b[0m\u001b[0mAntTib\u001b[0m\u001b[1;33m(\u001b[0m\u001b[1;33m)\u001b[0m\u001b[1;33m\u001b[0m\u001b[0m\n\u001b[0m\u001b[0;32m      4\u001b[0m \u001b[0mno\u001b[0m \u001b[1;33m=\u001b[0m \u001b[0mpw\u001b[0m\u001b[1;33m.\u001b[0m\u001b[0mno_space\u001b[0m\u001b[1;33m(\u001b[0m\u001b[0mtext\u001b[0m\u001b[1;33m)\u001b[0m\u001b[1;33m\u001b[0m\u001b[0m\n\u001b[0;32m      5\u001b[0m \u001b[0mpseudo\u001b[0m \u001b[1;33m=\u001b[0m \u001b[0mpw\u001b[0m\u001b[1;33m.\u001b[0m\u001b[0mto_pw_text\u001b[0m\u001b[1;33m(\u001b[0m\u001b[0mtext\u001b[0m\u001b[1;33m)\u001b[0m\u001b[1;33m\u001b[0m\u001b[0m\n",
      "\u001b[1;31mAttributeError\u001b[0m: module 'TibProcessing' has no attribute 'AntTib'"
     ]
    }
   ],
   "source": [
    "text = '༄༅།\t།འཕགས་པ་ ཤེས་རབ་ ཀྱི་ ཕ་རོལ་ ཏུ་ ཕྱིན་པ་ འབུམ་པ་ དང༌༔  ཉི་ཁྲི་ ལྔ་ སྟོང་པ་ དང།  ཁྲི་ བརྒྱད་སྟོང་པའི་ རྒྱ་ ཆེར་ བཤད་པ༎ ༄༅༅། །འཕགས་པ་ ཤེས་རབ་ ཀྱི་ ཕ་རོལ་ ཏུ་ ཕྱིན་པ་ འབུམ་པ་ དང༌། །ཉི་ཁྲི་ ལྔ་ སྟོང་པ་ དང༌ ། ཁྲི་ བརྒྱད་སྟོང་པའི་ རྒྱ་ ཆེར་ བཤད་པ།'\n",
    "\n",
    "pw = tp.AntTib()\n",
    "no = pw.no_space(text)\n",
    "pseudo = pw.to_pw_text(text)\n",
    "uni = pw.from_pw_text(pseudo)\n",
    "nospace = pw.no_space(uni)\n",
    "\n",
    "print('original text :\\n',text)\n",
    "print('no space original text :\\n', no)\n",
    "print('pseudo-wylie :\\n', pseudo)\n",
    "print('back to uni :\\n', uni)\n",
    "print('no space uni :\\n', nospace)"
   ]
  },
  {
   "cell_type": "code",
   "execution_count": null,
   "metadata": {
    "collapsed": true
   },
   "outputs": [],
   "source": [
    "mzh = Mingzhi()\n",
    "par = SylComponents().get('མངས')\n",
    "print(mzh.get(par))"
   ]
  },
  {
   "cell_type": "code",
   "execution_count": null,
   "metadata": {
    "collapsed": true
   },
   "outputs": [],
   "source": []
  },
  {
   "cell_type": "code",
   "execution_count": null,
   "metadata": {
    "collapsed": true
   },
   "outputs": [],
   "source": [
    "with open('../../../TibTAL/resources/wylie/ཤེར་ཕྱིན།ཕ།-_clean.txt', 'r', -1, 'utf-8-sig') as f:\n",
    "    content = f.read()\n",
    "o = time.time()\n",
    "ps = pw.to_pw_text(content)\n",
    "t = time.time()\n",
    "print(t - o)"
   ]
  },
  {
   "cell_type": "code",
   "execution_count": null,
   "metadata": {
    "collapsed": true
   },
   "outputs": [],
   "source": [
    "a = time.time()\n",
    "un = pw.from_pw_text(ps)\n",
    "b = time.time()\n",
    "print(b - a)"
   ]
  }
 ],
 "metadata": {
  "kernelspec": {
   "display_name": "Python 3",
   "language": "python",
   "name": "python3"
  },
  "language_info": {
   "codemirror_mode": {
    "name": "ipython",
    "version": 3
   },
   "file_extension": ".py",
   "mimetype": "text/x-python",
   "name": "python",
   "nbconvert_exporter": "python",
   "pygments_lexer": "ipython3",
   "version": "3.5.1"
  }
 },
 "nbformat": 4,
 "nbformat_minor": 0
}
