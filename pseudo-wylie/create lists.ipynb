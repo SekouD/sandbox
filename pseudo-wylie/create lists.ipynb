{
 "cells": [
  {
   "cell_type": "code",
   "execution_count": 1,
   "metadata": {
    "collapsed": true
   },
   "outputs": [],
   "source": [
    "with open('./Unicode Tibetan - Lists Uni to Pseudo.csv', 'r', -1, 'utf-8-sig') as f:\n",
    "    csv = [line.strip() for line in f.readlines()]"
   ]
  },
  {
   "cell_type": "code",
   "execution_count": 11,
   "metadata": {
    "collapsed": false
   },
   "outputs": [],
   "source": [
    "roots = {}\n",
    "suffixA = {}\n",
    "suffixNB = {}\n",
    "suffixC = {}\n",
    "rareC = {}\n",
    "wazurC = {}\n",
    "wazur = {}\n",
    "for line in csv[1:]:\n",
    "    parts = line.split(',')\n",
    "    \n",
    "    rootbo = parts[0].replace('/A', '').replace('/NB', '')\n",
    "    rootwy = parts[1].replace('/A', '').replace('/NB', '')\n",
    "    if rootbo != '':\n",
    "        roots[rootbo] = rootwy\n",
    "    \n",
    "    suffAbo = parts[3]\n",
    "    suffAwy = parts[4]\n",
    "    if suffAbo != '':\n",
    "        suffixA[suffAbo] = suffAwy\n",
    "    \n",
    "    suffNBbo = parts[5]\n",
    "    suffNBwy = parts[6]\n",
    "    if suffNBbo != '':\n",
    "        suffixNB[suffNBbo] = suffNBwy\n",
    "    \n",
    "    suffCbo = parts[7]\n",
    "    suffCwy = parts[8]\n",
    "    if suffCbo != '':\n",
    "        suffixC[suffCbo] = suffCwy\n",
    "    \n",
    "    rareCbo = parts[10].replace('/C', '')\n",
    "    rareCwy = parts[11].replace('/C', '')\n",
    "    if rareCbo != '':\n",
    "        rareC[rareCbo] = rareCwy\n",
    "    \n",
    "    wazurCbo = parts[13].replace('/C', '')\n",
    "    wazurCwy = parts[14].replace('/C', '')\n",
    "    if wazurCbo != '':\n",
    "        wazurC[wazurCbo] = wazurCwy\n",
    "    \n",
    "    wazurbo = parts[15]\n",
    "    wazurwy = parts[16]\n",
    "    if wazurbo != '':\n",
    "        wazur[wazurbo] = wazurwy"
   ]
  },
  {
   "cell_type": "code",
   "execution_count": 20,
   "metadata": {
    "collapsed": false
   },
   "outputs": [
    {
     "name": "stdout",
     "output_type": "stream",
     "text": [
      "{'ཧྭག': 'hwag', 'ཀྭས': 'kwas', 'ཁྭངས': 'khwangs', 'ཧྭང': 'hwang', 'ཀྭན': 'kwan', 'དྭགས': 'dwags', 'ཧྭགས': 'hwags', 'དྭངས': 'dwangs', 'ཏྭོན': 'twon'}\n"
     ]
    }
   ],
   "source": [
    "print(wazur)"
   ]
  },
  {
   "cell_type": "code",
   "execution_count": null,
   "metadata": {
    "collapsed": true
   },
   "outputs": [],
   "source": []
  }
 ],
 "metadata": {
  "kernelspec": {
   "display_name": "Python 3",
   "language": "python",
   "name": "python3"
  },
  "language_info": {
   "codemirror_mode": {
    "name": "ipython",
    "version": 3
   },
   "file_extension": ".py",
   "mimetype": "text/x-python",
   "name": "python",
   "nbconvert_exporter": "python",
   "pygments_lexer": "ipython3",
   "version": "3.5.1"
  }
 },
 "nbformat": 4,
 "nbformat_minor": 0
}
