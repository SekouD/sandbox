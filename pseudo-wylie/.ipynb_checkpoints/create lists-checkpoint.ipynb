{
 "cells": [
  {
   "cell_type": "code",
   "execution_count": 12,
   "metadata": {
    "collapsed": true
   },
   "outputs": [],
   "source": [
    "with open('./Unicode Tibetan - Lists Uni to Pseudo.csv', 'r', -1, 'utf-8-sig') as f:\n",
    "    csv = [line.strip() for line in f.readlines()]"
   ]
  },
  {
   "cell_type": "code",
   "execution_count": 19,
   "metadata": {
    "collapsed": false
   },
   "outputs": [
    {
     "name": "stdout",
     "output_type": "stream",
     "text": [
      "ཀ/A k/A\n",
      "ག ag\n",
      "འ av\n",
      "འི avi\n",
      "བྲའོ/C bravo/C\n",
      "ཀྭ/C kwa/C\n"
     ]
    }
   ],
   "source": [
    "roots = {}\n",
    "suffixA = {}\n",
    "suffixNB = {}\n",
    "suffixC = {}\n",
    "rareC = {}\n",
    "wazurC = {}\n",
    "wazur = {}\n",
    "for line in csv[1:2]:\n",
    "    parts = line.split(',')\n",
    "    \n",
    "    rootbo = parts[0]\n",
    "    rootwy = parts[1]\n",
    "    print(rootbo, rootwy)\n",
    "    \n",
    "    suffAbo = parts[3]\n",
    "    suffAwy = parts[4]\n",
    "    print(suffAbo, suffAwy)\n",
    "    \n",
    "    suffNBbo = parts[5]\n",
    "    suffNBwy = parts[6]\n",
    "    print(suffNBbo, suffNBwy)\n",
    "    \n",
    "    suffCbo = parts[7]\n",
    "    suffCwy = parts[8]\n",
    "    print(suffCbo, suffCwy)\n",
    "    \n",
    "    rareCbo = parts[10]\n",
    "    rareCwy = parts[11]\n",
    "    print(rareCbo, rareCwy)\n",
    "    \n",
    "    wazurbo = parts[13]\n",
    "    wazurwy = parts[14]\n",
    "    print(wazurbo, wazurwy)"
   ]
  },
  {
   "cell_type": "code",
   "execution_count": null,
   "metadata": {
    "collapsed": true
   },
   "outputs": [],
   "source": []
  }
 ],
 "metadata": {
  "kernelspec": {
   "display_name": "Python 3",
   "language": "python",
   "name": "python3"
  },
  "language_info": {
   "codemirror_mode": {
    "name": "ipython",
    "version": 3
   },
   "file_extension": ".py",
   "mimetype": "text/x-python",
   "name": "python",
   "nbconvert_exporter": "python",
   "pygments_lexer": "ipython3",
   "version": "3.5.1"
  }
 },
 "nbformat": 4,
 "nbformat_minor": 0
}
